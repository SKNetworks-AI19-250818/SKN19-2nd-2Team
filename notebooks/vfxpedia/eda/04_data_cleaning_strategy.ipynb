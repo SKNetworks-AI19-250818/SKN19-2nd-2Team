﻿{
 "cells": [
  {
   "cell_type": "markdown",
   "metadata": {},
   "source": [
    "# 특수코드 처리 전략 및 데이터 정제\n",
    "\n",
    "응답거부, 모름, 비해당 등 특수코드를 체계적으로 처리합니다."
   ]
  },
  {
   "cell_type": "code",
   "execution_count": null,
   "metadata": {},
   "outputs": [
    {
     "name": "stdout",
     "output_type": "stream",
     "text": [
      "원본 데이터: 89,822건\n",
      "전체 금연 성공률: 54.83%\n"
     ]
    }
   ],
   "source": [
    "import sys\n",
    "import os\n",
    "\n",
    "# 프로젝트 루트를 Python 경로에 추가\n",
    "project_root = os.path.abspath('../../..')\n",
    "if project_root not in sys.path:\n",
    "    sys.path.insert(0, project_root)\n",
    "\n",
    "import pandas as pd\n",
    "import numpy as np\n",
    "import matplotlib.pyplot as plt\n",
    "import seaborn as sns\n",
    "\n",
    "plt.rcParams['font.family'] = 'Malgun Gothic'\n",
    "plt.rcParams['axes.unicode_minus'] = False\n",
    "\n",
    "# 데이터 로드\n",
    "df = pd.read_csv('../../../data/analy_data.csv')\n",
    "print(f\"원본 데이터: {len(df):,}건\")\n",
    "print(f\"전체 금연 성공률: {df['churn'].mean()*100:.2f}%\")"
   ]
  },
  {
   "cell_type": "markdown",
   "metadata": {},
   "source": [
    "## 1. 특수코드 현황 파악"
   ]
  },
  {
   "cell_type": "code",
   "execution_count": 2,
   "metadata": {},
   "outputs": [
    {
     "name": "stdout",
     "output_type": "stream",
     "text": [
      "================================================================================\n",
      "📊 변수별 특수코드 현황\n",
      "================================================================================\n",
      "\n",
      "### sob_01z1\n",
      "  응답거부       (코드 77):     33건 ( 0.04%)\n",
      "  모름         (코드 99):      1건 ( 0.00%)\n",
      "  [합계]              :     34건 ( 0.04%)\n",
      "\n",
      "### sob_02z1\n",
      "  응답거부       (코드  7):     33건 ( 0.04%)\n",
      "  비해당        (코드  8):  1,519건 ( 1.69%)\n",
      "  모름         (코드  9):      1건 ( 0.00%)\n",
      "  [합계]              :  1,553건 ( 1.73%)\n",
      "\n",
      "### soa_01z1\n",
      "  응답거부       (코드  7):      1건 ( 0.00%)\n",
      "  모름         (코드  9):      3건 ( 0.00%)\n",
      "  [합계]              :      4건 ( 0.00%)\n",
      "\n",
      "### soa_06z2\n",
      "  응답거부       (코드 77):      9건 ( 0.01%)\n",
      "  비해당        (코드 88): 24,995건 (27.83%)\n",
      "  모름         (코드 99):      4건 ( 0.00%)\n",
      "  [합계]              : 25,008건 (27.84%)\n",
      "\n",
      "### soa_07z1\n",
      "  응답거부       (코드  7):      9건 ( 0.01%)\n",
      "  비해당        (코드  8): 24,995건 (27.83%)\n",
      "  모름         (코드  9):      4건 ( 0.00%)\n",
      "  [합계]              : 25,008건 (27.84%)\n",
      "\n",
      "### sod_02z3\n",
      "  응답거부       (코드  7):     15건 ( 0.02%)\n",
      "  모름         (코드  9):      2건 ( 0.00%)\n",
      "  [합계]              :     17건 ( 0.02%)\n",
      "\n",
      "================================================================================\n",
      "      변수 특수코드  코드값    건수 비율(%)\n",
      "sob_01z1 응답거부   77    33  0.04\n",
      "sob_01z1   모름   99     1  0.00\n",
      "sob_02z1 응답거부    7    33  0.04\n",
      "sob_02z1  비해당    8  1519  1.69\n",
      "sob_02z1   모름    9     1  0.00\n",
      "soa_01z1 응답거부    7     1  0.00\n",
      "soa_01z1   모름    9     3  0.00\n",
      "soa_06z2 응답거부   77     9  0.01\n",
      "soa_06z2  비해당   88 24995 27.83\n",
      "soa_06z2   모름   99     4  0.00\n",
      "soa_07z1 응답거부    7     9  0.01\n",
      "soa_07z1  비해당    8 24995 27.83\n",
      "soa_07z1   모름    9     4  0.00\n",
      "sod_02z3 응답거부    7    15  0.02\n",
      "sod_02z3   모름    9     2  0.00\n"
     ]
    }
   ],
   "source": [
    "# 변수별 특수코드 정의\n",
    "special_codes_map = {\n",
    "    'sob_01z1': {'응답거부': 77, '모름': 99},\n",
    "    'sob_02z1': {'응답거부': 7, '비해당': 8, '모름': 9},\n",
    "    'soa_01z1': {'응답거부': 7, '모름': 9},\n",
    "    'soa_06z2': {'응답거부': 77, '비해당': 88, '모름': 99},\n",
    "    'soa_07z1': {'응답거부': 7, '비해당': 8, '모름': 9},\n",
    "    'sod_02z3': {'응답거부': 7, '모름': 9}\n",
    "}\n",
    "\n",
    "print(\"=\"*80)\n",
    "print(\"📊 변수별 특수코드 현황\")\n",
    "print(\"=\"*80)\n",
    "\n",
    "special_summary = []\n",
    "\n",
    "for var, codes in special_codes_map.items():\n",
    "    print(f\"\\n### {var}\")\n",
    "    var_total = 0\n",
    "    \n",
    "    for label, code in codes.items():\n",
    "        count = (df[var] == code).sum()\n",
    "        pct = count / len(df) * 100\n",
    "        var_total += count\n",
    "        print(f\"  {label:10} (코드 {code:2}): {count:6,}건 ({pct:5.2f}%)\")\n",
    "        \n",
    "        special_summary.append({\n",
    "            '변수': var,\n",
    "            '특수코드': label,\n",
    "            '코드값': code,\n",
    "            '건수': count,\n",
    "            '비율(%)': f\"{pct:.2f}\"\n",
    "        })\n",
    "    \n",
    "    print(f\"  {'[합계]':10}        : {var_total:6,}건 ({var_total/len(df)*100:5.2f}%)\")\n",
    "\n",
    "special_df = pd.DataFrame(special_summary)\n",
    "print(\"\\n\" + \"=\"*80)\n",
    "print(special_df.to_string(index=False))"
   ]
  },
  {
   "cell_type": "markdown",
   "metadata": {},
   "source": [
    "## 2. 처리 전략 수립"
   ]
  },
  {
   "cell_type": "code",
   "execution_count": 3,
   "metadata": {},
   "outputs": [
    {
     "name": "stdout",
     "output_type": "stream",
     "text": [
      "\n",
      "================================================================================\n",
      "🎯 특수코드 처리 전략\n",
      "================================================================================\n",
      "\n",
      "### 전략 1: 응답거부 / 모름 → 무조건 제거 ✅\n",
      "  - 이유: 비율이 극히 낮음 (0.0~0.1%)\n",
      "  - 영향: 통계적으로 미미\n",
      "  - 변수: 모든 변수 적용\n",
      "\n",
      "### 전략 2: 비해당 처리 → 변수별 차별화 ⚠️\n",
      "\n",
      "  A) sob_02z1 (졸업여부) - 비해당 4.3%\n",
      "     → 처리: 제거\n",
      "     → 이유: 재학/휴학생의 경우, 표본 손실 수용 가능\n",
      "\n",
      "  B) soa_06z2, soa_07z1 (직업/종사상지위) - 비해당 35.6%\n",
      "     → 처리: 별도 카테고리 유지 \"비경제활동인구\"\n",
      "     → 이유: \n",
      "        * 35.6% 제거시 표본 손실 너무 큼\n",
      "        * \"비경제활동\"은 의미 있는 분석 대상\n",
      "        * 실업자, 주부, 학생, 은퇴자 등 포함\n",
      "\n",
      "### 전략 3: 결측값(NaN) → 제거\n",
      "  - churn이 없는 경우도 제거\n",
      "\n",
      "================================================================================\n"
     ]
    }
   ],
   "source": [
    "print(\"\\n\" + \"=\"*80)\n",
    "print(\"🎯 특수코드 처리 전략\")\n",
    "print(\"=\"*80)\n",
    "\n",
    "print(\"\"\"\n",
    "### 전략 1: 응답거부 / 모름 → 무조건 제거 ✅\n",
    "  - 이유: 비율이 극히 낮음 (0.0~0.1%)\n",
    "  - 영향: 통계적으로 미미\n",
    "  - 변수: 모든 변수 적용\n",
    "\n",
    "### 전략 2: 비해당 처리 → 변수별 차별화 ⚠️\n",
    "\n",
    "  A) sob_02z1 (졸업여부) - 비해당 4.3%\n",
    "     → 처리: 제거\n",
    "     → 이유: 재학/휴학생의 경우, 표본 손실 수용 가능\n",
    "  \n",
    "  B) soa_06z2, soa_07z1 (직업/종사상지위) - 비해당 35.6%\n",
    "     → 처리: 별도 카테고리 유지 \"비경제활동인구\"\n",
    "     → 이유: \n",
    "        * 35.6% 제거시 표본 손실 너무 큼\n",
    "        * \"비경제활동\"은 의미 있는 분석 대상\n",
    "        * 실업자, 주부, 학생, 은퇴자 등 포함\n",
    "\n",
    "### 전략 3: 결측값(NaN) → 제거\n",
    "  - churn이 없는 경우도 제거\n",
    "\"\"\")\n",
    "\n",
    "print(\"=\"*80)"
   ]
  },
  {
   "cell_type": "markdown",
   "metadata": {},
   "source": [
    "## 3. 데이터 정제 실행"
   ]
  },
  {
   "cell_type": "code",
   "execution_count": 4,
   "metadata": {},
   "outputs": [
    {
     "name": "stdout",
     "output_type": "stream",
     "text": [
      "================================================================================\n",
      "🔧 데이터 정제 진행\n",
      "================================================================================\n",
      "\n",
      "Step 0: churn 결측값 제거\n",
      "  제거 전: 89,822건\n",
      "  제거 후: 89,822건\n",
      "  제거량: 0건\n",
      "\n",
      "Step 1: 응답거부/모름 제거\n",
      "  sob_01z1 - 응답거부(77): 33건 제거\n",
      "  sob_01z1 - 모름(99): 1건 제거\n",
      "  soa_01z1 - 응답거부(7): 1건 제거\n",
      "  soa_01z1 - 모름(9): 3건 제거\n",
      "  soa_06z2 - 응답거부(77): 8건 제거\n",
      "  soa_06z2 - 모름(99): 1건 제거\n",
      "  soa_07z1 - 응답거부(7): 1건 제거\n",
      "  soa_07z1 - 모름(9): 1건 제거\n",
      "  sod_02z3 - 응답거부(7): 14건 제거\n",
      "  sod_02z3 - 모름(9): 2건 제거\n",
      "  총 제거: 65건\n",
      "  현재 데이터: 89,757건\n",
      "\n",
      "Step 2: sob_02z1 (졸업여부) 비해당 제거\n",
      "  제거: 1,517건\n",
      "  현재 데이터: 88,240건\n",
      "\n",
      "Step 3: soa_06z2, soa_07z1 비해당 처리\n",
      "  처리 방법: 별도 카테고리로 유지 (제거하지 않음)\n",
      "  비경제활동인구: 23,981건 (27.2%)\n",
      "\n",
      "Step 4: 나머지 결측값 제거\n",
      "  제거: 0건\n",
      "  현재 데이터: 88,240건\n",
      "\n",
      "================================================================================\n",
      "✅ 데이터 정제 완료\n",
      "================================================================================\n",
      "\n",
      "원본 데이터:   89,822건\n",
      "정제 데이터:   88,240건\n",
      "제거된 데이터: 1,582건 (1.8%)\n",
      "\n",
      "금연 성공률 (원본): 54.83%\n",
      "금연 성공률 (정제): 54.58%\n"
     ]
    }
   ],
   "source": [
    "# 원본 백업\n",
    "df_original = df.copy()\n",
    "df_clean = df.copy()\n",
    "\n",
    "print(\"=\"*80)\n",
    "print(\"🔧 데이터 정제 진행\")\n",
    "print(\"=\"*80)\n",
    "\n",
    "# Step 0: churn 결측값 제거\n",
    "df_clean = df_clean[df_clean['churn'].notna()]\n",
    "print(f\"\\nStep 0: churn 결측값 제거\")\n",
    "print(f\"  제거 전: {len(df_original):,}건\")\n",
    "print(f\"  제거 후: {len(df_clean):,}건\")\n",
    "print(f\"  제거량: {len(df_original) - len(df_clean):,}건\")\n",
    "\n",
    "# Step 1: 응답거부/모름 제거\n",
    "print(f\"\\nStep 1: 응답거부/모름 제거\")\n",
    "before_count = len(df_clean)\n",
    "\n",
    "for var, codes in special_codes_map.items():\n",
    "    for label, code in codes.items():\n",
    "        if label in ['응답거부', '모름']:\n",
    "            removed = (df_clean[var] == code).sum()\n",
    "            df_clean = df_clean[df_clean[var] != code]\n",
    "            if removed > 0:\n",
    "                print(f\"  {var} - {label}({code}): {removed:,}건 제거\")\n",
    "\n",
    "print(f\"  총 제거: {before_count - len(df_clean):,}건\")\n",
    "print(f\"  현재 데이터: {len(df_clean):,}건\")\n",
    "\n",
    "# Step 2: sob_02z1 비해당 제거\n",
    "print(f\"\\nStep 2: sob_02z1 (졸업여부) 비해당 제거\")\n",
    "before_count = len(df_clean)\n",
    "df_clean = df_clean[df_clean['sob_02z1'] != 8]\n",
    "print(f\"  제거: {before_count - len(df_clean):,}건\")\n",
    "print(f\"  현재 데이터: {len(df_clean):,}건\")\n",
    "\n",
    "# Step 3: soa_06z2, soa_07z1 비해당 → 그대로 유지 (재분류는 다음 단계에서)\n",
    "print(f\"\\nStep 3: soa_06z2, soa_07z1 비해당 처리\")\n",
    "print(f\"  처리 방법: 별도 카테고리로 유지 (제거하지 않음)\")\n",
    "non_econ_count = (df_clean['soa_06z2'] == 88).sum()\n",
    "print(f\"  비경제활동인구: {non_econ_count:,}건 ({non_econ_count/len(df_clean)*100:.1f}%)\")\n",
    "\n",
    "# Step 4: 나머지 결측값 제거\n",
    "print(f\"\\nStep 4: 나머지 결측값 제거\")\n",
    "before_count = len(df_clean)\n",
    "analysis_vars = ['sob_01z1', 'sob_02z1', 'soa_01z1', 'soa_06z2', 'soa_07z1', 'sod_02z3']\n",
    "df_clean = df_clean.dropna(subset=analysis_vars)\n",
    "print(f\"  제거: {before_count - len(df_clean):,}건\")\n",
    "print(f\"  현재 데이터: {len(df_clean):,}건\")\n",
    "\n",
    "print(\"\\n\" + \"=\"*80)\n",
    "print(\"✅ 데이터 정제 완료\")\n",
    "print(\"=\"*80)\n",
    "print(f\"\\n원본 데이터:   {len(df_original):,}건\")\n",
    "print(f\"정제 데이터:   {len(df_clean):,}건\")\n",
    "print(f\"제거된 데이터: {len(df_original) - len(df_clean):,}건 ({(len(df_original) - len(df_clean))/len(df_original)*100:.1f}%)\")\n",
    "print(f\"\\n금연 성공률 (원본): {df_original['churn'].mean()*100:.2f}%\")\n",
    "print(f\"금연 성공률 (정제): {df_clean['churn'].mean()*100:.2f}%\")"
   ]
  },
  {
   "cell_type": "markdown",
   "metadata": {},
   "source": [
    "## 4. 정제 전후 비교"
   ]
  },
  {
   "cell_type": "code",
   "execution_count": 5,
   "metadata": {},
   "outputs": [
    {
     "name": "stdout",
     "output_type": "stream",
     "text": [
      "\n",
      "📊 변수별 유효 표본 비교\n",
      "================================================================================\n",
      "      변수  원본 유효  정제 유효   변화율\n",
      "sob_01z1 89,822 88,240 -1.8%\n",
      "sob_02z1 89,822 88,240 -1.8%\n",
      "soa_01z1 89,822 88,240 -1.8%\n",
      "soa_06z2 89,822 88,240 -1.8%\n",
      "soa_07z1 89,822 88,240 -1.8%\n",
      "sod_02z3 89,822 88,240 -1.8%\n"
     ]
    }
   ],
   "source": [
    "# 변수별 유효 표본 비교\n",
    "print(\"\\n📊 변수별 유효 표본 비교\")\n",
    "print(\"=\"*80)\n",
    "\n",
    "comparison = []\n",
    "for var in analysis_vars:\n",
    "    original_valid = df_original[var].notna().sum()\n",
    "    cleaned_valid = df_clean[var].notna().sum()\n",
    "    \n",
    "    comparison.append({\n",
    "        '변수': var,\n",
    "        '원본 유효': f\"{original_valid:,}\",\n",
    "        '정제 유효': f\"{cleaned_valid:,}\",\n",
    "        '변화율': f\"{(cleaned_valid - original_valid) / original_valid * 100:+.1f}%\"\n",
    "    })\n",
    "\n",
    "comparison_df = pd.DataFrame(comparison)\n",
    "print(comparison_df.to_string(index=False))"
   ]
  },
  {
   "cell_type": "markdown",
   "metadata": {},
   "source": [
    "## 5. 정제 데이터 저장"
   ]
  },
  {
   "cell_type": "code",
   "execution_count": 6,
   "metadata": {},
   "outputs": [
    {
     "name": "stdout",
     "output_type": "stream",
     "text": [
      "\n",
      "✅ 정제 데이터 저장 완료\n",
      "   파일: ../../data/analy_data_cleaned.csv\n",
      "   데이터: 88,240건\n",
      "\n",
      "💡 이제 이 데이터로 분석을 진행하세요!\n"
     ]
    }
   ],
   "source": [
    "# 정제된 데이터 저장\n",
    "output_path = '../../../data/analy_data_cleaned.csv'\n",
    "df_clean.to_csv(output_path, index=False, encoding='utf-8-sig')\n",
    "\n",
    "print(f\"\\n✅ 정제 데이터 저장 완료\")\n",
    "print(f\"   파일: {output_path}\")\n",
    "print(f\"   데이터: {len(df_clean):,}건\")\n",
    "print(f\"\\n💡 이제 이 데이터로 분석을 진행하세요!\")"
   ]
  },
  {
   "cell_type": "markdown",
   "metadata": {},
   "source": [
    "## 6. 시각화: 정제 전후 비교"
   ]
  },
  {
   "cell_type": "code",
   "execution_count": 7,
   "metadata": {},
   "outputs": [
    {
     "ename": "ValueError",
     "evalue": "shape mismatch: objects cannot be broadcast to a single shape.  Mismatch is between arg 0 with shape (10,) and arg 1 with shape (6,).",
     "output_type": "error",
     "traceback": [
      "\u001b[31m---------------------------------------------------------------------------\u001b[39m",
      "\u001b[31mValueError\u001b[39m                                Traceback (most recent call last)",
      "\u001b[36mCell\u001b[39m\u001b[36m \u001b[39m\u001b[32mIn[7]\u001b[39m\u001b[32m, line 16\u001b[39m\n\u001b[32m     12\u001b[39m width = \u001b[32m0.35\u001b[39m\n\u001b[32m     14\u001b[39m ax.bar([i - width/\u001b[32m2\u001b[39m \u001b[38;5;28;01mfor\u001b[39;00m i \u001b[38;5;129;01min\u001b[39;00m x], original_counts.values, width, \n\u001b[32m     15\u001b[39m        label=\u001b[33m'\u001b[39m\u001b[33m원본\u001b[39m\u001b[33m'\u001b[39m, alpha=\u001b[32m0.7\u001b[39m, color=\u001b[33m'\u001b[39m\u001b[33mlightblue\u001b[39m\u001b[33m'\u001b[39m)\n\u001b[32m---> \u001b[39m\u001b[32m16\u001b[39m \u001b[43max\u001b[49m\u001b[43m.\u001b[49m\u001b[43mbar\u001b[49m\u001b[43m(\u001b[49m\u001b[43m[\u001b[49m\u001b[43mi\u001b[49m\u001b[43m \u001b[49m\u001b[43m+\u001b[49m\u001b[43m \u001b[49m\u001b[43mwidth\u001b[49m\u001b[43m/\u001b[49m\u001b[32;43m2\u001b[39;49m\u001b[43m \u001b[49m\u001b[38;5;28;43;01mfor\u001b[39;49;00m\u001b[43m \u001b[49m\u001b[43mi\u001b[49m\u001b[43m \u001b[49m\u001b[38;5;129;43;01min\u001b[39;49;00m\u001b[43m \u001b[49m\u001b[43mx\u001b[49m\u001b[43m]\u001b[49m\u001b[43m,\u001b[49m\u001b[43m \u001b[49m\u001b[43mcleaned_counts\u001b[49m\u001b[43m.\u001b[49m\u001b[43mvalues\u001b[49m\u001b[43m,\u001b[49m\u001b[43m \u001b[49m\u001b[43mwidth\u001b[49m\u001b[43m,\u001b[49m\u001b[43m \u001b[49m\n\u001b[32m     17\u001b[39m \u001b[43m       \u001b[49m\u001b[43mlabel\u001b[49m\u001b[43m=\u001b[49m\u001b[33;43m'\u001b[39;49m\u001b[33;43m정제\u001b[39;49m\u001b[33;43m'\u001b[39;49m\u001b[43m,\u001b[49m\u001b[43m \u001b[49m\u001b[43malpha\u001b[49m\u001b[43m=\u001b[49m\u001b[32;43m0.7\u001b[39;49m\u001b[43m,\u001b[49m\u001b[43m \u001b[49m\u001b[43mcolor\u001b[49m\u001b[43m=\u001b[49m\u001b[33;43m'\u001b[39;49m\u001b[33;43mdarkblue\u001b[39;49m\u001b[33;43m'\u001b[39;49m\u001b[43m)\u001b[49m\n\u001b[32m     19\u001b[39m ax.set_title(var, fontweight=\u001b[33m'\u001b[39m\u001b[33mbold\u001b[39m\u001b[33m'\u001b[39m)\n\u001b[32m     20\u001b[39m ax.set_xlabel(\u001b[33m'\u001b[39m\u001b[33m코드값\u001b[39m\u001b[33m'\u001b[39m)\n",
      "\u001b[36mFile \u001b[39m\u001b[32mc:\\Users\\user\\anaconda3\\envs\\ml_env\\Lib\\site-packages\\matplotlib\\__init__.py:1524\u001b[39m, in \u001b[36m_preprocess_data.<locals>.inner\u001b[39m\u001b[34m(ax, data, *args, **kwargs)\u001b[39m\n\u001b[32m   1521\u001b[39m \u001b[38;5;129m@functools\u001b[39m.wraps(func)\n\u001b[32m   1522\u001b[39m \u001b[38;5;28;01mdef\u001b[39;00m\u001b[38;5;250m \u001b[39m\u001b[34minner\u001b[39m(ax, *args, data=\u001b[38;5;28;01mNone\u001b[39;00m, **kwargs):\n\u001b[32m   1523\u001b[39m     \u001b[38;5;28;01mif\u001b[39;00m data \u001b[38;5;129;01mis\u001b[39;00m \u001b[38;5;28;01mNone\u001b[39;00m:\n\u001b[32m-> \u001b[39m\u001b[32m1524\u001b[39m         \u001b[38;5;28;01mreturn\u001b[39;00m \u001b[43mfunc\u001b[49m\u001b[43m(\u001b[49m\n\u001b[32m   1525\u001b[39m \u001b[43m            \u001b[49m\u001b[43max\u001b[49m\u001b[43m,\u001b[49m\n\u001b[32m   1526\u001b[39m \u001b[43m            \u001b[49m\u001b[43m*\u001b[49m\u001b[38;5;28;43mmap\u001b[39;49m\u001b[43m(\u001b[49m\u001b[43mcbook\u001b[49m\u001b[43m.\u001b[49m\u001b[43msanitize_sequence\u001b[49m\u001b[43m,\u001b[49m\u001b[43m \u001b[49m\u001b[43margs\u001b[49m\u001b[43m)\u001b[49m\u001b[43m,\u001b[49m\n\u001b[32m   1527\u001b[39m \u001b[43m            \u001b[49m\u001b[43m*\u001b[49m\u001b[43m*\u001b[49m\u001b[43m{\u001b[49m\u001b[43mk\u001b[49m\u001b[43m:\u001b[49m\u001b[43m \u001b[49m\u001b[43mcbook\u001b[49m\u001b[43m.\u001b[49m\u001b[43msanitize_sequence\u001b[49m\u001b[43m(\u001b[49m\u001b[43mv\u001b[49m\u001b[43m)\u001b[49m\u001b[43m \u001b[49m\u001b[38;5;28;43;01mfor\u001b[39;49;00m\u001b[43m \u001b[49m\u001b[43mk\u001b[49m\u001b[43m,\u001b[49m\u001b[43m \u001b[49m\u001b[43mv\u001b[49m\u001b[43m \u001b[49m\u001b[38;5;129;43;01min\u001b[39;49;00m\u001b[43m \u001b[49m\u001b[43mkwargs\u001b[49m\u001b[43m.\u001b[49m\u001b[43mitems\u001b[49m\u001b[43m(\u001b[49m\u001b[43m)\u001b[49m\u001b[43m}\u001b[49m\u001b[43m)\u001b[49m\n\u001b[32m   1529\u001b[39m     bound = new_sig.bind(ax, *args, **kwargs)\n\u001b[32m   1530\u001b[39m     auto_label = (bound.arguments.get(label_namer)\n\u001b[32m   1531\u001b[39m                   \u001b[38;5;129;01mor\u001b[39;00m bound.kwargs.get(label_namer))\n",
      "\u001b[36mFile \u001b[39m\u001b[32mc:\\Users\\user\\anaconda3\\envs\\ml_env\\Lib\\site-packages\\matplotlib\\axes\\_axes.py:2583\u001b[39m, in \u001b[36mAxes.bar\u001b[39m\u001b[34m(self, x, height, width, bottom, align, **kwargs)\u001b[39m\n\u001b[32m   2580\u001b[39m     \u001b[38;5;28;01mif\u001b[39;00m yerr \u001b[38;5;129;01mis\u001b[39;00m \u001b[38;5;129;01mnot\u001b[39;00m \u001b[38;5;28;01mNone\u001b[39;00m:\n\u001b[32m   2581\u001b[39m         yerr = \u001b[38;5;28mself\u001b[39m._convert_dx(yerr, y0, y, \u001b[38;5;28mself\u001b[39m.convert_yunits)\n\u001b[32m-> \u001b[39m\u001b[32m2583\u001b[39m x, height, width, y, linewidth, hatch = \u001b[43mnp\u001b[49m\u001b[43m.\u001b[49m\u001b[43mbroadcast_arrays\u001b[49m\u001b[43m(\u001b[49m\n\u001b[32m   2584\u001b[39m \u001b[43m    \u001b[49m\u001b[38;5;66;43;03m# Make args iterable too.\u001b[39;49;00m\n\u001b[32m   2585\u001b[39m \u001b[43m    \u001b[49m\u001b[43mnp\u001b[49m\u001b[43m.\u001b[49m\u001b[43matleast_1d\u001b[49m\u001b[43m(\u001b[49m\u001b[43mx\u001b[49m\u001b[43m)\u001b[49m\u001b[43m,\u001b[49m\u001b[43m \u001b[49m\u001b[43mheight\u001b[49m\u001b[43m,\u001b[49m\u001b[43m \u001b[49m\u001b[43mwidth\u001b[49m\u001b[43m,\u001b[49m\u001b[43m \u001b[49m\u001b[43my\u001b[49m\u001b[43m,\u001b[49m\u001b[43m \u001b[49m\u001b[43mlinewidth\u001b[49m\u001b[43m,\u001b[49m\u001b[43m \u001b[49m\u001b[43mhatch\u001b[49m\u001b[43m)\u001b[49m\n\u001b[32m   2587\u001b[39m \u001b[38;5;66;03m# Now that units have been converted, set the tick locations.\u001b[39;00m\n\u001b[32m   2588\u001b[39m \u001b[38;5;28;01mif\u001b[39;00m orientation == \u001b[33m'\u001b[39m\u001b[33mvertical\u001b[39m\u001b[33m'\u001b[39m:\n",
      "\u001b[36mFile \u001b[39m\u001b[32mc:\\Users\\user\\anaconda3\\envs\\ml_env\\Lib\\site-packages\\numpy\\lib\\_stride_tricks_impl.py:544\u001b[39m, in \u001b[36mbroadcast_arrays\u001b[39m\u001b[34m(subok, *args)\u001b[39m\n\u001b[32m    537\u001b[39m \u001b[38;5;66;03m# nditer is not used here to avoid the limit of 32 arrays.\u001b[39;00m\n\u001b[32m    538\u001b[39m \u001b[38;5;66;03m# Otherwise, something like the following one-liner would suffice:\u001b[39;00m\n\u001b[32m    539\u001b[39m \u001b[38;5;66;03m# return np.nditer(args, flags=['multi_index', 'zerosize_ok'],\u001b[39;00m\n\u001b[32m    540\u001b[39m \u001b[38;5;66;03m#                  order='C').itviews\u001b[39;00m\n\u001b[32m    542\u001b[39m args = [np.array(_m, copy=\u001b[38;5;28;01mNone\u001b[39;00m, subok=subok) \u001b[38;5;28;01mfor\u001b[39;00m _m \u001b[38;5;129;01min\u001b[39;00m args]\n\u001b[32m--> \u001b[39m\u001b[32m544\u001b[39m shape = \u001b[43m_broadcast_shape\u001b[49m\u001b[43m(\u001b[49m\u001b[43m*\u001b[49m\u001b[43margs\u001b[49m\u001b[43m)\u001b[49m\n\u001b[32m    546\u001b[39m result = [array \u001b[38;5;28;01mif\u001b[39;00m array.shape == shape\n\u001b[32m    547\u001b[39m           \u001b[38;5;28;01melse\u001b[39;00m _broadcast_to(array, shape, subok=subok, readonly=\u001b[38;5;28;01mFalse\u001b[39;00m)\n\u001b[32m    548\u001b[39m                           \u001b[38;5;28;01mfor\u001b[39;00m array \u001b[38;5;129;01min\u001b[39;00m args]\n\u001b[32m    549\u001b[39m \u001b[38;5;28;01mreturn\u001b[39;00m \u001b[38;5;28mtuple\u001b[39m(result)\n",
      "\u001b[36mFile \u001b[39m\u001b[32mc:\\Users\\user\\anaconda3\\envs\\ml_env\\Lib\\site-packages\\numpy\\lib\\_stride_tricks_impl.py:419\u001b[39m, in \u001b[36m_broadcast_shape\u001b[39m\u001b[34m(*args)\u001b[39m\n\u001b[32m    414\u001b[39m \u001b[38;5;250m\u001b[39m\u001b[33;03m\"\"\"Returns the shape of the arrays that would result from broadcasting the\u001b[39;00m\n\u001b[32m    415\u001b[39m \u001b[33;03msupplied arrays against each other.\u001b[39;00m\n\u001b[32m    416\u001b[39m \u001b[33;03m\"\"\"\u001b[39;00m\n\u001b[32m    417\u001b[39m \u001b[38;5;66;03m# use the old-iterator because np.nditer does not handle size 0 arrays\u001b[39;00m\n\u001b[32m    418\u001b[39m \u001b[38;5;66;03m# consistently\u001b[39;00m\n\u001b[32m--> \u001b[39m\u001b[32m419\u001b[39m b = \u001b[43mnp\u001b[49m\u001b[43m.\u001b[49m\u001b[43mbroadcast\u001b[49m\u001b[43m(\u001b[49m\u001b[43m*\u001b[49m\u001b[43margs\u001b[49m\u001b[43m[\u001b[49m\u001b[43m:\u001b[49m\u001b[32;43m32\u001b[39;49m\u001b[43m]\u001b[49m\u001b[43m)\u001b[49m\n\u001b[32m    420\u001b[39m \u001b[38;5;66;03m# unfortunately, it cannot handle 32 or more arguments directly\u001b[39;00m\n\u001b[32m    421\u001b[39m \u001b[38;5;28;01mfor\u001b[39;00m pos \u001b[38;5;129;01min\u001b[39;00m \u001b[38;5;28mrange\u001b[39m(\u001b[32m32\u001b[39m, \u001b[38;5;28mlen\u001b[39m(args), \u001b[32m31\u001b[39m):\n\u001b[32m    422\u001b[39m     \u001b[38;5;66;03m# ironically, np.broadcast does not properly handle np.broadcast\u001b[39;00m\n\u001b[32m    423\u001b[39m     \u001b[38;5;66;03m# objects (it treats them as scalars)\u001b[39;00m\n\u001b[32m    424\u001b[39m     \u001b[38;5;66;03m# use broadcasting to avoid allocating the full array\u001b[39;00m\n",
      "\u001b[31mValueError\u001b[39m: shape mismatch: objects cannot be broadcast to a single shape.  Mismatch is between arg 0 with shape (10,) and arg 1 with shape (6,)."
     ]
    },
    {
     "data": {
      "image/png": "[encoded data removed]",
      "text/plain": [
       "<Figure size 1500x1000 with 6 Axes>"
      ]
     },
     "metadata": {},
     "output_type": "display_data"
    }
   ],
   "source": [
    "fig, axes = plt.subplots(2, 3, figsize=(15, 10))\n",
    "fig.suptitle('데이터 정제 전후 비교', fontsize=16, fontweight='bold')\n",
    "\n",
    "for idx, var in enumerate(analysis_vars):\n",
    "    ax = axes[idx // 3, idx % 3]\n",
    "    \n",
    "    # 원본 vs 정제 데이터 분포\n",
    "    original_counts = df_original[var].value_counts().sort_index()\n",
    "    cleaned_counts = df_clean[var].value_counts().sort_index()\n",
    "    \n",
    "    x = range(len(original_counts))\n",
    "    width = 0.35\n",
    "    \n",
    "    ax.bar([i - width/2 for i in x], original_counts.values, width, \n",
    "           label='원본', alpha=0.7, color='lightblue')\n",
    "    ax.bar([i + width/2 for i in x], cleaned_counts.values, width, \n",
    "           label='정제', alpha=0.7, color='darkblue')\n",
    "    \n",
    "    ax.set_title(var, fontweight='bold')\n",
    "    ax.set_xlabel('코드값')\n",
    "    ax.set_ylabel('빈도')\n",
    "    ax.legend()\n",
    "    ax.grid(axis='y', alpha=0.3)\n",
    "\n",
    "plt.tight_layout()\n",
    "plt.show()"
   ]
  },
  {
   "cell_type": "markdown",
   "metadata": {},
   "source": [
    "## 7. 최종 권장사항"
   ]
  },
  {
   "cell_type": "code",
   "execution_count": null,
   "metadata": {},
   "outputs": [],
   "source": [
    "print(\"\\n\" + \"=\"*80)\n",
    "print(\"📋 최종 권장사항\")\n",
    "print(\"=\"*80)\n",
    "\n",
    "print(\"\"\"\n",
    "### ✅ 앞으로의 분석은 정제 데이터(analy_data_cleaned.csv) 사용\n",
    "\n",
    "### 🎯 주요 결정 사항:\n",
    "\n",
    "1. **제거한 특수코드**:\n",
    "   - 응답거부 (모든 변수)\n",
    "   - 모름 (모든 변수)\n",
    "   - sob_02z1의 비해당\n",
    "\n",
    "2. **유지한 특수코드**:\n",
    "   - soa_06z2, soa_07z1의 비해당 (코드 88, 8)\n",
    "   - 이유: 비경제활동인구는 분석 대상으로 의미 있음\n",
    "   - 해석: \"비경제활동\" 카테고리로 취급\n",
    "\n",
    "### 💡 분석 시 유의사항:\n",
    "\n",
    "1. soa_06z2 = 88 → \"비경제활동인구\"로 라벨링\n",
    "2. soa_07z1 = 8  → \"비경제활동\"으로 라벨링\n",
    "3. 이 그룹의 금연 성공률도 함께 비교 분석\n",
    "4. \"경제활동 여부가 금연 성공에 미치는 영향\" 해석 시 중요\n",
    "\n",
    "### 📊 다음 단계:\n",
    "\n",
    "1. analy_data_cleaned.csv로 상관관계 분석\n",
    "2. 특성 중요도 분석\n",
    "3. 가설 검증\n",
    "4. 최종 보고서 작성\n",
    "\"\"\")\n",
    "\n",
    "print(\"=\"*80)"
   ]
  }
 ],
 "metadata": {
  "kernelspec": {
   "display_name": "ml_env",
   "language": "python",
   "name": "python3"
  },
  "language_info": {
   "codemirror_mode": {
    "name": "ipython",
    "version": 3
   },
   "file_extension": ".py",
   "mimetype": "text/x-python",
   "name": "python",
   "nbconvert_exporter": "python",
   "pygments_lexer": "ipython3",
   "version": "3.12.11"
  }
 },
 "nbformat": 4,
 "nbformat_minor": 2
}


