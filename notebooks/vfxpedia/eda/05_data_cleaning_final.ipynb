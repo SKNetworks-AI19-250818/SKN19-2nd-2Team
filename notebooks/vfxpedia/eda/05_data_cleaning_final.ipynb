﻿{
 "cells": [
  {
   "cell_type": "markdown",
   "metadata": {},
   "source": [
    "# 데이터 정제 - 최종 버전\n",
    "\n",
    "**작성자**: 오흥재 (vfxpedia)  \n",
    "**작성일**: 2025-10-07  \n",
    "\n",
    "---\n",
    "\n",
    "## 📋 처리 방침\n",
    "\n",
    "### ✅ 제거\n",
    "- 응답거부, 모름 (모든 변수)\n",
    "- churn 결측값\n",
    "\n",
    "### ⚠️ 유지\n",
    "- sob_02z1의 비해당 (Skip Logic 정상값)\n",
    "- soa_06z2, soa_07z1의 비해당 (비경제활동인구 35.6%)\n",
    "\n",
    "### 🔄 분석에서 제외\n",
    "- sob_02z1 (졸업상태) - Skip Logic으로 인한 복잡도\n",
    "\n",
    "### 📊 최종 분석 변수 (5개)\n",
    "1. sob_01z1 - 교육수준(최종학력)\n",
    "2. soa_01z1 - 경제활동 여부\n",
    "3. soa_06z2 - 직업분류\n",
    "4. soa_07z1 - 종사상 지위\n",
    "5. sod_02z3 - 혼인상태"
   ]
  },
  {
   "cell_type": "markdown",
   "metadata": {},
   "source": [
    "## 1. 환경 설정"
   ]
  },
  {
   "cell_type": "code",
   "execution_count": null,
   "metadata": {},
   "outputs": [
    {
     "name": "stdout",
     "output_type": "stream",
     "text": [
      "✅ 모듈 로드 완료\n"
     ]
    }
   ],
   "source": [
    "import sys\n",
    "import os\n",
    "import pandas as pd\n",
    "import numpy as np\n",
    "\n",
    "# 프로젝트 루트를 Python 경로에 추가\n",
    "project_root = os.path.abspath('../../..')\n",
    "if project_root not in sys.path:\n",
    "    sys.path.insert(0, project_root)\n",
    "\n",
    "# 개인 유틸리티 경로 추가\n",
    "utils_path = os.path.join(os.path.dirname(os.path.abspath('.')), 'utils')\n",
    "if utils_path not in sys.path:\n",
    "    sys.path.append(utils_path)\n",
    "\n",
    "# 정제 함수 import\n",
    "from data_cleaning import clean_data_for_analysis, get_analysis_summary\n",
    "\n",
    "print(\"✅ 모듈 로드 완료\")"
   ]
  },
  {
   "cell_type": "markdown",
   "metadata": {},
   "source": [
    "## 2. 데이터 정제 실행"
   ]
  },
  {
   "cell_type": "code",
   "execution_count": 2,
   "metadata": {},
   "outputs": [
    {
     "name": "stdout",
     "output_type": "stream",
     "text": [
      "================================================================================\n",
      "🔧 데이터 정제 시작\n",
      "================================================================================\n",
      "\n",
      "원본 데이터: 89,822건\n",
      "\n",
      "Step 1: churn 결측값 제거\n",
      "  제거: 0건\n",
      "  현재: 89,822건\n",
      "\n",
      "Step 2: 응답거부/모름 제거\n",
      "  sob_01z1: 34건\n",
      "  soa_01z1: 4건\n",
      "  soa_06z2: 9건\n",
      "  soa_07z1: 2건\n",
      "  sod_02z3: 16건\n",
      "  총 제거: 65건\n",
      "  현재: 89,757건\n",
      "\n",
      "Step 3: sob_02z1 처리\n",
      "  처리 방법: 분석 변수에서 제외 (Skip Logic)\n",
      "  이유: sob_01z1이 1(무학) 또는 2(서당/한학)인 경우 비해당(8)이 정상값\n",
      "  해당 케이스: 1,517건\n",
      "\n",
      "Step 4: 직업/종사상지위 비해당 처리\n",
      "  처리 방법: '비경제활동인구'로 유지 (제거하지 않음)\n",
      "  비경제활동인구: 24,973건 (27.8%)\n",
      "  이유: 분석적으로 의미 있는 그룹\n",
      "\n",
      "Step 5: 결측값 제거\n",
      "  대상 변수: sob_01z1, soa_01z1, soa_06z2, soa_07z1, sod_02z3\n",
      "  제거: 0건\n",
      "  현재: 89,757건\n",
      "\n",
      "================================================================================\n",
      "✅ 데이터 정제 완료\n",
      "================================================================================\n",
      "\n",
      "원본 데이터:     89,822건\n",
      "정제 데이터:     89,757건\n",
      "제거된 데이터:   65건 (0.1%)\n",
      "\n",
      "금연 성공률 (원본): 54.83%\n",
      "금연 성공률 (정제): 54.84%\n",
      "\n",
      "✅ 최종 분석 변수 (5개):\n",
      "  - sob_01z1: 교육수준(최종학력)\n",
      "  - soa_01z1: 경제활동 여부\n",
      "  - soa_06z2: 직업분류\n",
      "  - soa_07z1: 종사상 지위\n",
      "  - sod_02z3: 혼인상태\n",
      "\n",
      "⚠️ 제외된 변수:\n",
      "  - sob_02z1: 졸업상태 (Skip Logic)\n",
      "\n",
      "================================================================================\n",
      "💾 저장 완료: ./output/analy_data_cleaned.csv\n",
      "================================================================================\n"
     ]
    }
   ],
   "source": [
    "# 정제 실행\n",
    "df_clean, report = clean_data_for_analysis(\n",
    "    input_path='../../../data/analy_data.csv',\n",
    "    output_path='./output/analy_data_cleaned.csv',\n",
    "    verbose=True\n",
    ")"
   ]
  },
  {
   "cell_type": "markdown",
   "metadata": {},
   "source": [
    "## 3. 결과 요약"
   ]
  },
  {
   "cell_type": "code",
   "execution_count": 3,
   "metadata": {},
   "outputs": [
    {
     "name": "stdout",
     "output_type": "stream",
     "text": [
      "\n",
      "================================================================================\n",
      "📊 데이터 정제 요약\n",
      "================================================================================\n",
      "\n",
      "원본 → 정제:\n",
      "  89,822건 → 89,757건\n",
      "  제거율: 0.1%\n",
      "\n",
      "금연 성공률:\n",
      "  원본: 54.83%\n",
      "  정제: 54.84%\n",
      "\n",
      "비경제활동인구:\n",
      "  24,973건\n",
      "  (27.8%)\n",
      "\n",
      "분석 변수:\n",
      "  ✓ sob_01z1\n",
      "  ✓ soa_01z1\n",
      "  ✓ soa_06z2\n",
      "  ✓ soa_07z1\n",
      "  ✓ sod_02z3\n",
      "\n",
      "================================================================================\n"
     ]
    }
   ],
   "source": [
    "# 요약 정보 출력\n",
    "get_analysis_summary(report)"
   ]
  },
  {
   "cell_type": "markdown",
   "metadata": {},
   "source": [
    "## 4. 정제 데이터 확인"
   ]
  },
  {
   "cell_type": "code",
   "execution_count": 4,
   "metadata": {},
   "outputs": [
    {
     "name": "stdout",
     "output_type": "stream",
     "text": [
      "📊 정제 데이터 기본 정보\n",
      "============================================================\n",
      "\n",
      "Shape: (89757, 210)\n",
      "\n",
      "변수 목록:\n",
      "['EXAMIN_YEAR', 'exmprs_no', 'age', 'sex', 'CTPRVN_CODE', 'PBHLTH_CODE', 'SPOT_NO', 'HSHLD_CODE', 'MBHLD_CODE', 'DONG_TY_CODE', 'HOUSE_TY_CODE', 'signgu_code', 'kstrata', 'wt_h', 'wt_p', 'mbhld_co', 'reside_adult_co', 'fma_19z3', 'fma_04z1', 'fma_12z1', 'fma_13z1', 'fma_14z1', 'fma_24z2', 'nue_01z1', 'fma_27z1', 'fma_26z1', 'qoa_01z1', 'smf_01z1', 'sma_01z1', 'sma_03z2', 'smb_01z1', 'smb_02z1', 'smb_03z1', 'smb_04z1', 'smb_05z1', 'smb_06z1', 'smb_09z1', 'sma_36z1', 'sma_37z1', 'smb_11z1', 'smb_12z1', 'smb_13z1', 'sma_08z1', 'sma_11z2', 'sma_12z2', 'smd_02z3', 'smd_01z3', 'smc_08z2', 'smc_09z2', 'smc_10z2', 'dra_01z1', 'drb_01z3', 'drb_03z1', 'drb_16z1', 'drb_04z1', 'drb_05z1', 'drg_01z3', 'dre_03z1', 'dre_04z1', 'sfa_02z3', 'sfb_05z2', 'sfa_12z2', 'sfb_07z1', 'sfa_06z2', 'sfb_03z2', 'sfa_08z2', 'pha_04z1', 'pha_05z1', 'pha_06z1', 'pha_07z1', 'pha_08z1', 'pha_09z1', 'phb_01z1', 'phb_02z1', 'phb_03z1', 'pha_11z1', 'nua_01z2', 'nuc_02z1', 'nuc_01z2', 'nuc_03z1', 'oba_02z1', 'oba_03z1', 'oba_bmi', 'oba_01z1', 'obb_01z1', 'obb_02a1', 'obb_02b1', 'obb_02c1', 'obb_02k1', 'obb_02d1', 'obb_02e1', 'obb_02f1', 'obb_02g1', 'obb_02h1', 'obb_02i1', 'cva_11z2', 'cva_12z1', 'cva_14z2', 'cva_16z2', 'cva_17z1', 'mya_10z2', 'mya_11z2', 'mya_12z2', 'mya_14z1', 'mya_15z1', 'ora_01z1', 'orb_01z1', 'ord_01d2', 'ord_05z1', 'ord_01f3', 'ore_02z2', 'ore_03z2', 'ore_07z1', 'mtc_17z1', 'mtc_18z1', 'mta_01z1', 'mta_02z1', 'mtb_01z1', 'mtb_02z1', 'mtb_07a1', 'mtb_07b1', 'mtb_07c1', 'mtb_07d1', 'mtb_07e1', 'mtb_07f1', 'mtb_07g1', 'mtb_07h1', 'mtb_07i1', 'mtd_01z1', 'mtd_02z1', 'edit_mtc_03z1', 'mtc_04z1', 'mtc_05z1', 'mtc_06z1', 'mtc_08z1', 'mtc_09z1', 'mtc_10z1', 'mtc_11z1', 'mtc_12a1', 'mtc_12b1', 'mtc_12c1', 'mtc_12d1', 'mtc_12e1', 'mtc_12f1', 'mtc_12g1', 'mtc_12h1', 'mtc_12i1', 'mtc_12j1', 'mtc_13z1', 'mtc_14z1', 'mtc_15z1', 'mtc_16z1', 'mtj_05z2', 'mtj_06z2', 'mtj_09z2', 'mtj_10z1', 'mtj_11z1', 'sca_01z1', 'hya_19z1', 'hya_04z1', 'hya_15z1', 'hya_14c2', 'hya_14a2', 'hya_14b2', 'hya_30z1', 'hya_10z1', 'hya_11a2', 'hya_11c2', 'hya_11d2', 'dia_19z1', 'dia_04z1', 'dia_18z1', 'dia_13c2', 'dia_13b2', 'dia_13a2', 'dia_09z1', 'dia_10a2', 'dia_10c2', 'dia_10d2', 'dia_22z2', 'dia_14z1', 'dia_15z1', 'sra_01z3', 'sra_02z2', 'ira_01z1', 'ira_02z1', 'i1a_04z2', 'i2a_04z2', 'i3a_04z2', 'i4a_04z2', 'i5a_04z2', 'qoc_07z1', 'qoc_01z1', 'qoc_02z1', 'qoc_03z1', 'qoc_04z1', 'qoc_05z1', 'hma_01z3', 'cpr_01z1', 'cpr_02z1', 'cpr_03a2', 'cpr_03b2', 'cpr_04z1', 'sob_01z1', 'sob_02z1', 'soa_01z1', 'soa_06z2', 'soa_07z1', 'sod_02z3', 'churn']\n",
      "\n",
      "\n",
      "churn 분포:\n",
      "churn\n",
      "1    49220\n",
      "0    40537\n",
      "Name: count, dtype: int64\n",
      "\n",
      "금연 성공률: 54.84%\n"
     ]
    }
   ],
   "source": [
    "print(\"📊 정제 데이터 기본 정보\")\n",
    "print(\"=\" * 60)\n",
    "print(f\"\\nShape: {df_clean.shape}\")\n",
    "print(f\"\\n변수 목록:\")\n",
    "print(df_clean.columns.tolist())\n",
    "\n",
    "print(f\"\\n\\nchurn 분포:\")\n",
    "print(df_clean['churn'].value_counts())\n",
    "print(f\"\\n금연 성공률: {df_clean['churn'].mean() * 100:.2f}%\")"
   ]
  },
  {
   "cell_type": "code",
   "execution_count": 5,
   "metadata": {},
   "outputs": [
    {
     "name": "stdout",
     "output_type": "stream",
     "text": [
      "\n",
      "📊 분석 변수별 유효값\n",
      "============================================================\n",
      "sob_01z1        : 89,757건 (결측 0건)\n",
      "soa_01z1        : 89,757건 (결측 0건)\n",
      "soa_06z2        : 89,757건 (결측 0건)\n",
      "soa_07z1        : 89,757건 (결측 0건)\n",
      "sod_02z3        : 89,757건 (결측 0건)\n"
     ]
    }
   ],
   "source": [
    "# 분석 변수별 유효값 확인\n",
    "analysis_vars = ['sob_01z1', 'soa_01z1', 'soa_06z2', 'soa_07z1', 'sod_02z3']\n",
    "\n",
    "print(\"\\n📊 분석 변수별 유효값\")\n",
    "print(\"=\" * 60)\n",
    "for var in analysis_vars:\n",
    "    valid = df_clean[var].notna().sum()\n",
    "    print(f\"{var:15} : {valid:,}건 (결측 {df_clean[var].isna().sum()}건)\")"
   ]
  },
  {
   "cell_type": "markdown",
   "metadata": {},
   "source": [
    "## 5. 비경제활동인구 분석"
   ]
  },
  {
   "cell_type": "code",
   "execution_count": 6,
   "metadata": {},
   "outputs": [
    {
     "name": "stdout",
     "output_type": "stream",
     "text": [
      "\n",
      "📊 경제활동 상태별 분석\n",
      "============================================================\n",
      "\n",
      "비경제활동인구:\n",
      "  표본 수: 24,973건 (27.8%)\n",
      "  금연 성공률: 64.76%\n",
      "\n",
      "경제활동인구:\n",
      "  표본 수: 64,784건 (72.2%)\n",
      "  금연 성공률: 51.01%\n",
      "\n",
      "차이: 13.75%p\n"
     ]
    }
   ],
   "source": [
    "print(\"\\n📊 경제활동 상태별 분석\")\n",
    "print(\"=\" * 60)\n",
    "\n",
    "# 비경제활동 vs 경제활동\n",
    "non_econ = df_clean[df_clean['soa_06z2'] == 88]\n",
    "econ = df_clean[df_clean['soa_06z2'] != 88]\n",
    "\n",
    "print(f\"\\n비경제활동인구:\")\n",
    "print(f\"  표본 수: {len(non_econ):,}건 ({len(non_econ)/len(df_clean)*100:.1f}%)\")\n",
    "print(f\"  금연 성공률: {non_econ['churn'].mean()*100:.2f}%\")\n",
    "\n",
    "print(f\"\\n경제활동인구:\")\n",
    "print(f\"  표본 수: {len(econ):,}건 ({len(econ)/len(df_clean)*100:.1f}%)\")\n",
    "print(f\"  금연 성공률: {econ['churn'].mean()*100:.2f}%\")\n",
    "\n",
    "print(f\"\\n차이: {abs(non_econ['churn'].mean() - econ['churn'].mean())*100:.2f}%p\")"
   ]
  },
  {
   "cell_type": "markdown",
   "metadata": {},
   "source": [
    "## 6. 교육수준 분포 확인"
   ]
  },
  {
   "cell_type": "code",
   "execution_count": 7,
   "metadata": {},
   "outputs": [
    {
     "name": "stdout",
     "output_type": "stream",
     "text": [
      "\n",
      "📊 교육수준 분포\n",
      "============================================================\n",
      "sob_01z1\n",
      "1.0     1463\n",
      "2.0       54\n",
      "3.0     9896\n",
      "4.0    10376\n",
      "5.0    31354\n",
      "6.0    11169\n",
      "7.0    21714\n",
      "8.0     3731\n",
      "Name: count, dtype: int64\n",
      "\n",
      "교육수준별 금연 성공률:\n",
      "            표본수      금연성공률\n",
      "sob_01z1                  \n",
      "1.0        1463  69.446343\n",
      "2.0          54  77.777778\n",
      "3.0        9896  70.008084\n",
      "4.0       10376  63.087895\n",
      "5.0       31354  49.291956\n",
      "6.0       11169  45.769541\n",
      "7.0       21714  53.472414\n",
      "8.0        3731  67.274189\n"
     ]
    }
   ],
   "source": [
    "print(\"\\n📊 교육수준 분포\")\n",
    "print(\"=\" * 60)\n",
    "\n",
    "edu_dist = df_clean['sob_01z1'].value_counts().sort_index()\n",
    "print(edu_dist)\n",
    "\n",
    "print(f\"\\n교육수준별 금연 성공률:\")\n",
    "edu_success = df_clean.groupby('sob_01z1')['churn'].agg(['count', 'mean'])\n",
    "edu_success.columns = ['표본수', '금연성공률']\n",
    "edu_success['금연성공률'] = edu_success['금연성공률'] * 100\n",
    "print(edu_success)"
   ]
  },
  {
   "cell_type": "markdown",
   "metadata": {},
   "source": [
    "## 7. 저장 확인"
   ]
  },
  {
   "cell_type": "code",
   "execution_count": 8,
   "metadata": {},
   "outputs": [
    {
     "name": "stdout",
     "output_type": "stream",
     "text": [
      "\n",
      "✅ 파일 저장 확인\n",
      "   경로: ./output/analy_data_cleaned.csv\n",
      "   크기: 81.45 MB\n",
      "   데이터: 89,757건\n",
      "   변수: 210개\n"
     ]
    }
   ],
   "source": [
    "import os\n",
    "\n",
    "output_file = './output/analy_data_cleaned.csv'\n",
    "\n",
    "if os.path.exists(output_file):\n",
    "    file_size = os.path.getsize(output_file) / (1024 * 1024)  # MB\n",
    "    print(f\"\\n✅ 파일 저장 확인\")\n",
    "    print(f\"   경로: {output_file}\")\n",
    "    print(f\"   크기: {file_size:.2f} MB\")\n",
    "    \n",
    "    # 다시 읽어서 확인\n",
    "    df_test = pd.read_csv(output_file)\n",
    "    print(f\"   데이터: {len(df_test):,}건\")\n",
    "    print(f\"   변수: {len(df_test.columns)}개\")\n",
    "else:\n",
    "    print(f\"\\n❌ 파일이 없습니다: {output_file}\")"
   ]
  },
  {
   "cell_type": "markdown",
   "metadata": {},
   "source": [
    "## 8. 최종 체크리스트"
   ]
  },
  {
   "cell_type": "code",
   "execution_count": 9,
   "metadata": {},
   "outputs": [
    {
     "name": "stdout",
     "output_type": "stream",
     "text": [
      "\n",
      "================================================================================\n",
      "✅ 데이터 정제 완료 체크리스트\n",
      "================================================================================\n",
      "  ✓ 정제 데이터 건수            : 89,757건\n",
      "  ✓ 비경제활동인구              : 24,973건 (27.8%)\n",
      "  ✓ 금연 성공률               : 54.84%\n",
      "  ✓ 분석 변수                : 5개\n",
      "  ✓ 제외 변수                : sob_02z1 (Skip Logic)\n",
      "  ✓ 저장 파일                : ./output/analy_data_cleaned.csv\n",
      "\n",
      "================================================================================\n",
      "💡 다음 단계: 이 데이터로 상관관계 분석 + 특성 중요도 분석\n",
      "================================================================================\n"
     ]
    }
   ],
   "source": [
    "print(\"\\n\" + \"=\" * 80)\n",
    "print(\"✅ 데이터 정제 완료 체크리스트\")\n",
    "print(\"=\" * 80)\n",
    "\n",
    "checklist = [\n",
    "    (\"정제 데이터 건수\", f\"{len(df_clean):,}건\"),\n",
    "    (\"비경제활동인구\", f\"{report['non_economic_count']:,}건 ({report['non_economic_count']/len(df_clean)*100:.1f}%)\"),\n",
    "    (\"금연 성공률\", f\"{df_clean['churn'].mean()*100:.2f}%\"),\n",
    "    (\"분석 변수\", f\"{len(report['analysis_vars'])}개\"),\n",
    "    (\"제외 변수\", \"sob_02z1 (Skip Logic)\"),\n",
    "    (\"저장 파일\", output_file)\n",
    "]\n",
    "\n",
    "for item, value in checklist:\n",
    "    print(f\"  ✓ {item:20} : {value}\")\n",
    "\n",
    "print(\"\\n\" + \"=\" * 80)\n",
    "print(\"💡 다음 단계: 이 데이터로 상관관계 분석 + 특성 중요도 분석\")\n",
    "print(\"=\" * 80)"
   ]
  }
 ],
 "metadata": {
  "kernelspec": {
   "display_name": "ml_env",
   "language": "python",
   "name": "python3"
  },
  "language_info": {
   "codemirror_mode": {
    "name": "ipython",
    "version": 3
   },
   "file_extension": ".py",
   "mimetype": "text/x-python",
   "name": "python",
   "nbconvert_exporter": "python",
   "pygments_lexer": "ipython3",
   "version": "3.12.11"
  }
 },
 "nbformat": 4,
 "nbformat_minor": 2
}


