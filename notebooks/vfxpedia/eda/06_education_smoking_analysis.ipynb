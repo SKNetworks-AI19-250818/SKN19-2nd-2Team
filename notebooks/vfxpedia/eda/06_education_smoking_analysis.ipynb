{
 "cells": [
  {
   "cell_type": "markdown",
   "id": "title",
   "metadata": {},
   "source": [
    "# 📊 교육 수준에 따른 흡연율 상관관계 분석\n",
    "\n",
    "**담당자:** 오흥재  \n",
    "**목표:** 교육 수준(sob_01z1)과 흡연율(sma_03z2) 간의 상관관계 파악\n",
    "\n",
    "---\n",
    "\n",
    "## 📋 분석 계획\n",
    "\n",
    "### 1️⃣ **데이터 준비**\n",
    "- 교육수준(sob_01z1) 변수 확인\n",
    "- 흡연상태(sma_03z2) 변수 확인\n",
    "- 결측치 및 이상치 처리\n",
    "\n",
    "### 2️⃣ **탐색적 데이터 분석 (EDA)**\n",
    "- 교육수준별 분포\n",
    "- 흡연상태별 분포\n",
    "- 교육수준 × 흡연상태 교차표\n",
    "\n",
    "### 3️⃣ **상관관계 분석**\n",
    "- 교육수준별 흡연율 계산\n",
    "- 시각화 (막대그래프, 히트맵)\n",
    "- 통계적 검정 (카이제곱 검정)\n",
    "\n",
    "### 4️⃣ **인사이트 도출**\n",
    "- 주요 발견사항\n",
    "- 모델링 시사점"
   ]
  },
  {
   "cell_type": "code",
   "execution_count": 34,
   "id": "setup",
   "metadata": {},
   "outputs": [
    {
     "name": "stdout",
     "output_type": "stream",
     "text": [
      "✅ 환경 설정 완료!\n"
     ]
    }
   ],
   "source": [
    "# 환경 설정\n",
    "import sys\n",
    "import os\n",
    "project_root = os.path.abspath('../../..')\n",
    "if project_root not in sys.path:\n",
    "    sys.path.insert(0, project_root)\n",
    "\n",
    "import pandas as pd\n",
    "import numpy as np\n",
    "import matplotlib.pyplot as plt\n",
    "import seaborn as sns\n",
    "from scipy import stats\n",
    "from scipy.stats import chi2_contingency\n",
    "import matplotlib.font_manager as fm\n",
    "\n",
    "# Variable Decoder 최신 버전 (fallback 지원)\n",
    "from notebooks.vfxpedia.utils.variable_decoder import (\n",
    "    VariableDecoder,\n",
    "    get_korean_label,\n",
    "    get_korean_labels,\n",
    "    create_korean_labels_dict\n",
    ")\n",
    "\n",
    "# 팀 시각화 스타일\n",
    "try:\n",
    "    font_path = \"C:/Windows/Fonts/HMFMMUEX.TTC\"\n",
    "    if os.path.exists(font_path):\n",
    "        font_prop = fm.FontProperties(fname=font_path)\n",
    "        plt.rcParams['font.family'] = font_prop.get_name()\n",
    "    else:\n",
    "        plt.rcParams['font.family'] = 'Malgun Gothic'\n",
    "except:\n",
    "    plt.rcParams['font.family'] = 'Malgun Gothic'\n",
    "\n",
    "plt.rcParams['axes.unicode_minus'] = False\n",
    "plt.rcParams['figure.figsize'] = (12, 6)\n",
    "\n",
    "# 팀 컬러\n",
    "TEAM_COLORS = {\n",
    "    'primary': '#1f77b4',\n",
    "    'success': '#ff7f0e',\n",
    "    'danger': '#1f77b4',\n",
    "    'palette': ['#1f77b4', '#ff7f0e', '#2ca02c', '#d62728', '#9467bd']\n",
    "}\n",
    "\n",
    "print('✅ 환경 설정 완료!')"
   ]
  },
  {
   "cell_type": "markdown",
   "id": "load",
   "metadata": {},
   "source": [
    "## 📂 Step 1: 데이터 로드 및 변수 디코딩"
   ]
  },
  {
   "cell_type": "code",
   "execution_count": 15,
   "id": "load-data",
   "metadata": {},
   "outputs": [
    {
     "name": "stdout",
     "output_type": "stream",
     "text": [
      "✅ variable.csv 로드 완료: 709 개 매핑\n",
      "✅ variable_full.csv 로드 완료: 681 개 매핑 (fallback)\n",
      "전체 데이터: (89757, 210)\n",
      "\n",
      "핵심 변수 존재 확인:\n",
      "  - sob_01z1 (교육수준): ✅\n",
      "  - sma_03z2 (흡연상태): ✅\n",
      "  - churn (타겟): ✅\n"
     ]
    }
   ],
   "source": [
    "# 데이터 로드\n",
    "df = pd.read_csv('../output/analy_data_cleaned.csv')\n",
    "decoder = VariableDecoder()\n",
    "\n",
    "print(f'전체 데이터: {df.shape}')\n",
    "print(f'\\n핵심 변수 존재 확인:')\n",
    "print(f\"  - sob_01z1 (교육수준): {'✅' if 'sob_01z1' in df.columns else '❌'}\")\n",
    "print(f\"  - sma_03z2 (흡연상태): {'✅' if 'sma_03z2' in df.columns else '❌'}\")\n",
    "print(f\"  - churn (타겟): {'✅' if 'churn' in df.columns else '❌'}\")"
   ]
  },
  {
   "cell_type": "code",
   "execution_count": 16,
   "id": "decode",
   "metadata": {},
   "outputs": [
    {
     "name": "stdout",
     "output_type": "stream",
     "text": [
      "sob_01z1: 교육수준\n",
      "sma_03z2: 일반담배현재흡연상태\n",
      "✅ 디코딩 완료!\n"
     ]
    },
    {
     "data": {
      "text/html": [
       "<div>\n",
       "<style scoped>\n",
       "    .dataframe tbody tr th:only-of-type {\n",
       "        vertical-align: middle;\n",
       "    }\n",
       "\n",
       "    .dataframe tbody tr th {\n",
       "        vertical-align: top;\n",
       "    }\n",
       "\n",
       "    .dataframe thead th {\n",
       "        text-align: right;\n",
       "    }\n",
       "</style>\n",
       "<table border=\"1\" class=\"dataframe\">\n",
       "  <thead>\n",
       "    <tr style=\"text-align: right;\">\n",
       "      <th></th>\n",
       "      <th>sob_01z1</th>\n",
       "      <th>sob_01z1_decoded</th>\n",
       "      <th>sma_03z2</th>\n",
       "      <th>sma_03z2_decoded</th>\n",
       "      <th>churn</th>\n",
       "    </tr>\n",
       "  </thead>\n",
       "  <tbody>\n",
       "    <tr>\n",
       "      <th>0</th>\n",
       "      <td>7.0</td>\n",
       "      <td>4년제대학</td>\n",
       "      <td>3.0</td>\n",
       "      <td>과거피웠으나현재금연</td>\n",
       "      <td>1</td>\n",
       "    </tr>\n",
       "    <tr>\n",
       "      <th>1</th>\n",
       "      <td>5.0</td>\n",
       "      <td>고등학교</td>\n",
       "      <td>1.0</td>\n",
       "      <td>매일피움</td>\n",
       "      <td>0</td>\n",
       "    </tr>\n",
       "    <tr>\n",
       "      <th>2</th>\n",
       "      <td>6.0</td>\n",
       "      <td>2년3년제대학</td>\n",
       "      <td>3.0</td>\n",
       "      <td>과거피웠으나현재금연</td>\n",
       "      <td>1</td>\n",
       "    </tr>\n",
       "    <tr>\n",
       "      <th>3</th>\n",
       "      <td>7.0</td>\n",
       "      <td>4년제대학</td>\n",
       "      <td>1.0</td>\n",
       "      <td>매일피움</td>\n",
       "      <td>0</td>\n",
       "    </tr>\n",
       "    <tr>\n",
       "      <th>4</th>\n",
       "      <td>3.0</td>\n",
       "      <td>초등학교</td>\n",
       "      <td>1.0</td>\n",
       "      <td>매일피움</td>\n",
       "      <td>0</td>\n",
       "    </tr>\n",
       "    <tr>\n",
       "      <th>5</th>\n",
       "      <td>3.0</td>\n",
       "      <td>초등학교</td>\n",
       "      <td>3.0</td>\n",
       "      <td>과거피웠으나현재금연</td>\n",
       "      <td>1</td>\n",
       "    </tr>\n",
       "    <tr>\n",
       "      <th>6</th>\n",
       "      <td>7.0</td>\n",
       "      <td>4년제대학</td>\n",
       "      <td>3.0</td>\n",
       "      <td>과거피웠으나현재금연</td>\n",
       "      <td>1</td>\n",
       "    </tr>\n",
       "    <tr>\n",
       "      <th>7</th>\n",
       "      <td>7.0</td>\n",
       "      <td>4년제대학</td>\n",
       "      <td>3.0</td>\n",
       "      <td>과거피웠으나현재금연</td>\n",
       "      <td>0</td>\n",
       "    </tr>\n",
       "    <tr>\n",
       "      <th>8</th>\n",
       "      <td>8.0</td>\n",
       "      <td>대학원이상</td>\n",
       "      <td>3.0</td>\n",
       "      <td>과거피웠으나현재금연</td>\n",
       "      <td>1</td>\n",
       "    </tr>\n",
       "    <tr>\n",
       "      <th>9</th>\n",
       "      <td>5.0</td>\n",
       "      <td>고등학교</td>\n",
       "      <td>3.0</td>\n",
       "      <td>과거피웠으나현재금연</td>\n",
       "      <td>1</td>\n",
       "    </tr>\n",
       "  </tbody>\n",
       "</table>\n",
       "</div>"
      ],
      "text/plain": [
       "   sob_01z1 sob_01z1_decoded  sma_03z2 sma_03z2_decoded  churn\n",
       "0       7.0            4년제대학       3.0       과거피웠으나현재금연      1\n",
       "1       5.0             고등학교       1.0             매일피움      0\n",
       "2       6.0          2년3년제대학       3.0       과거피웠으나현재금연      1\n",
       "3       7.0            4년제대학       1.0             매일피움      0\n",
       "4       3.0             초등학교       1.0             매일피움      0\n",
       "5       3.0             초등학교       3.0       과거피웠으나현재금연      1\n",
       "6       7.0            4년제대학       3.0       과거피웠으나현재금연      1\n",
       "7       7.0            4년제대학       3.0       과거피웠으나현재금연      0\n",
       "8       8.0            대학원이상       3.0       과거피웠으나현재금연      1\n",
       "9       5.0             고등학교       3.0       과거피웠으나현재금연      1"
      ]
     },
     "execution_count": 16,
     "metadata": {},
     "output_type": "execute_result"
    }
   ],
   "source": [
    "# 변수 디코딩\n",
    "df_work = df.copy()\n",
    "\n",
    "# apply 방식으로 디코딩\n",
    "df_work['sob_01z1_decoded'] = df_work['sob_01z1'].apply(lambda x: decoder.decode_value('sob_01z1', x))\n",
    "df_work['sma_03z2_decoded'] = df_work['sma_03z2'].apply(lambda x: decoder.decode_value('sma_03z2', x))\n",
    "\n",
    "# 변수 라벨 확인\n",
    "print(f\"sob_01z1: {get_korean_label('sob_01z1')}\")  # \"교육수준\"\n",
    "print(f\"sma_03z2: {get_korean_label('sma_03z2')}\")  # \"일반담배현재흡연상태\"\n",
    "\n",
    "\n",
    "# 디코딩 결과 확인\n",
    "print('✅ 디코딩 완료!')\n",
    "df_work[['sob_01z1', 'sob_01z1_decoded', 'sma_03z2', 'sma_03z2_decoded', 'churn']].head(10)"
   ]
  },
  {
   "cell_type": "markdown",
   "id": "eda",
   "metadata": {},
   "source": [
    "## 🔍 Step 2: 탐색적 데이터 분석 (EDA)"
   ]
  },
  {
   "cell_type": "code",
   "execution_count": 17,
   "id": "eda-1",
   "metadata": {},
   "outputs": [
    {
     "name": "stdout",
     "output_type": "stream",
     "text": [
      "=== 교육수준 분포 ===\n",
      "고등학교       31354\n",
      "4년제대학      21714\n",
      "2년3년제대학    11169\n",
      "중학교        10376\n",
      "초등학교        9896\n",
      "대학원이상       3731\n",
      "무학          1463\n",
      "서당한학          54\n",
      "Name: count, dtype: int64\n"
     ]
    },
    {
     "data": {
      "image/png": "[encoded data removed]",
      "text/plain": [
       "<Figure size 1200x600 with 1 Axes>"
      ]
     },
     "metadata": {},
     "output_type": "display_data"
    }
   ],
   "source": [
    "# 교육수준 분포\n",
    "print('=== 교육수준 분포 ===')\n",
    "edu_dist = decoder.create_value_counts_decoded(df_work, 'sob_01z1')\n",
    "print(edu_dist)\n",
    "\n",
    "# 시각화\n",
    "fig, ax = plt.subplots(figsize=(12, 6))\n",
    "edu_dist.plot(kind='barh', ax=ax, color='steelblue')\n",
    "ax.set_title('교육수준별 분포', fontsize=16, fontweight='bold')\n",
    "ax.set_xlabel('빈도')\n",
    "ax.set_ylabel('교육수준')\n",
    "\n",
    "# 막대 위에 값 표시\n",
    "for i, v in enumerate(edu_dist):\n",
    "    ax.text(v + 100, i, f'{v:,}', va='center')\n",
    "\n",
    "plt.tight_layout()\n",
    "plt.show()"
   ]
  },
  {
   "cell_type": "code",
   "execution_count": 20,
   "id": "eda-2",
   "metadata": {},
   "outputs": [
    {
     "name": "stdout",
     "output_type": "stream",
     "text": [
      "\n",
      "=== 흡연상태 분포 ===\n",
      "과거피웠으나현재금연    52026\n",
      "매일피움          33774\n",
      "가끔피움           3593\n",
      "비해당             328\n",
      "모름               36\n",
      "Name: count, dtype: int64\n"
     ]
    },
    {
     "data": {
      "image/png": "[encoded data removed]",
      "text/plain": [
       "<Figure size 1000x600 with 1 Axes>"
      ]
     },
     "metadata": {},
     "output_type": "display_data"
    }
   ],
   "source": [
    "# 흡연상태 분포\n",
    "print('\\n=== 흡연상태 분포 ===')\n",
    "smoke_dist = decoder.create_value_counts_decoded(df_work, 'sma_03z2')\n",
    "print(smoke_dist)\n",
    "\n",
    "# 시각화\n",
    "fig, ax = plt.subplots(figsize=(10, 6))\n",
    "smoke_dist.plot(kind='bar', ax=ax, color=TEAM_COLORS['palette'])\n",
    "ax.set_title('흡연상태 분포', fontsize=16, fontweight='bold')\n",
    "ax.set_xlabel('흡연상태')\n",
    "ax.set_ylabel('빈도')\n",
    "plt.xticks(rotation=45, ha='right')\n",
    "\n",
    "for i, v in enumerate(smoke_dist):\n",
    "    ax.text(i, v + 500, f'{v:,}', ha='center')\n",
    "\n",
    "plt.tight_layout()\n",
    "plt.show()"
   ]
  },
  {
   "cell_type": "markdown",
   "id": "crosstab",
   "metadata": {},
   "source": [
    "## 📊 Step 3: 교차분석 (교육수준 × 흡연상태)"
   ]
  },
  {
   "cell_type": "code",
   "execution_count": 21,
   "id": "cross-1",
   "metadata": {},
   "outputs": [
    {
     "name": "stdout",
     "output_type": "stream",
     "text": [
      "=== 교육수준 × 흡연상태 교차표 ===\n"
     ]
    },
    {
     "data": {
      "text/html": [
       "<div>\n",
       "<style scoped>\n",
       "    .dataframe tbody tr th:only-of-type {\n",
       "        vertical-align: middle;\n",
       "    }\n",
       "\n",
       "    .dataframe tbody tr th {\n",
       "        vertical-align: top;\n",
       "    }\n",
       "\n",
       "    .dataframe thead th {\n",
       "        text-align: right;\n",
       "    }\n",
       "</style>\n",
       "<table border=\"1\" class=\"dataframe\">\n",
       "  <thead>\n",
       "    <tr style=\"text-align: right;\">\n",
       "      <th>sma_03z2_decoded</th>\n",
       "      <th>가끔피움</th>\n",
       "      <th>과거피웠으나현재금연</th>\n",
       "      <th>매일피움</th>\n",
       "      <th>모름</th>\n",
       "      <th>비해당</th>\n",
       "      <th>All</th>\n",
       "    </tr>\n",
       "    <tr>\n",
       "      <th>sob_01z1_decoded</th>\n",
       "      <th></th>\n",
       "      <th></th>\n",
       "      <th></th>\n",
       "      <th></th>\n",
       "      <th></th>\n",
       "      <th></th>\n",
       "    </tr>\n",
       "  </thead>\n",
       "  <tbody>\n",
       "    <tr>\n",
       "      <th>2년3년제대학</th>\n",
       "      <td>601</td>\n",
       "      <td>5627</td>\n",
       "      <td>4862</td>\n",
       "      <td>7</td>\n",
       "      <td>72</td>\n",
       "      <td>11169</td>\n",
       "    </tr>\n",
       "    <tr>\n",
       "      <th>4년제대학</th>\n",
       "      <td>1110</td>\n",
       "      <td>12867</td>\n",
       "      <td>7594</td>\n",
       "      <td>7</td>\n",
       "      <td>136</td>\n",
       "      <td>21714</td>\n",
       "    </tr>\n",
       "    <tr>\n",
       "      <th>고등학교</th>\n",
       "      <td>1122</td>\n",
       "      <td>16225</td>\n",
       "      <td>13903</td>\n",
       "      <td>12</td>\n",
       "      <td>92</td>\n",
       "      <td>31354</td>\n",
       "    </tr>\n",
       "    <tr>\n",
       "      <th>대학원이상</th>\n",
       "      <td>206</td>\n",
       "      <td>2729</td>\n",
       "      <td>786</td>\n",
       "      <td>0</td>\n",
       "      <td>10</td>\n",
       "      <td>3731</td>\n",
       "    </tr>\n",
       "    <tr>\n",
       "      <th>무학</th>\n",
       "      <td>32</td>\n",
       "      <td>1016</td>\n",
       "      <td>412</td>\n",
       "      <td>1</td>\n",
       "      <td>2</td>\n",
       "      <td>1463</td>\n",
       "    </tr>\n",
       "    <tr>\n",
       "      <th>서당한학</th>\n",
       "      <td>1</td>\n",
       "      <td>42</td>\n",
       "      <td>11</td>\n",
       "      <td>0</td>\n",
       "      <td>0</td>\n",
       "      <td>54</td>\n",
       "    </tr>\n",
       "    <tr>\n",
       "      <th>중학교</th>\n",
       "      <td>312</td>\n",
       "      <td>6580</td>\n",
       "      <td>3467</td>\n",
       "      <td>5</td>\n",
       "      <td>12</td>\n",
       "      <td>10376</td>\n",
       "    </tr>\n",
       "    <tr>\n",
       "      <th>초등학교</th>\n",
       "      <td>209</td>\n",
       "      <td>6940</td>\n",
       "      <td>2739</td>\n",
       "      <td>4</td>\n",
       "      <td>4</td>\n",
       "      <td>9896</td>\n",
       "    </tr>\n",
       "    <tr>\n",
       "      <th>All</th>\n",
       "      <td>3593</td>\n",
       "      <td>52026</td>\n",
       "      <td>33774</td>\n",
       "      <td>36</td>\n",
       "      <td>328</td>\n",
       "      <td>89757</td>\n",
       "    </tr>\n",
       "  </tbody>\n",
       "</table>\n",
       "</div>"
      ],
      "text/plain": [
       "sma_03z2_decoded  가끔피움  과거피웠으나현재금연   매일피움  모름  비해당    All\n",
       "sob_01z1_decoded                                         \n",
       "2년3년제대학            601        5627   4862   7   72  11169\n",
       "4년제대학             1110       12867   7594   7  136  21714\n",
       "고등학교              1122       16225  13903  12   92  31354\n",
       "대학원이상              206        2729    786   0   10   3731\n",
       "무학                  32        1016    412   1    2   1463\n",
       "서당한학                 1          42     11   0    0     54\n",
       "중학교                312        6580   3467   5   12  10376\n",
       "초등학교               209        6940   2739   4    4   9896\n",
       "All               3593       52026  33774  36  328  89757"
      ]
     },
     "execution_count": 21,
     "metadata": {},
     "output_type": "execute_result"
    }
   ],
   "source": [
    "# 교차표 생성\n",
    "crosstab = pd.crosstab(\n",
    "    df_work['sob_01z1_decoded'], \n",
    "    df_work['sma_03z2_decoded'],\n",
    "    margins=True\n",
    ")\n",
    "\n",
    "print('=== 교육수준 × 흡연상태 교차표 ===')\n",
    "crosstab"
   ]
  },
  {
   "cell_type": "code",
   "execution_count": 22,
   "id": "cross-2",
   "metadata": {},
   "outputs": [
    {
     "name": "stdout",
     "output_type": "stream",
     "text": [
      "\n",
      "=== 교육수준별 흡연상태 비율 (%) ===\n"
     ]
    },
    {
     "data": {
      "text/html": [
       "<div>\n",
       "<style scoped>\n",
       "    .dataframe tbody tr th:only-of-type {\n",
       "        vertical-align: middle;\n",
       "    }\n",
       "\n",
       "    .dataframe tbody tr th {\n",
       "        vertical-align: top;\n",
       "    }\n",
       "\n",
       "    .dataframe thead th {\n",
       "        text-align: right;\n",
       "    }\n",
       "</style>\n",
       "<table border=\"1\" class=\"dataframe\">\n",
       "  <thead>\n",
       "    <tr style=\"text-align: right;\">\n",
       "      <th>sma_03z2_decoded</th>\n",
       "      <th>가끔피움</th>\n",
       "      <th>과거피웠으나현재금연</th>\n",
       "      <th>매일피움</th>\n",
       "      <th>모름</th>\n",
       "      <th>비해당</th>\n",
       "    </tr>\n",
       "    <tr>\n",
       "      <th>sob_01z1_decoded</th>\n",
       "      <th></th>\n",
       "      <th></th>\n",
       "      <th></th>\n",
       "      <th></th>\n",
       "      <th></th>\n",
       "    </tr>\n",
       "  </thead>\n",
       "  <tbody>\n",
       "    <tr>\n",
       "      <th>2년3년제대학</th>\n",
       "      <td>5.38</td>\n",
       "      <td>50.38</td>\n",
       "      <td>43.53</td>\n",
       "      <td>0.06</td>\n",
       "      <td>0.64</td>\n",
       "    </tr>\n",
       "    <tr>\n",
       "      <th>4년제대학</th>\n",
       "      <td>5.11</td>\n",
       "      <td>59.26</td>\n",
       "      <td>34.97</td>\n",
       "      <td>0.03</td>\n",
       "      <td>0.63</td>\n",
       "    </tr>\n",
       "    <tr>\n",
       "      <th>고등학교</th>\n",
       "      <td>3.58</td>\n",
       "      <td>51.75</td>\n",
       "      <td>44.34</td>\n",
       "      <td>0.04</td>\n",
       "      <td>0.29</td>\n",
       "    </tr>\n",
       "    <tr>\n",
       "      <th>대학원이상</th>\n",
       "      <td>5.52</td>\n",
       "      <td>73.14</td>\n",
       "      <td>21.07</td>\n",
       "      <td>0.00</td>\n",
       "      <td>0.27</td>\n",
       "    </tr>\n",
       "    <tr>\n",
       "      <th>무학</th>\n",
       "      <td>2.19</td>\n",
       "      <td>69.45</td>\n",
       "      <td>28.16</td>\n",
       "      <td>0.07</td>\n",
       "      <td>0.14</td>\n",
       "    </tr>\n",
       "    <tr>\n",
       "      <th>서당한학</th>\n",
       "      <td>1.85</td>\n",
       "      <td>77.78</td>\n",
       "      <td>20.37</td>\n",
       "      <td>0.00</td>\n",
       "      <td>0.00</td>\n",
       "    </tr>\n",
       "    <tr>\n",
       "      <th>중학교</th>\n",
       "      <td>3.01</td>\n",
       "      <td>63.42</td>\n",
       "      <td>33.41</td>\n",
       "      <td>0.05</td>\n",
       "      <td>0.12</td>\n",
       "    </tr>\n",
       "    <tr>\n",
       "      <th>초등학교</th>\n",
       "      <td>2.11</td>\n",
       "      <td>70.13</td>\n",
       "      <td>27.68</td>\n",
       "      <td>0.04</td>\n",
       "      <td>0.04</td>\n",
       "    </tr>\n",
       "  </tbody>\n",
       "</table>\n",
       "</div>"
      ],
      "text/plain": [
       "sma_03z2_decoded  가끔피움  과거피웠으나현재금연   매일피움    모름   비해당\n",
       "sob_01z1_decoded                                     \n",
       "2년3년제대학           5.38       50.38  43.53  0.06  0.64\n",
       "4년제대학             5.11       59.26  34.97  0.03  0.63\n",
       "고등학교              3.58       51.75  44.34  0.04  0.29\n",
       "대학원이상             5.52       73.14  21.07  0.00  0.27\n",
       "무학                2.19       69.45  28.16  0.07  0.14\n",
       "서당한학              1.85       77.78  20.37  0.00  0.00\n",
       "중학교               3.01       63.42  33.41  0.05  0.12\n",
       "초등학교              2.11       70.13  27.68  0.04  0.04"
      ]
     },
     "execution_count": 22,
     "metadata": {},
     "output_type": "execute_result"
    }
   ],
   "source": [
    "# 비율로 변환 (행 기준)\n",
    "crosstab_pct = pd.crosstab(\n",
    "    df_work['sob_01z1_decoded'], \n",
    "    df_work['sma_03z2_decoded'],\n",
    "    normalize='index'\n",
    ") * 100\n",
    "\n",
    "print('\\n=== 교육수준별 흡연상태 비율 (%) ===')\n",
    "crosstab_pct.round(2)"
   ]
  },
  {
   "cell_type": "code",
   "execution_count": 26,
   "id": "cross-viz",
   "metadata": {},
   "outputs": [
    {
     "data": {
      "image/png": "[encoded data removed]",
      "text/plain": [
       "<Figure size 1000x800 with 2 Axes>"
      ]
     },
     "metadata": {},
     "output_type": "display_data"
    }
   ],
   "source": [
    "# 히트맵 시각화\n",
    "fig, ax = plt.subplots(figsize=(10, 8))\n",
    "sns.heatmap(crosstab_pct, annot=True, fmt='.1f', cmap='PuBuGn', \n",
    "            cbar_kws={'label': '비율 (%)'}, ax=ax)\n",
    "ax.set_title('교육수준별 흡연상태 비율 (%)', fontsize=16, fontweight='bold')\n",
    "ax.set_xlabel('흡연상태', fontsize=12)\n",
    "ax.set_ylabel('교육수준', fontsize=12)\n",
    "plt.tight_layout()\n",
    "plt.show()"
   ]
  },
  {
   "cell_type": "markdown",
   "id": "smoking-rate",
   "metadata": {},
   "source": [
    "## 🎯 Step 4: 교육수준별 흡연율 계산"
   ]
  },
  {
   "cell_type": "code",
   "execution_count": 28,
   "id": "rate-1",
   "metadata": {},
   "outputs": [
    {
     "name": "stdout",
     "output_type": "stream",
     "text": [
      "=== 교육수준별 현재 흡연율 (%) ===\n",
      "sob_01z1_decoded\n",
      "2년3년제대학    48.91\n",
      "고등학교       47.92\n",
      "4년제대학      40.08\n",
      "중학교        36.42\n",
      "무학         30.35\n",
      "초등학교       29.79\n",
      "대학원이상      26.59\n",
      "서당한학       22.22\n",
      "dtype: float64\n"
     ]
    },
    {
     "name": "stderr",
     "output_type": "stream",
     "text": [
      "C:\\Users\\user\\AppData\\Local\\Temp\\ipykernel_90648\\2775999817.py:5: FutureWarning: DataFrameGroupBy.apply operated on the grouping columns. This behavior is deprecated, and in a future version of pandas the grouping columns will be excluded from the operation. Either pass `include_groups=False` to exclude the groupings or explicitly select the grouping columns after groupby to silence this warning.\n",
      "  smoking_rate = df_work.groupby('sob_01z1_decoded').apply(\n"
     ]
    }
   ],
   "source": [
    "# 현재 흡연자만 필터링 (매일 + 가끔)\n",
    "# sma_03z2: 1=매일피운다, 2=가끔피운다, 3=과거피웠으나현재안피움\n",
    "\n",
    "# 교육수준별 현재 흡연율 계산\n",
    "smoking_rate = df_work.groupby('sob_01z1_decoded').apply(\n",
    "    lambda x: (x['sma_03z2'].isin([1.0, 2.0])).sum() / len(x) * 100\n",
    ").sort_values(ascending=False)\n",
    "\n",
    "print('=== 교육수준별 현재 흡연율 (%) ===')\n",
    "print(smoking_rate.round(2))"
   ]
  },
  {
   "cell_type": "code",
   "execution_count": 33,
   "id": "rate-viz",
   "metadata": {},
   "outputs": [
    {
     "data": {
      "image/png": "[encoded data removed]",
      "text/plain": [
       "<Figure size 1200x600 with 1 Axes>"
      ]
     },
     "metadata": {},
     "output_type": "display_data"
    }
   ],
   "source": [
    "# 흡연율 시각화\n",
    "fig, ax = plt.subplots(figsize=(12, 6))\n",
    "smoking_rate.plot(kind='barh', ax=ax, color=TEAM_COLORS['danger'])\n",
    "ax.set_title('교육수준별 현재 흡연율 (%)', fontsize=16, fontweight='bold')\n",
    "ax.set_xlabel('흡연율 (%)')\n",
    "ax.set_ylabel('교육수준')\n",
    "ax.axvline(smoking_rate.mean(), color='red', linestyle='--', label=f'평균: {smoking_rate.mean():.1f}%')\n",
    "ax.legend()\n",
    "\n",
    "for i, v in enumerate(smoking_rate):\n",
    "    ax.text(v + 0.5, i, f'{v:.1f}%', va='center')\n",
    "\n",
    "plt.tight_layout()\n",
    "plt.show()"
   ]
  },
  {
   "cell_type": "markdown",
   "id": "stat",
   "metadata": {},
   "source": [
    "## 📈 Step 5: 통계적 검정 (카이제곱 검정)"
   ]
  },
  {
   "cell_type": "markdown",
   "id": "0ea52259",
   "metadata": {},
   "source": [
    "### 카이제곱 검정\n",
    "    H0: 교육수준과 흡연상태는 독립이다 (상관관계 없음)\n",
    "    H1: 교육수준과 흡연상태는 독립이 아니다 (상관관계 있음)"
   ]
  },
  {
   "cell_type": "code",
   "execution_count": 40,
   "id": "e1fbd7b2",
   "metadata": {},
   "outputs": [
    {
     "name": "stdout",
     "output_type": "stream",
     "text": [
      "=== 카이제곱 검정 결과 ===\n",
      "카이제곱 통계량: 2351.8658\n",
      "p-value: 0.0000\n",
      "\n",
      "결론: ✅ 교육수준과 금연성공은 관련이 있습니다! (p < 0.05)\n"
     ]
    }
   ],
   "source": [
    "# 교육수준 × 금연성공 관계\n",
    "crosstab = pd.crosstab(df['sob_01z1'], df['churn'])\n",
    "chi2, p_value, dof, expected = chi2_contingency(crosstab)\n",
    "\n",
    "print('=== 카이제곱 검정 결과 ===')\n",
    "print(f\"카이제곱 통계량: {chi2:.4f}\")\n",
    "print(f\"p-value: {p_value:.4f}\")\n",
    "\n",
    "print(f'\\n결론: ', end='')\n",
    "if p_value < 0.05:\n",
    "    print(\"✅ 교육수준과 금연성공은 관련이 있습니다! (p < 0.05)\")\n",
    "else:\n",
    "    print(\"❌ 유의미한 관계가 없습니다 (p ≥ 0.05)\")"
   ]
  },
  {
   "cell_type": "code",
   "execution_count": 38,
   "id": "chi-square",
   "metadata": {},
   "outputs": [
    {
     "name": "stdout",
     "output_type": "stream",
     "text": [
      "=== 카이제곱 검정 결과 ===\n",
      "카이제곱 통계량: 2361.53\n",
      "p-value: 0.0000e+00\n",
      "자유도: 28\n",
      "\n",
      "결론: ✅ 교육수준과 흡연상태는 통계적으로 유의한 상관관계가 있습니다 (p < 0.05)\n"
     ]
    }
   ],
   "source": [
    "# 교육수준 × 흡흡연성공 관계\n",
    "\n",
    "\n",
    "contingency_table = pd.crosstab(df_work['sob_01z1_decoded'], df_work['sma_03z2_decoded'])\n",
    "chi2, p_value, dof, expected = stats.chi2_contingency(contingency_table)\n",
    "\n",
    "print('=== 카이제곱 검정 결과 ===')\n",
    "print(f'카이제곱 통계량: {chi2:.2f}')\n",
    "print(f'p-value: {p_value:.4e}')\n",
    "print(f'자유도: {dof}')\n",
    "print(f'\\n결론: ', end='')\n",
    "if p_value < 0.05:\n",
    "    print('✅ 교육수준과 흡연상태는 통계적으로 유의한 상관관계가 있습니다 (p < 0.05)')\n",
    "else:\n",
    "    print('❌ 교육수준과 흡연상태 간 유의한 상관관계를 발견하지 못했습니다 (p ≥ 0.05)')"
   ]
  },
  {
   "cell_type": "markdown",
   "id": "45dc37d9",
   "metadata": {},
   "source": [
    "### 크래머의 V (Cramér's V)\n",
    "    \"관계가 얼마나 강한가?\" 를 측정 (0~1 사이 값)"
   ]
  },
  {
   "cell_type": "code",
   "execution_count": 42,
   "id": "0b281bb1",
   "metadata": {},
   "outputs": [
    {
     "name": "stdout",
     "output_type": "stream",
     "text": [
      "============================================================\n",
      "📊 크래머의 V - 상관관계 강도 해석\n",
      "============================================================\n",
      "0.0~0.1: 매우 약한 관계\n",
      "0.1~0.3: 약한 관계\n",
      "0.3~0.5: 중간 관계\n",
      "0.5 이상: 강한 관계\n",
      "\n",
      "📈 교육수준 × 금연성공: 0.1619\n",
      "✅ 해석: 약한 상관관계\n",
      "============================================================\n"
     ]
    }
   ],
   "source": [
    "def cramers_v(x, y):\n",
    "    \"\"\"크래머의 V 계산 (범주형 변수 간 상관관계 강도)\"\"\"\n",
    "    crosstab = pd.crosstab(x, y)\n",
    "    chi2 = chi2_contingency(crosstab)[0]\n",
    "    n = crosstab.sum().sum()\n",
    "    min_dim = min(crosstab.shape) - 1\n",
    "    return np.sqrt(chi2 / (n * min_dim))\n",
    "\n",
    "# 교육수준 vs 금연성공 상관관계\n",
    "v = cramers_v(df['sob_01z1'], df['churn'])\n",
    "\n",
    "print(\"=\" * 60)\n",
    "print(\"📊 크래머의 V - 상관관계 강도 해석\")\n",
    "print(\"=\" * 60)\n",
    "print(\"0.0~0.1: 매우 약한 관계\")\n",
    "print(\"0.1~0.3: 약한 관계\")\n",
    "print(\"0.3~0.5: 중간 관계\")\n",
    "print(\"0.5 이상: 강한 관계\")\n",
    "print()\n",
    "print(f\"📈 {get_korean_label('sob_01z1')} × 금연성공: {v:.4f}\")\n",
    "\n",
    "# 자동 해석\n",
    "if v < 0.1:\n",
    "    strength = \"매우 약한\"\n",
    "elif v < 0.3:\n",
    "    strength = \"약한\"\n",
    "elif v < 0.5:\n",
    "    strength = \"중간\"\n",
    "else:\n",
    "    strength = \"강한\"\n",
    "    \n",
    "print(f\"✅ 해석: {strength} 상관관계\")\n",
    "print(\"=\" * 60)"
   ]
  },
  {
   "cell_type": "markdown",
   "id": "insights",
   "metadata": {},
   "source": [
    "## 💡 Step 6: 주요 발견사항 및 인사이트\n",
    "\n",
    "### 📌 분석 결과 요약\n",
    "\n",
    "#### 1. 교육수준별 흡연율 차이\n",
    "- **역U자 패턴 발견**: 중간 학력(고등학교, 전문대)에서 흡연율 최고\n",
    "- 최고: 전문대 48.91%, 고등학교 47.92%\n",
    "- 최저: 서당/한학 22.22%, 대학원 26.59%\n",
    "\n",
    "#### 2. 통계적 유의성\n",
    "- 카이제곱: χ² = 2,361.53, p < 0.001 (매우 유의)\n",
    "- 크래머 V ≈ 0.12 (약한 상관)\n",
    "- 결론: 유의하지만 절대적 영향력은 크지 않음\n",
    "\n",
    "#### 3. 모델링 시사점\n",
    "- **전처리**: 3그룹 분류 권장 (저/중/고학력)\n",
    "- **변수 포함**: 필수 (통계적으로 유의)\n",
    "- **상호작용**: 경제활동, 나이와 교차효과 분석 필요\n",
    "\n",
    "### ✅ 다음 단계\n",
    "- 교육수준 × 금연성공률(churn) 분석\n",
    "- 연령대별 효과 분석\n",
    "- 경제활동 분석과 통합"
   ]
  }
 ],
 "metadata": {
  "kernelspec": {
   "display_name": "ml_env",
   "language": "python",
   "name": "python3"
  },
  "language_info": {
   "codemirror_mode": {
    "name": "ipython",
    "version": 3
   },
   "file_extension": ".py",
   "mimetype": "text/x-python",
   "name": "python",
   "nbconvert_exporter": "python",
   "pygments_lexer": "ipython3",
   "version": "3.12.11"
  }
 },
 "nbformat": 4,
 "nbformat_minor": 5
}
