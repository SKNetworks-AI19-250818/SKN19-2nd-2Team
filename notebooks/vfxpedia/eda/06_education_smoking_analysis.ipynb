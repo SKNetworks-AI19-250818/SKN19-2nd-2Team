﻿{
 "cells": [
  {
   "cell_type": "markdown",
   "id": "title",
   "metadata": {},
   "source": [
    "# 📊 교육 수준에 따른 흡연율 상관관계 분석\n",
    "\n",
    "**담당자:** 오흥재  \n",
    "**목표:** 교육 수준(sob_01z1)과 흡연율(sma_03z2) 간의 상관관계 파악\n",
    "\n",
    "---\n",
    "\n",
    "## 📋 분석 계획\n",
    "\n",
    "### 1️⃣ **데이터 준비**\n",
    "- 교육수준(sob_01z1) 변수 확인\n",
    "- 흡연상태(sma_03z2) 변수 확인\n",
    "- 결측치 및 이상치 처리\n",
    "\n",
    "### 2️⃣ **탐색적 데이터 분석 (EDA)**\n",
    "- 교육수준별 분포\n",
    "- 흡연상태별 분포\n",
    "- 교육수준 × 흡연상태 교차표\n",
    "\n",
    "### 3️⃣ **상관관계 분석**\n",
    "- 교육수준별 흡연율 계산\n",
    "- 시각화 (막대그래프, 히트맵)\n",
    "- 통계적 검정 (카이제곱 검정)\n",
    "\n",
    "### 4️⃣ **인사이트 도출**\n",
    "- 주요 발견사항\n",
    "- 모델링 시사점"
   ]
  },
  {
   "cell_type": "code",
   "execution_count": null,
   "id": "setup",
   "metadata": {},
   "outputs": [],
   "source": [
    "# 환경 설정\n",
    "import sys\n",
    "import os\n",
    "project_root = os.path.abspath('../../..')\n",
    "if project_root not in sys.path:\n",
    "    sys.path.insert(0, project_root)\n",
    "\n",
    "import pandas as pd\n",
    "import numpy as np\n",
    "import matplotlib.pyplot as plt\n",
    "import seaborn as sns\n",
    "from scipy import stats\n",
    "\n",
    "from utils.variable_decoder import VariableDecoder\n",
    "\n",
    "plt.rcParams['font.family'] = 'Malgun Gothic'\n",
    "plt.rcParams['axes.unicode_minus'] = False\n",
    "plt.rcParams['figure.figsize'] = (12, 6)\n",
    "sns.set_palette('husl')\n",
    "\n",
    "print('✅ 환경 설정 완료!')"
   ]
  },
  {
   "cell_type": "markdown",
   "id": "load",
   "metadata": {},
   "source": [
    "## 📂 Step 1: 데이터 로드 및 변수 디코딩"
   ]
  },
  {
   "cell_type": "code",
   "execution_count": null,
   "id": "load-data",
   "metadata": {},
   "outputs": [],
   "source": [
    "# 데이터 로드\n",
    "df = pd.read_csv('../../../data/analy_data.csv')\n",
    "decoder = VariableDecoder()\n",
    "\n",
    "print(f'전체 데이터: {df.shape}')\n",
    "print(f'\\n핵심 변수 존재 확인:')\n",
    "print(f\"  - sob_01z1 (교육수준): {'✅' if 'sob_01z1' in df.columns else '❌'}\")\n",
    "print(f\"  - sma_03z2 (흡연상태): {'✅' if 'sma_03z2' in df.columns else '❌'}\")\n",
    "print(f\"  - churn (타겟): {'✅' if 'churn' in df.columns else '❌'}\")"
   ]
  },
  {
   "cell_type": "code",
   "execution_count": null,
   "id": "decode",
   "metadata": {},
   "outputs": [],
   "source": [
    "# 변수 디코딩\n",
    "df_work = decoder.decode_multiple_columns(df, ['sob_01z1', 'sma_03z2'])\n",
    "\n",
    "# 디코딩 결과 확인\n",
    "print('✅ 디코딩 완료!')\n",
    "df_work[['sob_01z1', 'sob_01z1_decoded', 'sma_03z2', 'sma_03z2_decoded', 'churn']].head(10)"
   ]
  },
  {
   "cell_type": "markdown",
   "id": "eda",
   "metadata": {},
   "source": [
    "## 🔍 Step 2: 탐색적 데이터 분석 (EDA)"
   ]
  },
  {
   "cell_type": "code",
   "execution_count": null,
   "id": "eda-1",
   "metadata": {},
   "outputs": [],
   "source": [
    "# 교육수준 분포\n",
    "print('=== 교육수준 분포 ===')\n",
    "edu_dist = decoder.create_value_counts_decoded(df_work, 'sob_01z1')\n",
    "print(edu_dist)\n",
    "\n",
    "# 시각화\n",
    "fig, ax = plt.subplots(figsize=(12, 6))\n",
    "edu_dist.plot(kind='barh', ax=ax, color='steelblue')\n",
    "ax.set_title('교육수준별 분포', fontsize=16, fontweight='bold')\n",
    "ax.set_xlabel('빈도')\n",
    "ax.set_ylabel('교육수준')\n",
    "\n",
    "# 막대 위에 값 표시\n",
    "for i, v in enumerate(edu_dist):\n",
    "    ax.text(v + 100, i, f'{v:,}', va='center')\n",
    "\n",
    "plt.tight_layout()\n",
    "plt.show()"
   ]
  },
  {
   "cell_type": "code",
   "execution_count": null,
   "id": "eda-2",
   "metadata": {},
   "outputs": [],
   "source": [
    "# 흡연상태 분포\n",
    "print('\\n=== 흡연상태 분포 ===')\n",
    "smoke_dist = decoder.create_value_counts_decoded(df_work, 'sma_03z2')\n",
    "print(smoke_dist)\n",
    "\n",
    "# 시각화\n",
    "fig, ax = plt.subplots(figsize=(10, 6))\n",
    "smoke_dist.plot(kind='bar', ax=ax, color=['#FF6B6B', '#4ECDC4', '#95E1D3'])\n",
    "ax.set_title('흡연상태 분포', fontsize=16, fontweight='bold')\n",
    "ax.set_xlabel('흡연상태')\n",
    "ax.set_ylabel('빈도')\n",
    "plt.xticks(rotation=45, ha='right')\n",
    "\n",
    "for i, v in enumerate(smoke_dist):\n",
    "    ax.text(i, v + 500, f'{v:,}', ha='center')\n",
    "\n",
    "plt.tight_layout()\n",
    "plt.show()"
   ]
  },
  {
   "cell_type": "markdown",
   "id": "crosstab",
   "metadata": {},
   "source": [
    "## 📊 Step 3: 교차분석 (교육수준 × 흡연상태)"
   ]
  },
  {
   "cell_type": "code",
   "execution_count": null,
   "id": "cross-1",
   "metadata": {},
   "outputs": [],
   "source": [
    "# 교차표 생성\n",
    "crosstab = pd.crosstab(\n",
    "    df_work['sob_01z1_decoded'], \n",
    "    df_work['sma_03z2_decoded'],\n",
    "    margins=True\n",
    ")\n",
    "\n",
    "print('=== 교육수준 × 흡연상태 교차표 ===')\n",
    "crosstab"
   ]
  },
  {
   "cell_type": "code",
   "execution_count": null,
   "id": "cross-2",
   "metadata": {},
   "outputs": [],
   "source": [
    "# 비율로 변환 (행 기준)\n",
    "crosstab_pct = pd.crosstab(\n",
    "    df_work['sob_01z1_decoded'], \n",
    "    df_work['sma_03z2_decoded'],\n",
    "    normalize='index'\n",
    ") * 100\n",
    "\n",
    "print('\\n=== 교육수준별 흡연상태 비율 (%) ===')\n",
    "crosstab_pct.round(2)"
   ]
  },
  {
   "cell_type": "code",
   "execution_count": null,
   "id": "cross-viz",
   "metadata": {},
   "outputs": [],
   "source": [
    "# 히트맵 시각화\n",
    "fig, ax = plt.subplots(figsize=(10, 8))\n",
    "sns.heatmap(crosstab_pct, annot=True, fmt='.1f', cmap='YlOrRd', \n",
    "            cbar_kws={'label': '비율 (%)'}, ax=ax)\n",
    "ax.set_title('교육수준별 흡연상태 비율 (%)', fontsize=16, fontweight='bold')\n",
    "ax.set_xlabel('흡연상태', fontsize=12)\n",
    "ax.set_ylabel('교육수준', fontsize=12)\n",
    "plt.tight_layout()\n",
    "plt.show()"
   ]
  },
  {
   "cell_type": "markdown",
   "id": "smoking-rate",
   "metadata": {},
   "source": [
    "## 🎯 Step 4: 교육수준별 흡연율 계산"
   ]
  },
  {
   "cell_type": "code",
   "execution_count": null,
   "id": "rate-1",
   "metadata": {},
   "outputs": [],
   "source": [
    "# 현재 흡연자만 필터링 (매일 + 가끔)\n",
    "# sma_03z2: 1=매일피운다, 2=가끔피운다, 3=과거피웠으나현재안피움\n",
    "\n",
    "# 교육수준별 현재 흡연율 계산\n",
    "smoking_rate = df_work.groupby('sob_01z1_decoded').apply(\n",
    "    lambda x: (x['sma_03z2'].isin([1.0, 2.0])).sum() / len(x) * 100\n",
    ").sort_values(ascending=False)\n",
    "\n",
    "print('=== 교육수준별 현재 흡연율 (%) ===')\n",
    "print(smoking_rate.round(2))"
   ]
  },
  {
   "cell_type": "code",
   "execution_count": null,
   "id": "rate-viz",
   "metadata": {},
   "outputs": [],
   "source": [
    "# 흡연율 시각화\n",
    "fig, ax = plt.subplots(figsize=(12, 6))\n",
    "smoking_rate.plot(kind='barh', ax=ax, color='coral')\n",
    "ax.set_title('교육수준별 현재 흡연율 (%)', fontsize=16, fontweight='bold')\n",
    "ax.set_xlabel('흡연율 (%)')\n",
    "ax.set_ylabel('교육수준')\n",
    "ax.axvline(smoking_rate.mean(), color='red', linestyle='--', label=f'평균: {smoking_rate.mean():.1f}%')\n",
    "ax.legend()\n",
    "\n",
    "for i, v in enumerate(smoking_rate):\n",
    "    ax.text(v + 0.5, i, f'{v:.1f}%', va='center')\n",
    "\n",
    "plt.tight_layout()\n",
    "plt.show()"
   ]
  },
  {
   "cell_type": "markdown",
   "id": "stat",
   "metadata": {},
   "source": [
    "## 📈 Step 5: 통계적 검정 (카이제곱 검정)"
   ]
  },
  {
   "cell_type": "code",
   "execution_count": null,
   "id": "chi-square",
   "metadata": {},
   "outputs": [],
   "source": [
    "# 카이제곱 검정\n",
    "# H0: 교육수준과 흡연상태는 독립이다 (상관관계 없음)\n",
    "# H1: 교육수준과 흡연상태는 독립이 아니다 (상관관계 있음)\n",
    "\n",
    "contingency_table = pd.crosstab(df_work['sob_01z1_decoded'], df_work['sma_03z2_decoded'])\n",
    "chi2, p_value, dof, expected = stats.chi2_contingency(contingency_table)\n",
    "\n",
    "print('=== 카이제곱 검정 결과 ===')\n",
    "print(f'카이제곱 통계량: {chi2:.2f}')\n",
    "print(f'p-value: {p_value:.4e}')\n",
    "print(f'자유도: {dof}')\n",
    "print(f'\\n결론: ', end='')\n",
    "if p_value < 0.05:\n",
    "    print('✅ 교육수준과 흡연상태는 통계적으로 유의한 상관관계가 있습니다 (p < 0.05)')\n",
    "else:\n",
    "    print('❌ 교육수준과 흡연상태 간 유의한 상관관계를 발견하지 못했습니다 (p ≥ 0.05)')"
   ]
  },
  {
   "cell_type": "markdown",
   "id": "insights",
   "metadata": {},
   "source": [
    "## 💡 Step 6: 주요 발견사항 및 인사이트\n",
    "\n",
    "### 📌 분석 결과 요약\n",
    "\n",
    "**[여기에 주요 발견사항 작성]**\n",
    "\n",
    "1. **교육수준별 흡연율 차이**\n",
    "   - (분석 후 작성)\n",
    "\n",
    "2. **통계적 유의성**\n",
    "   - (분석 후 작성)\n",
    "\n",
    "3. **모델링 시사점**\n",
    "   - (분석 후 작성)\n",
    "\n",
    "---\n",
    "\n",
    "### ✅ 다음 단계\n",
    "- [ ] 교육수준 변수 전처리 방법 결정\n",
    "- [ ] Feature Engineering 아이디어 도출\n",
    "- [ ] 경제활동 분석과 통합"
   ]
  }
 ],
 "metadata": {
  "kernelspec": {
   "display_name": "Python 3",
   "language": "python",
   "name": "python3"
  },
  "language_info": {
   "name": "python",
   "version": "3.12.0"
  }
 },
 "nbformat": 4,
 "nbformat_minor": 5
}


