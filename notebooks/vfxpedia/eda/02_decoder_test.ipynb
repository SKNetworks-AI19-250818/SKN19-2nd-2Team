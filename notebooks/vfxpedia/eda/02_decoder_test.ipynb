﻿{
 "cells": [
  {
   "cell_type": "markdown",
   "id": "test-decoder",
   "metadata": {},
   "source": [
    "# Variable Decoder 테스트\n",
    "\n",
    "**목표:**\n",
    "1. VariableDecoder 모듈 정상 작동 확인\n",
    "2. 교육수준(sob_01z1) 디코딩\n",
    "3. 경제활동(soa_01z1, soa_06z2) 디코딩\n",
    "4. 흡연 관련 변수(sma_03z2, smb_09z1) 디코딩\n",
    "5. 시각화에 한글 라벨 적용"
   ]
  },
  {
   "cell_type": "code",
   "execution_count": 1,
   "id": "imports",
   "metadata": {},
   "outputs": [
    {
     "name": "stdout",
     "output_type": "stream",
     "text": [
      "✅ 모든 라이브러리 로드 완료!\n"
     ]
    }
   ],
   "source": [
    "# 필수 라이브러리\n",
    "import sys\n",
    "import os\n",
    "\n",
    "# 프로젝트 루트를 Python 경로에 추가\n",
    "project_root = os.path.abspath('../../..')\n",
    "if project_root not in sys.path:\n",
    "    sys.path.insert(0, project_root)\n",
    "\n",
    "import pandas as pd\n",
    "import numpy as np\n",
    "import matplotlib.pyplot as plt\n",
    "import seaborn as sns\n",
    "\n",
    "# variable_decoder import\n",
    "from utils.variable_decoder import VariableDecoder\n",
    "\n",
    "# 설정\n",
    "plt.rcParams['font.family'] = 'Malgun Gothic'\n",
    "plt.rcParams['axes.unicode_minus'] = False\n",
    "sns.set_palette('husl')\n",
    "\n",
    "print('✅ 모든 라이브러리 로드 완료!')"
   ]
  },
  {
   "cell_type": "markdown",
   "id": "load-data",
   "metadata": {},
   "source": [
    "## 📊 1. 데이터 로드 및 VariableDecoder 초기화"
   ]
  },
  {
   "cell_type": "code",
   "execution_count": 2,
   "id": "load",
   "metadata": {},
   "outputs": [
    {
     "name": "stdout",
     "output_type": "stream",
     "text": [
      "데이터 크기: (89822, 210)\n",
      "✅ variable.csv 로드 완료: 379 개 매핑\n",
      "\n",
      "✅ VariableDecoder 초기화 완료!\n"
     ]
    }
   ],
   "source": [
    "# 데이터 로드\n",
    "df = pd.read_csv('../../../data/analy_data.csv')\n",
    "print(f'데이터 크기: {df.shape}')\n",
    "\n",
    "# VariableDecoder 초기화\n",
    "decoder = VariableDecoder()\n",
    "print('\\n✅ VariableDecoder 초기화 완료!')"
   ]
  },
  {
   "cell_type": "markdown",
   "id": "test-basic",
   "metadata": {},
   "source": [
    "## 🧪 2. 기본 디코딩 테스트"
   ]
  },
  {
   "cell_type": "code",
   "execution_count": 3,
   "id": "test-1",
   "metadata": {},
   "outputs": [
    {
     "name": "stdout",
     "output_type": "stream",
     "text": [
      "=== 단일 값 디코딩 테스트 ===\n",
      "sob_01z1, 5 → 고등학교\n",
      "sob_01z1, 7 → 4년제대학\n",
      "sma_03z2, 1 → 매일피운다\n",
      "sma_03z2, 3 → 과거피웠으나현재안피움\n"
     ]
    }
   ],
   "source": [
    "# 단일 값 디코딩 테스트\n",
    "print('=== 단일 값 디코딩 테스트 ===')\n",
    "print(f\"sob_01z1, 5 → {decoder.decode_value('sob_01z1', 5)}\")\n",
    "print(f\"sob_01z1, 7 → {decoder.decode_value('sob_01z1', 7)}\")\n",
    "print(f\"sma_03z2, 1 → {decoder.decode_value('sma_03z2', 1)}\")\n",
    "print(f\"sma_03z2, 3 → {decoder.decode_value('sma_03z2', 3)}\")"
   ]
  },
  {
   "cell_type": "code",
   "execution_count": 4,
   "id": "test-2",
   "metadata": {},
   "outputs": [
    {
     "name": "stdout",
     "output_type": "stream",
     "text": [
      "\n",
      "=== 변수 정보 조회 ===\n",
      "\n",
      "============================================================\n",
      "📊 변수: sob_01z1\n",
      "🏷️  라벨: 교육수준\n",
      "📁 카테고리: 교육경제\n",
      "============================================================\n",
      "\n",
      "코드 매핑 (10개):\n",
      "     1.0 → 무학\n",
      "     2.0 → 서당한학\n",
      "     3.0 → 초등학교\n",
      "     4.0 → 중학교\n",
      "     5.0 → 고등학교\n",
      "     6.0 → 2년3년제대학\n",
      "     7.0 → 4년제대학\n",
      "    77.0 → 응답거부\n",
      "     8.0 → 대학원이상\n",
      "    99.0 → 모름\n",
      "============================================================\n",
      "\n",
      "\n",
      "============================================================\n",
      "📊 변수: soa_01z1\n",
      "🏷️  라벨: 경제활동여부\n",
      "📁 카테고리: 교육경제\n",
      "============================================================\n",
      "\n",
      "코드 매핑 (4개):\n",
      "     1.0 → 예\n",
      "     2.0 → 아니오\n",
      "     7.0 → 응답거부\n",
      "     9.0 → 모름\n",
      "============================================================\n",
      "\n"
     ]
    }
   ],
   "source": [
    "# 변수 정보 조회\n",
    "print('\\n=== 변수 정보 조회 ===')\n",
    "decoder.print_variable_summary('sob_01z1')\n",
    "decoder.print_variable_summary('soa_01z1')"
   ]
  },
  {
   "cell_type": "markdown",
   "id": "decode-cols",
   "metadata": {},
   "source": [
    "## 🔄 3. 핵심 변수 디코딩"
   ]
  },
  {
   "cell_type": "code",
   "execution_count": 5,
   "id": "decode",
   "metadata": {},
   "outputs": [
    {
     "name": "stdout",
     "output_type": "stream",
     "text": [
      "✅ 핵심 변수 디코딩 완료!\n",
      "\n",
      "새로 추가된 컬럼: ['sob_01z1_label', 'soa_01z1_label', 'soa_06z2_label', 'soa_07z1_label', 'sma_03z2_label', 'smb_09z1_label']\n"
     ]
    }
   ],
   "source": [
    "# 핵심 변수 목록\n",
    "key_vars = [\n",
    "    'sob_01z1',  # 교육수준\n",
    "    'soa_01z1',  # 경제활동여부\n",
    "    'soa_06z2',  # 직업분류\n",
    "    'soa_07z1',  # 종사상지위\n",
    "    'sma_03z2',  # 현재흡연상태\n",
    "    'smb_09z1',  # 금연기간\n",
    "]\n",
    "\n",
    "# 디코딩 실행\n",
    "df_decoded = decoder.decode_multiple_columns(df, key_vars)\n",
    "print('✅ 핵심 변수 디코딩 완료!')\n",
    "print(f'\\n새로 추가된 컬럼: {[col for col in df_decoded.columns if \"_label\" in col]}')"
   ]
  },
  {
   "cell_type": "code",
   "execution_count": 6,
   "id": "check",
   "metadata": {},
   "outputs": [
    {
     "data": {
      "text/html": [
       "<div>\n",
       "<style scoped>\n",
       "    .dataframe tbody tr th:only-of-type {\n",
       "        vertical-align: middle;\n",
       "    }\n",
       "\n",
       "    .dataframe tbody tr th {\n",
       "        vertical-align: top;\n",
       "    }\n",
       "\n",
       "    .dataframe thead th {\n",
       "        text-align: right;\n",
       "    }\n",
       "</style>\n",
       "<table border=\"1\" class=\"dataframe\">\n",
       "  <thead>\n",
       "    <tr style=\"text-align: right;\">\n",
       "      <th></th>\n",
       "      <th>sob_01z1</th>\n",
       "      <th>sob_01z1_label</th>\n",
       "      <th>sma_03z2</th>\n",
       "      <th>sma_03z2_label</th>\n",
       "      <th>churn</th>\n",
       "    </tr>\n",
       "  </thead>\n",
       "  <tbody>\n",
       "    <tr>\n",
       "      <th>0</th>\n",
       "      <td>7.0</td>\n",
       "      <td>4년제대학</td>\n",
       "      <td>3.0</td>\n",
       "      <td>과거피웠으나현재안피움</td>\n",
       "      <td>1</td>\n",
       "    </tr>\n",
       "    <tr>\n",
       "      <th>1</th>\n",
       "      <td>5.0</td>\n",
       "      <td>고등학교</td>\n",
       "      <td>1.0</td>\n",
       "      <td>매일피운다</td>\n",
       "      <td>0</td>\n",
       "    </tr>\n",
       "    <tr>\n",
       "      <th>2</th>\n",
       "      <td>6.0</td>\n",
       "      <td>2년3년제대학</td>\n",
       "      <td>3.0</td>\n",
       "      <td>과거피웠으나현재안피움</td>\n",
       "      <td>1</td>\n",
       "    </tr>\n",
       "    <tr>\n",
       "      <th>3</th>\n",
       "      <td>7.0</td>\n",
       "      <td>4년제대학</td>\n",
       "      <td>1.0</td>\n",
       "      <td>매일피운다</td>\n",
       "      <td>0</td>\n",
       "    </tr>\n",
       "    <tr>\n",
       "      <th>4</th>\n",
       "      <td>3.0</td>\n",
       "      <td>초등학교</td>\n",
       "      <td>1.0</td>\n",
       "      <td>매일피운다</td>\n",
       "      <td>0</td>\n",
       "    </tr>\n",
       "    <tr>\n",
       "      <th>5</th>\n",
       "      <td>3.0</td>\n",
       "      <td>초등학교</td>\n",
       "      <td>3.0</td>\n",
       "      <td>과거피웠으나현재안피움</td>\n",
       "      <td>1</td>\n",
       "    </tr>\n",
       "    <tr>\n",
       "      <th>6</th>\n",
       "      <td>7.0</td>\n",
       "      <td>4년제대학</td>\n",
       "      <td>3.0</td>\n",
       "      <td>과거피웠으나현재안피움</td>\n",
       "      <td>1</td>\n",
       "    </tr>\n",
       "    <tr>\n",
       "      <th>7</th>\n",
       "      <td>7.0</td>\n",
       "      <td>4년제대학</td>\n",
       "      <td>3.0</td>\n",
       "      <td>과거피웠으나현재안피움</td>\n",
       "      <td>0</td>\n",
       "    </tr>\n",
       "    <tr>\n",
       "      <th>8</th>\n",
       "      <td>8.0</td>\n",
       "      <td>대학원이상</td>\n",
       "      <td>3.0</td>\n",
       "      <td>과거피웠으나현재안피움</td>\n",
       "      <td>1</td>\n",
       "    </tr>\n",
       "    <tr>\n",
       "      <th>9</th>\n",
       "      <td>5.0</td>\n",
       "      <td>고등학교</td>\n",
       "      <td>3.0</td>\n",
       "      <td>과거피웠으나현재안피움</td>\n",
       "      <td>1</td>\n",
       "    </tr>\n",
       "  </tbody>\n",
       "</table>\n",
       "</div>"
      ],
      "text/plain": [
       "   sob_01z1 sob_01z1_label  sma_03z2 sma_03z2_label  churn\n",
       "0       7.0          4년제대학       3.0    과거피웠으나현재안피움      1\n",
       "1       5.0           고등학교       1.0          매일피운다      0\n",
       "2       6.0        2년3년제대학       3.0    과거피웠으나현재안피움      1\n",
       "3       7.0          4년제대학       1.0          매일피운다      0\n",
       "4       3.0           초등학교       1.0          매일피운다      0\n",
       "5       3.0           초등학교       3.0    과거피웠으나현재안피움      1\n",
       "6       7.0          4년제대학       3.0    과거피웠으나현재안피움      1\n",
       "7       7.0          4년제대학       3.0    과거피웠으나현재안피움      0\n",
       "8       8.0          대학원이상       3.0    과거피웠으나현재안피움      1\n",
       "9       5.0           고등학교       3.0    과거피웠으나현재안피움      1"
      ]
     },
     "execution_count": 6,
     "metadata": {},
     "output_type": "execute_result"
    }
   ],
   "source": [
    "# 디코딩 결과 확인\n",
    "display_cols = ['sob_01z1', 'sob_01z1_label', 'sma_03z2', 'sma_03z2_label', 'churn']\n",
    "df_decoded[display_cols].head(10)"
   ]
  },
  {
   "cell_type": "markdown",
   "id": "value-counts",
   "metadata": {},
   "source": [
    "## 📈 4. 디코딩된 Value Counts"
   ]
  },
  {
   "cell_type": "code",
   "execution_count": 7,
   "id": "vc-1",
   "metadata": {},
   "outputs": [
    {
     "name": "stdout",
     "output_type": "stream",
     "text": [
      "=== 교육수준 분포 ===\n",
      "고등학교       31369\n",
      "4년제대학      21721\n",
      "2년3년제대학    11171\n",
      "중학교        10378\n",
      "초등학교        9897\n",
      "대학원이상       3733\n",
      "무학          1465\n",
      "서당한학          54\n",
      "응답거부          33\n",
      "모름             1\n",
      "Name: count, dtype: int64\n"
     ]
    }
   ],
   "source": [
    "# 교육수준 분포\n",
    "print('=== 교육수준 분포 ===')\n",
    "edu_dist = decoder.create_value_counts_decoded(df_decoded, 'sob_01z1')\n",
    "print(edu_dist)"
   ]
  },
  {
   "cell_type": "code",
   "execution_count": 8,
   "id": "vc-2",
   "metadata": {},
   "outputs": [
    {
     "name": "stdout",
     "output_type": "stream",
     "text": [
      "\n",
      "=== 경제활동 여부 분포 ===\n",
      "예       64823\n",
      "아니오     24995\n",
      "모름          3\n",
      "응답거부        1\n",
      "Name: count, dtype: int64\n"
     ]
    }
   ],
   "source": [
    "# 경제활동 분포\n",
    "print('\\n=== 경제활동 여부 분포 ===')\n",
    "econ_dist = decoder.create_value_counts_decoded(df_decoded, 'soa_01z1')\n",
    "print(econ_dist)"
   ]
  },
  {
   "cell_type": "code",
   "execution_count": 9,
   "id": "vc-3",
   "metadata": {},
   "outputs": [
    {
     "name": "stdout",
     "output_type": "stream",
     "text": [
      "\n",
      "=== 현재 흡연상태 분포 ===\n",
      "과거피웠으나현재안피움    52059\n",
      "매일피운다          33801\n",
      "가끔피운다           3597\n",
      "비해당              328\n",
      "모름                37\n",
      "Name: count, dtype: int64\n"
     ]
    }
   ],
   "source": [
    "# 현재 흡연상태 분포\n",
    "print('\\n=== 현재 흡연상태 분포 ===')\n",
    "smoke_dist = decoder.create_value_counts_decoded(df_decoded, 'sma_03z2')\n",
    "print(smoke_dist)"
   ]
  },
  {
   "cell_type": "markdown",
   "id": "viz",
   "metadata": {},
   "source": [
    "## 📊 5. 시각화 (한글 라벨 적용)"
   ]
  },
  {
   "cell_type": "code",
   "execution_count": 10,
   "id": "viz-1",
   "metadata": {},
   "outputs": [
    {
     "data": {
      "image/png": "[encoded data removed]",
      "text/plain": [
       "<Figure size 1200x600 with 1 Axes>"
      ]
     },
     "metadata": {},
     "output_type": "display_data"
    }
   ],
   "source": [
    "# 교육수준별 분포 (디코딩된 라벨)\n",
    "fig, ax = plt.subplots(figsize=(12, 6))\n",
    "edu_dist.plot(kind='bar', ax=ax, color='skyblue', edgecolor='black')\n",
    "ax.set_title(f'{decoder.get_variable_label(\"sob_01z1\")} 분포', fontsize=16, fontweight='bold')\n",
    "ax.set_xlabel('교육수준', fontsize=12)\n",
    "ax.set_ylabel('빈도', fontsize=12)\n",
    "plt.xticks(rotation=45, ha='right')\n",
    "plt.tight_layout()\n",
    "plt.show()"
   ]
  },
  {
   "cell_type": "code",
   "execution_count": 11,
   "id": "viz-2",
   "metadata": {},
   "outputs": [
    {
     "data": {
      "image/png": "[encoded data removed]",
      "text/plain": [
       "<Figure size 1000x600 with 1 Axes>"
      ]
     },
     "metadata": {},
     "output_type": "display_data"
    }
   ],
   "source": [
    "# 흡연상태별 분포 (가로 막대)\n",
    "fig, ax = plt.subplots(figsize=(10, 6))\n",
    "smoke_dist.plot(kind='barh', ax=ax, color='coral', edgecolor='black')\n",
    "ax.set_title(f'{decoder.get_variable_label(\"sma_03z2\")} 분포', fontsize=16, fontweight='bold')\n",
    "ax.set_xlabel('빈도', fontsize=12)\n",
    "ax.set_ylabel('흡연상태', fontsize=12)\n",
    "plt.tight_layout()\n",
    "plt.show()"
   ]
  },
  {
   "cell_type": "code",
   "execution_count": 12,
   "id": "viz-3",
   "metadata": {},
   "outputs": [
    {
     "data": {
      "image/png": "[encoded data removed]",
      "text/plain": [
       "<Figure size 1200x600 with 1 Axes>"
      ]
     },
     "metadata": {},
     "output_type": "display_data"
    }
   ],
   "source": [
    "# 교육수준 × 금연성공 교차 분석\n",
    "fig, ax = plt.subplots(figsize=(12, 6))\n",
    "\n",
    "# 교차표 생성 (비율)\n",
    "ct = pd.crosstab(\n",
    "    df_decoded['sob_01z1_label'], \n",
    "    df_decoded['churn'],\n",
    "    normalize='index'\n",
    ") * 100\n",
    "\n",
    "ct.plot(kind='bar', ax=ax, color=['#E74C3C', '#27AE60'], width=0.8)\n",
    "ax.set_title('교육수준별 금연 성공률', fontsize=16, fontweight='bold')\n",
    "ax.set_xlabel('교육수준', fontsize=12)\n",
    "ax.set_ylabel('비율 (%)', fontsize=12)\n",
    "ax.legend(['금연 실패', '금연 성공'], loc='upper left')\n",
    "plt.xticks(rotation=45, ha='right')\n",
    "plt.tight_layout()\n",
    "plt.show()"
   ]
  },
  {
   "cell_type": "markdown",
   "id": "summary",
   "metadata": {},
   "source": [
    "## ✅ 6. 테스트 결과 정리\n",
    "\n",
    "**확인 사항:**\n",
    "- [x] VariableDecoder 모듈 정상 작동\n",
    "- [x] 단일 값 디코딩 성공 (숫자 → 한글)\n",
    "- [x] 데이터프레임 컬럼 디코딩 성공\n",
    "- [x] Value counts (디코딩) 생성 성공\n",
    "- [x] 시각화에서 한글 라벨 정상 출력\n",
    "\n",
    "**다음 단계:**\n",
    "1. 교육수준 × 흡연율 상관관계 분석\n",
    "2. 경제활동 × 금연성공 상관관계 분석\n",
    "3. 통계적 유의성 검정"
   ]
  },
  {
   "cell_type": "code",
   "execution_count": 13,
   "id": "exploration",
   "metadata": {},
   "outputs": [
    {
     "name": "stdout",
     "output_type": "stream",
     "text": [
      "\n",
      "=== 사용 가능한 카테고리 ===\n",
      "1. 기본정보\n",
      "2. 가구소득\n",
      "3. 건강설문\n",
      "4. 흡연\n",
      "5. 음주\n",
      "6. 신체활동\n",
      "7. 식생활\n",
      "8. 비만체중\n",
      "9. 구강건강\n",
      "10. 정신건강\n",
      "11. 교육경제\n",
      "12. 혼인\n",
      "13. 의료이용\n",
      "14. 타겟변수\n"
     ]
    }
   ],
   "source": [
    "# 추가 탐색: 모든 카테고리 확인\n",
    "print('\\n=== 사용 가능한 카테고리 ===')\n",
    "categories = decoder.get_categories()\n",
    "for i, cat in enumerate(categories, 1):\n",
    "    print(f\"{i}. {cat}\")"
   ]
  },
  {
   "cell_type": "code",
   "execution_count": 14,
   "id": "exploration-2",
   "metadata": {},
   "outputs": [
    {
     "name": "stdout",
     "output_type": "stream",
     "text": [
      "\n",
      "=== 교육경제 카테고리 변수 ===\n",
      "  sob_01z1: 교육수준\n",
      "  sob_02z1: 졸업여부\n",
      "  soa_01z1: 경제활동여부\n",
      "  soa_06z2: 직업분류\n",
      "  soa_07z1: 종사상지위\n"
     ]
    }
   ],
   "source": [
    "# 특정 카테고리의 변수 목록\n",
    "print('\\n=== 교육경제 카테고리 변수 ===')\n",
    "edu_econ_vars = decoder.get_all_variables(category='교육경제')\n",
    "for var in edu_econ_vars:\n",
    "    label = decoder.get_variable_label(var)\n",
    "    print(f\"  {var}: {label}\")"
   ]
  },
  {
   "cell_type": "code",
   "execution_count": 15,
   "id": "save-decoded",
   "metadata": {},
   "outputs": [
    {
     "name": "stdout",
     "output_type": "stream",
     "text": [
      "\n",
      "✅ 모든 테스트 완료!\n"
     ]
    }
   ],
   "source": [
    "# 디코딩된 데이터 저장 (선택사항)\n",
    "# df_decoded.to_csv('../../../data/analy_data_decoded.csv', index=False, encoding='utf-8-sig')\n",
    "print('\\n✅ 모든 테스트 완료!')"
   ]
  }
 ],
 "metadata": {
  "kernelspec": {
   "display_name": "ml_env",
   "language": "python",
   "name": "python3"
  },
  "language_info": {
   "codemirror_mode": {
    "name": "ipython",
    "version": 3
   },
   "file_extension": ".py",
   "mimetype": "text/x-python",
   "name": "python",
   "nbconvert_exporter": "python",
   "pygments_lexer": "ipython3",
   "version": "3.12.11"
  }
 },
 "nbformat": 4,
 "nbformat_minor": 5
}


