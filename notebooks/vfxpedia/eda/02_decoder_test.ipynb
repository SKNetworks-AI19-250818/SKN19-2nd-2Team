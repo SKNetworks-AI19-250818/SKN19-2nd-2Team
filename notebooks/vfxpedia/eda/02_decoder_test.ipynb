{
 "cells": [
  {
   "cell_type": "markdown",
   "id": "test-decoder",
   "metadata": {},
   "source": [
    "# Variable Decoder 테스트\n",
    "\n",
    "**목표:**\n",
    "1. VariableDecoder 모듈 정상 작동 확인\n",
    "2. 교육수준(sob_01z1) 디코딩\n",
    "3. 경제활동(soa_01z1, soa_06z2) 디코딩\n",
    "4. 흡연 관련 변수(sma_03z2, smb_09z1) 디코딩\n",
    "5. 시각화에 한글 라벨 적용"
   ]
  },
  {
   "cell_type": "code",
   "execution_count": 16,
   "id": "imports",
   "metadata": {},
   "outputs": [
    {
     "name": "stdout",
     "output_type": "stream",
     "text": [
      "✅ 모든 라이브러리 로드 완료!\n"
     ]
    }
   ],
   "source": [
    "# 필수 라이브러리\n",
    "import sys\n",
    "import os\n",
    "\n",
    "# 프로젝트 루트를 Python 경로에 추가\n",
    "project_root = os.path.abspath('../../..')\n",
    "if project_root not in sys.path:\n",
    "    sys.path.insert(0, project_root)\n",
    "\n",
    "import pandas as pd\n",
    "import numpy as np\n",
    "import matplotlib.pyplot as plt\n",
    "import matplotlib.font_manager as fm\n",
    "import seaborn as sns\n",
    "\n",
    "# variable_decoder import\n",
    "from notebooks.vfxpedia.utils.variable_decoder import (\n",
    "    VariableDecoder,\n",
    "    get_korean_label,\n",
    "    get_korean_labels,\n",
    "    create_korean_labels_dict\n",
    ")\n",
    "\n",
    "# 설정 (팀 통일 스타일)\n",
    "try:\n",
    "    font_path = r'C:\\Windows\\Fonts\\HMFMMUEX.TTC'\n",
    "    font_name = fm.FontProperties(fname=font_path).get_name()\n",
    "    plt.rc('font', family=font_name)\n",
    "except:\n",
    "    plt.rcParams['font.family'] = 'Malgun Gothic'\n",
    "\n",
    "plt.rcParams['axes.unicode_minus'] = False\n",
    "\n",
    "# 팀 통일 색상 팔레트\n",
    "TEAM_COLORS = {\n",
    "    'primary': 'skyblue',\n",
    "    'success': '#ff7f0e',      # 주황 (흡연이탈/성공)\n",
    "    'danger': '#1f77b4',       # 파랑 (흡연유지/실패)\n",
    "    'palette': 'husl'\n",
    "}\n",
    "\n",
    "print('✅ 모든 라이브러리 로드 완료!')"
   ]
  },
  {
   "cell_type": "markdown",
   "id": "load-data",
   "metadata": {},
   "source": [
    "## 📊 1. 데이터 로드 및 VariableDecoder 초기화"
   ]
  },
  {
   "cell_type": "code",
   "execution_count": 17,
   "id": "load",
   "metadata": {},
   "outputs": [
    {
     "name": "stdout",
     "output_type": "stream",
     "text": [
      "데이터 크기: (89822, 210)\n",
      "✅ variable.csv 로드 완료: 702 개 매핑\n",
      "✅ variable_full.csv 로드 완료: 681 개 매핑 (fallback)\n",
      "\n",
      "✅ VariableDecoder 초기화 완료!\n"
     ]
    }
   ],
   "source": [
    "# 데이터 로드\n",
    "df = pd.read_csv('../../../data/analy_data.csv')\n",
    "print(f'데이터 크기: {df.shape}')\n",
    "\n",
    "# VariableDecoder 초기화\n",
    "decoder = VariableDecoder()\n",
    "print('\\n✅ VariableDecoder 초기화 완료!')"
   ]
  },
  {
   "cell_type": "markdown",
   "id": "test-basic",
   "metadata": {},
   "source": [
    "## 🧪 2. 기본 디코딩 테스트"
   ]
  },
  {
   "cell_type": "code",
   "execution_count": 18,
   "id": "test-1",
   "metadata": {},
   "outputs": [
    {
     "name": "stdout",
     "output_type": "stream",
     "text": [
      "=== 단일 값 디코딩 테스트 ===\n",
      "sob_01z1, 5 → 고등학교\n",
      "sob_01z1, 7 → 4년제대학\n",
      "sma_03z2, 1 → 매일피움\n",
      "sma_03z2, 3 → 과거피웠으나현재금연\n"
     ]
    }
   ],
   "source": [
    "# 단일 값 디코딩 테스트\n",
    "print('=== 단일 값 디코딩 테스트 ===')\n",
    "print(f\"sob_01z1, 5 → {decoder.decode_value('sob_01z1', 5)}\")\n",
    "print(f\"sob_01z1, 7 → {decoder.decode_value('sob_01z1', 7)}\")\n",
    "print(f\"sma_03z2, 1 → {decoder.decode_value('sma_03z2', 1)}\")\n",
    "print(f\"sma_03z2, 3 → {decoder.decode_value('sma_03z2', 3)}\")"
   ]
  },
  {
   "cell_type": "code",
   "execution_count": 19,
   "id": "test-2",
   "metadata": {},
   "outputs": [
    {
     "name": "stdout",
     "output_type": "stream",
     "text": [
      "\n",
      "=== 변수 정보 조회 ===\n",
      "\n",
      "============================================================\n",
      "📊 변수: sob_01z1\n",
      "🏷️  라벨: 교육수준\n",
      "📁 카테고리: 교육경제활동\n",
      "============================================================\n",
      "\n",
      "코드 매핑 (10개):\n",
      "     1.0 → 무학\n",
      "     2.0 → 서당한학\n",
      "     3.0 → 초등학교\n",
      "     4.0 → 중학교\n",
      "     5.0 → 고등학교\n",
      "     6.0 → 2년3년제대학\n",
      "     7.0 → 4년제대학\n",
      "    77.0 → 응답거부\n",
      "     8.0 → 대학원이상\n",
      "    99.0 → 모름\n",
      "============================================================\n",
      "\n",
      "\n",
      "============================================================\n",
      "📊 변수: soa_01z1\n",
      "🏷️  라벨: 경제활동여부\n",
      "📁 카테고리: 교육경제활동\n",
      "============================================================\n",
      "\n",
      "코드 매핑 (4개):\n",
      "     1.0 → 예\n",
      "     2.0 → 아니오\n",
      "     7.0 → 응답거부\n",
      "     9.0 → 모름\n",
      "============================================================\n",
      "\n"
     ]
    }
   ],
   "source": [
    "# 변수 정보 조회\n",
    "print('\\n=== 변수 정보 조회 ===')\n",
    "decoder.print_variable_summary('sob_01z1')\n",
    "decoder.print_variable_summary('soa_01z1')"
   ]
  },
  {
   "cell_type": "markdown",
   "id": "decode-cols",
   "metadata": {},
   "source": [
    "## 🔄 3. 핵심 변수 디코딩"
   ]
  },
  {
   "cell_type": "code",
   "execution_count": 20,
   "id": "decode",
   "metadata": {},
   "outputs": [
    {
     "name": "stdout",
     "output_type": "stream",
     "text": [
      "✅ 핵심 변수 디코딩 완료!\n",
      "\n",
      "새로 추가된 컬럼: ['sob_01z1_label', 'soa_01z1_label', 'soa_06z2_label', 'soa_07z1_label', 'sma_03z2_label', 'smb_09z1_label']\n"
     ]
    }
   ],
   "source": [
    "# 핵심 변수 목록\n",
    "key_vars = [\n",
    "    'sob_01z1',  # 교육수준\n",
    "    'soa_01z1',  # 경제활동여부\n",
    "    'soa_06z2',  # 직업분류\n",
    "    'soa_07z1',  # 종사상지위\n",
    "    'sma_03z2',  # 현재흡연상태\n",
    "    'smb_09z1',  # 금연기간\n",
    "]\n",
    "\n",
    "# 디코딩 실행\n",
    "df_decoded = decoder.decode_multiple_columns(df, key_vars)\n",
    "print('✅ 핵심 변수 디코딩 완료!')\n",
    "print(f'\\n새로 추가된 컬럼: {[col for col in df_decoded.columns if \"_label\" in col]}')"
   ]
  },
  {
   "cell_type": "code",
   "execution_count": 21,
   "id": "check",
   "metadata": {},
   "outputs": [
    {
     "data": {
      "text/html": [
       "<div>\n",
       "<style scoped>\n",
       "    .dataframe tbody tr th:only-of-type {\n",
       "        vertical-align: middle;\n",
       "    }\n",
       "\n",
       "    .dataframe tbody tr th {\n",
       "        vertical-align: top;\n",
       "    }\n",
       "\n",
       "    .dataframe thead th {\n",
       "        text-align: right;\n",
       "    }\n",
       "</style>\n",
       "<table border=\"1\" class=\"dataframe\">\n",
       "  <thead>\n",
       "    <tr style=\"text-align: right;\">\n",
       "      <th></th>\n",
       "      <th>sob_01z1</th>\n",
       "      <th>sob_01z1_label</th>\n",
       "      <th>sma_03z2</th>\n",
       "      <th>sma_03z2_label</th>\n",
       "      <th>churn</th>\n",
       "    </tr>\n",
       "  </thead>\n",
       "  <tbody>\n",
       "    <tr>\n",
       "      <th>0</th>\n",
       "      <td>7.0</td>\n",
       "      <td>4년제대학</td>\n",
       "      <td>3.0</td>\n",
       "      <td>과거피웠으나현재금연</td>\n",
       "      <td>1</td>\n",
       "    </tr>\n",
       "    <tr>\n",
       "      <th>1</th>\n",
       "      <td>5.0</td>\n",
       "      <td>고등학교</td>\n",
       "      <td>1.0</td>\n",
       "      <td>매일피움</td>\n",
       "      <td>0</td>\n",
       "    </tr>\n",
       "    <tr>\n",
       "      <th>2</th>\n",
       "      <td>6.0</td>\n",
       "      <td>2년3년제대학</td>\n",
       "      <td>3.0</td>\n",
       "      <td>과거피웠으나현재금연</td>\n",
       "      <td>1</td>\n",
       "    </tr>\n",
       "    <tr>\n",
       "      <th>3</th>\n",
       "      <td>7.0</td>\n",
       "      <td>4년제대학</td>\n",
       "      <td>1.0</td>\n",
       "      <td>매일피움</td>\n",
       "      <td>0</td>\n",
       "    </tr>\n",
       "    <tr>\n",
       "      <th>4</th>\n",
       "      <td>3.0</td>\n",
       "      <td>초등학교</td>\n",
       "      <td>1.0</td>\n",
       "      <td>매일피움</td>\n",
       "      <td>0</td>\n",
       "    </tr>\n",
       "    <tr>\n",
       "      <th>5</th>\n",
       "      <td>3.0</td>\n",
       "      <td>초등학교</td>\n",
       "      <td>3.0</td>\n",
       "      <td>과거피웠으나현재금연</td>\n",
       "      <td>1</td>\n",
       "    </tr>\n",
       "    <tr>\n",
       "      <th>6</th>\n",
       "      <td>7.0</td>\n",
       "      <td>4년제대학</td>\n",
       "      <td>3.0</td>\n",
       "      <td>과거피웠으나현재금연</td>\n",
       "      <td>1</td>\n",
       "    </tr>\n",
       "    <tr>\n",
       "      <th>7</th>\n",
       "      <td>7.0</td>\n",
       "      <td>4년제대학</td>\n",
       "      <td>3.0</td>\n",
       "      <td>과거피웠으나현재금연</td>\n",
       "      <td>0</td>\n",
       "    </tr>\n",
       "    <tr>\n",
       "      <th>8</th>\n",
       "      <td>8.0</td>\n",
       "      <td>대학원이상</td>\n",
       "      <td>3.0</td>\n",
       "      <td>과거피웠으나현재금연</td>\n",
       "      <td>1</td>\n",
       "    </tr>\n",
       "    <tr>\n",
       "      <th>9</th>\n",
       "      <td>5.0</td>\n",
       "      <td>고등학교</td>\n",
       "      <td>3.0</td>\n",
       "      <td>과거피웠으나현재금연</td>\n",
       "      <td>1</td>\n",
       "    </tr>\n",
       "  </tbody>\n",
       "</table>\n",
       "</div>"
      ],
      "text/plain": [
       "   sob_01z1 sob_01z1_label  sma_03z2 sma_03z2_label  churn\n",
       "0       7.0          4년제대학       3.0     과거피웠으나현재금연      1\n",
       "1       5.0           고등학교       1.0           매일피움      0\n",
       "2       6.0        2년3년제대학       3.0     과거피웠으나현재금연      1\n",
       "3       7.0          4년제대학       1.0           매일피움      0\n",
       "4       3.0           초등학교       1.0           매일피움      0\n",
       "5       3.0           초등학교       3.0     과거피웠으나현재금연      1\n",
       "6       7.0          4년제대학       3.0     과거피웠으나현재금연      1\n",
       "7       7.0          4년제대학       3.0     과거피웠으나현재금연      0\n",
       "8       8.0          대학원이상       3.0     과거피웠으나현재금연      1\n",
       "9       5.0           고등학교       3.0     과거피웠으나현재금연      1"
      ]
     },
     "execution_count": 21,
     "metadata": {},
     "output_type": "execute_result"
    }
   ],
   "source": [
    "# 디코딩 결과 확인\n",
    "display_cols = ['sob_01z1', 'sob_01z1_label', 'sma_03z2', 'sma_03z2_label', 'churn']\n",
    "df_decoded[display_cols].head(10)"
   ]
  },
  {
   "cell_type": "markdown",
   "id": "value-counts",
   "metadata": {},
   "source": [
    "## 📈 4. 디코딩된 Value Counts"
   ]
  },
  {
   "cell_type": "code",
   "execution_count": 22,
   "id": "vc-1",
   "metadata": {},
   "outputs": [
    {
     "name": "stdout",
     "output_type": "stream",
     "text": [
      "=== 교육수준 분포 ===\n",
      "고등학교       31369\n",
      "4년제대학      21721\n",
      "2년3년제대학    11171\n",
      "중학교        10378\n",
      "초등학교        9897\n",
      "대학원이상       3733\n",
      "무학          1465\n",
      "서당한학          54\n",
      "응답거부          33\n",
      "모름             1\n",
      "Name: count, dtype: int64\n"
     ]
    }
   ],
   "source": [
    "# 교육수준 분포\n",
    "print('=== 교육수준 분포 ===')\n",
    "edu_dist = decoder.create_value_counts_decoded(df_decoded, 'sob_01z1')\n",
    "print(edu_dist)"
   ]
  },
  {
   "cell_type": "code",
   "execution_count": 23,
   "id": "vc-2",
   "metadata": {},
   "outputs": [
    {
     "name": "stdout",
     "output_type": "stream",
     "text": [
      "\n",
      "=== 경제활동 여부 분포 ===\n",
      "예       64823\n",
      "아니오     24995\n",
      "모름          3\n",
      "응답거부        1\n",
      "Name: count, dtype: int64\n"
     ]
    }
   ],
   "source": [
    "# 경제활동 분포\n",
    "print('\\n=== 경제활동 여부 분포 ===')\n",
    "econ_dist = decoder.create_value_counts_decoded(df_decoded, 'soa_01z1')\n",
    "print(econ_dist)"
   ]
  },
  {
   "cell_type": "markdown",
   "id": "494f8ed6",
   "metadata": {},
   "source": [
    "## 🔄 7. Fallback 시스템 테스트\n",
    "\n",
    "Variable Decoder는 **2단계 Fallback 시스템**을 지원합니다:\n",
    "\n",
    "### 작동 원리:\n",
    "1. **우선순위 1**: `variable.csv` (팀이 주로 사용하는 변수)\n",
    "2. **우선순위 2**: `variable_full.csv` (전체 변수 백업)\n",
    "3. **최종**: 변수명 그대로 반환\n",
    "\n",
    "### 장점:\n",
    "- ✅ **자동화**: 사용자가 신경 쓸 필요 없음\n",
    "- ✅ **완전성**: 모든 변수의 라벨을 제공\n",
    "- ✅ **유연성**: variable.csv에만 자주 쓰는 변수 관리\n",
    "\n",
    "### 초기화 메시지 확인:\n",
    "```\n",
    "✅ variable.csv 로드 완료: 702 개 매핑\n",
    "✅ variable_full.csv 로드 완료: 681 개 매핑 (fallback)\n",
    "```\n"
   ]
  },
  {
   "cell_type": "code",
   "execution_count": 24,
   "id": "75ec4848",
   "metadata": {},
   "outputs": [
    {
     "name": "stdout",
     "output_type": "stream",
     "text": [
      "🔄 Fallback 시스템 작동 확인\n",
      "============================================================\n",
      "✅ variable.csv 로드 완료: 702 개 매핑\n",
      "✅ variable_full.csv 로드 완료: 681 개 매핑 (fallback)\n",
      "✅ 메인 데이터: sob_01z1        → 교육수준\n",
      "🔄 Fallback:   mtc_03z1        → mtc 03z1\n",
      "📝 없는 변수:  unknown_var     → unknown_var\n",
      "\n",
      "============================================================\n",
      "✅ Fallback 시스템이 정상적으로 작동합니다!\n"
     ]
    }
   ],
   "source": [
    "# Fallback 시스템 테스트\n",
    "print(\"🔄 Fallback 시스템 작동 확인\")\n",
    "print(\"=\" * 60)\n",
    "\n",
    "# 1. variable.csv에 있는 변수 테스트\n",
    "test_var_main = 'sob_01z1'\n",
    "label_main = get_korean_label(test_var_main)\n",
    "print(f\"✅ 메인 데이터: {test_var_main:15s} → {label_main}\")\n",
    "\n",
    "# 2. variable.csv에 없고 variable_full.csv에 있는 변수 테스트\n",
    "# (mtc_03z1 같은 변수는 variable.csv에 없을 수 있음)\n",
    "test_var_fallback = 'mtc_03z1'\n",
    "label_fallback = get_korean_label(test_var_fallback)\n",
    "print(f\"🔄 Fallback:   {test_var_fallback:15s} → {label_fallback}\")\n",
    "\n",
    "# 3. 둘 다 없는 변수 테스트\n",
    "test_var_none = 'unknown_var'\n",
    "label_none = get_korean_label(test_var_none)\n",
    "print(f\"📝 없는 변수:  {test_var_none:15s} → {label_none}\")\n",
    "\n",
    "print(\"\\n\" + \"=\" * 60)\n",
    "print(\"✅ Fallback 시스템이 정상적으로 작동합니다!\")\n"
   ]
  },
  {
   "cell_type": "markdown",
   "id": "c8dc542b",
   "metadata": {},
   "source": [
    "## 🎨 8. 한글 라벨링 기능 (시각화용)\n",
    "\n",
    "히트맵이나 그래프의 축 라벨을 한글로 자동 변환하는 기능입니다.\n",
    "\n",
    "### 주요 함수:\n",
    "- **`get_korean_label(var)`**: 단일 변수의 한글 라벨\n",
    "- **`get_korean_labels(vars, format_type)`**: 여러 변수의 한글 라벨 리스트\n",
    "- **`create_korean_labels_dict(vars)`**: 한글 라벨 딕셔너리\n",
    "\n",
    "### format_type 옵션:\n",
    "- **'simple'**: 한글만 (예: '교육수준')\n",
    "- **'with_var'**: 변수명 + 한글 (예: 'sob_01z1 (교육수준)')\n",
    "- **'newline'**: 변수명\\n한글 (예: 'sob_01z1\\n(교육수준)')\n"
   ]
  },
  {
   "cell_type": "code",
   "execution_count": 25,
   "id": "8ee13d9e",
   "metadata": {},
   "outputs": [
    {
     "name": "stdout",
     "output_type": "stream",
     "text": [
      "🎨 한글 라벨링 기능 테스트\n",
      "============================================================\n",
      "\n",
      "1️⃣ 단일 변수 한글 라벨:\n",
      "  age             → 만나이\n",
      "  sob_01z1        → 교육수준\n",
      "  smb_09z1        → 금연유지기간\n",
      "  churn           → churn\n",
      "\n",
      "2️⃣ 여러 변수 한글 라벨 리스트:\n",
      "\n",
      "  📋 simple (한글만):\n",
      "    ['만나이', '교육수준', 'churn']\n",
      "\n",
      "  📋 with_var (변수명 + 한글):\n",
      "    ['age (만나이)', 'sob_01z1 (교육수준)', 'churn']\n",
      "\n",
      "  📋 newline (변수명\\n한글):\n",
      "    ['age\\n(만나이)', 'sob_01z1\\n(교육수준)', 'churn']\n",
      "\n",
      "3️⃣ 한글 라벨 딕셔너리:\n",
      "  age            : 만나이\n",
      "  sob_01z1       : 교육수준\n",
      "  churn          : churn\n",
      "\n",
      "============================================================\n",
      "✅ 모든 한글 라벨링 기능이 정상 작동합니다!\n"
     ]
    }
   ],
   "source": [
    "# 한글 라벨링 기능 테스트\n",
    "print(\"🎨 한글 라벨링 기능 테스트\")\n",
    "print(\"=\" * 60)\n",
    "\n",
    "# 1. 단일 변수 한글 라벨\n",
    "test_vars = ['age', 'sob_01z1', 'smb_09z1', 'churn']\n",
    "print(\"\\n1️⃣ 단일 변수 한글 라벨:\")\n",
    "for var in test_vars:\n",
    "    label = get_korean_label(var)\n",
    "    print(f\"  {var:15s} → {label}\")\n",
    "\n",
    "# 2. 여러 변수 한글 라벨 리스트 (format_type별)\n",
    "print(\"\\n2️⃣ 여러 변수 한글 라벨 리스트:\")\n",
    "test_list = ['age', 'sob_01z1', 'churn']\n",
    "\n",
    "print(\"\\n  📋 simple (한글만):\")\n",
    "labels_simple = get_korean_labels(test_list, format_type='simple')\n",
    "print(f\"    {labels_simple}\")\n",
    "\n",
    "print(\"\\n  📋 with_var (변수명 + 한글):\")\n",
    "labels_with_var = get_korean_labels(test_list, format_type='with_var')\n",
    "print(f\"    {labels_with_var}\")\n",
    "\n",
    "print(\"\\n  📋 newline (변수명\\\\n한글):\")\n",
    "labels_newline = get_korean_labels(test_list, format_type='newline')\n",
    "print(f\"    {labels_newline}\")\n",
    "\n",
    "# 3. 한글 라벨 딕셔너리\n",
    "print(\"\\n3️⃣ 한글 라벨 딕셔너리:\")\n",
    "labels_dict = create_korean_labels_dict(test_list)\n",
    "for var, label in labels_dict.items():\n",
    "    print(f\"  {var:15s}: {label}\")\n",
    "\n",
    "print(\"\\n\" + \"=\" * 60)\n",
    "print(\"✅ 모든 한글 라벨링 기능이 정상 작동합니다!\")\n"
   ]
  },
  {
   "cell_type": "markdown",
   "id": "eb2d34d8",
   "metadata": {},
   "source": [
    "## 📊 9. 히트맵 한글 라벨링 실전 예제\n",
    "\n",
    "### 문제: 히트맵 라벨이 겹치는 경우\n",
    "- **원인**: 변수가 너무 많음 (199개 변수를 모두 표시하기 어려움)\n",
    "- **해결책**: Top 변수만 선택 + 최적화된 설정\n",
    "\n",
    "### 최적화 설정:\n",
    "1. **Top 변수 선택**: 30~50개 (중요한 변수만)\n",
    "2. **format_type**: 'simple' (한글만 - 가장 짧음)\n",
    "3. **Figure 크기**: (22, 20) - 충분히 큼\n",
    "4. **폰트 크기**: 11pt - 읽기 좋음\n",
    "5. **여백 추가**: bottom/left=0.15 - 잘림 방지\n"
   ]
  },
  {
   "cell_type": "code",
   "execution_count": 26,
   "id": "2248fa2d",
   "metadata": {},
   "outputs": [
    {
     "name": "stdout",
     "output_type": "stream",
     "text": [
      "📊 히트맵 한글 라벨링 데모\n",
      "============================================================\n"
     ]
    },
    {
     "data": {
      "image/png": "[encoded data removed]",
      "text/plain": [
       "<Figure size 1000x800 with 2 Axes>"
      ]
     },
     "metadata": {},
     "output_type": "display_data"
    },
    {
     "name": "stdout",
     "output_type": "stream",
     "text": [
      "\n",
      "💡 위 예제처럼 어떤 그래프든 한글 라벨을 쉽게 적용할 수 있습니다!\n"
     ]
    }
   ],
   "source": [
    "# 히트맵 한글 라벨링 예제 (소규모 데모)\n",
    "print(\"📊 히트맵 한글 라벨링 데모\")\n",
    "print(\"=\" * 60)\n",
    "\n",
    "# 교육경제 카테고리 변수들로 작은 히트맵 생성\n",
    "demo_vars = ['sob_01z1', 'soa_01z1', 'smb_09z1', 'age', 'churn']\n",
    "\n",
    "# 상관관계 매트릭스 생성\n",
    "demo_df = df_decoded[demo_vars]\n",
    "demo_corr = demo_df.corr()\n",
    "\n",
    "# 히트맵 생성 (한글 라벨 적용)\n",
    "fig, ax = plt.subplots(figsize=(10, 8))\n",
    "sns.heatmap(demo_corr, \n",
    "            annot=True,\n",
    "            fmt='.2f',\n",
    "            cmap='coolwarm',\n",
    "            center=0,\n",
    "            vmin=-1, vmax=1,\n",
    "            square=True,\n",
    "            linewidths=0.5,\n",
    "            cbar_kws={'label': '상관계수'},\n",
    "            ax=ax)\n",
    "\n",
    "# 한글 라벨 적용 (simple 형식)\n",
    "korean_labels = get_korean_labels(demo_vars, format_type='simple')\n",
    "\n",
    "# 축 라벨 설정\n",
    "ax.set_xticks(np.arange(len(korean_labels)) + 0.5)\n",
    "ax.set_yticks(np.arange(len(korean_labels)) + 0.5)\n",
    "ax.set_xticklabels(korean_labels, rotation=45, ha='right', fontsize=12)\n",
    "ax.set_yticklabels(korean_labels, rotation=0, fontsize=12)\n",
    "\n",
    "plt.title('변수 간 상관관계 (한글 라벨 적용)', fontsize=14, pad=15)\n",
    "plt.tight_layout(pad=1.5)\n",
    "plt.show()\n",
    "\n",
    "print(\"\\n💡 위 예제처럼 어떤 그래프든 한글 라벨을 쉽게 적용할 수 있습니다!\")\n"
   ]
  },
  {
   "cell_type": "markdown",
   "id": "a53d15a1",
   "metadata": {},
   "source": [
    "## 📝 10. 전체 기능 요약\n",
    "\n",
    "### ✅ 테스트 완료 항목:\n",
    "\n",
    "#### 1️⃣ 기본 디코딩 (섹션 2-4)\n",
    "- [x] 단일 값 디코딩 (숫자 → 한글)\n",
    "- [x] 데이터프레임 컬럼 디코딩\n",
    "- [x] Value counts (디코딩)\n",
    "- [x] 변수 정보 조회\n",
    "\n",
    "#### 2️⃣ 시각화 (섹션 5)\n",
    "- [x] 막대그래프 한글 라벨\n",
    "- [x] 가로 막대그래프 한글 라벨\n",
    "- [x] 교차분석 그래프 한글 라벨\n",
    "\n",
    "#### 3️⃣ Fallback 시스템 (섹션 7)\n",
    "- [x] variable.csv 우선 사용\n",
    "- [x] variable_full.csv 자동 fallback\n",
    "- [x] 없는 변수는 변수명 반환\n",
    "\n",
    "#### 4️⃣ 한글 라벨링 (섹션 8-9)\n",
    "- [x] get_korean_label() - 단일 변수\n",
    "- [x] get_korean_labels() - 여러 변수 리스트\n",
    "- [x] create_korean_labels_dict() - 딕셔너리\n",
    "- [x] 히트맵 적용 예제\n",
    "\n",
    "### 📚 주요 학습 내용:\n",
    "\n",
    "| 기능 | 함수 | 사용 목적 |\n",
    "|------|------|----------|\n",
    "| 값 디코딩 | `decode_value()` | 숫자 코드 → 한글 의미 |\n",
    "| 컬럼 디코딩 | `decode_column()` | 데이터프레임 컬럼 변환 |\n",
    "| Value Counts | `create_value_counts_decoded()` | 디코딩된 빈도수 |\n",
    "| 한글 라벨 | `get_korean_label()` | 그래프 축 라벨용 |\n",
    "| 라벨 리스트 | `get_korean_labels()` | 여러 변수 한번에 |\n",
    "| 라벨 딕셔너리 | `create_korean_labels_dict()` | 변수-라벨 매핑 |\n",
    "\n",
    "### 🎯 다음 단계:\n",
    "1. `01_data_overview.ipynb`에서 실제 EDA에 적용\n",
    "2. 다른 분석 노트북에도 활용\n",
    "3. 필요시 variable.csv에 변수 추가\n"
   ]
  },
  {
   "cell_type": "code",
   "execution_count": 27,
   "id": "vc-3",
   "metadata": {},
   "outputs": [
    {
     "name": "stdout",
     "output_type": "stream",
     "text": [
      "\n",
      "=== 현재 흡연상태 분포 ===\n",
      "과거피웠으나현재금연    52059\n",
      "매일피움          33801\n",
      "가끔피움           3597\n",
      "비해당             328\n",
      "모름               37\n",
      "Name: count, dtype: int64\n"
     ]
    }
   ],
   "source": [
    "# 현재 흡연상태 분포\n",
    "print('\\n=== 현재 흡연상태 분포 ===')\n",
    "smoke_dist = decoder.create_value_counts_decoded(df_decoded, 'sma_03z2')\n",
    "print(smoke_dist)"
   ]
  },
  {
   "cell_type": "markdown",
   "id": "viz",
   "metadata": {},
   "source": [
    "## 📊 5. 시각화 (한글 라벨 적용)"
   ]
  },
  {
   "cell_type": "code",
   "execution_count": 28,
   "id": "viz-1",
   "metadata": {},
   "outputs": [
    {
     "data": {
      "image/png": "[encoded data removed]",
      "text/plain": [
       "<Figure size 1000x300 with 1 Axes>"
      ]
     },
     "metadata": {},
     "output_type": "display_data"
    }
   ],
   "source": [
    "# 교육수준별 분포 (팀 통일 스타일)\n",
    "fig, ax = plt.subplots(figsize=(10, 3))\n",
    "edu_dist.plot(kind='bar', ax=ax, color=TEAM_COLORS['primary'], edgecolor='black')\n",
    "ax.set_title(f'{decoder.get_variable_label(\"sob_01z1\")} 분포', fontsize=14)\n",
    "ax.set_xlabel('교육수준', fontsize=12)\n",
    "ax.set_ylabel('빈도', fontsize=12)\n",
    "ax.grid(axis='y', linestyle='--', alpha=0.7)\n",
    "plt.xticks(rotation=45, ha='right')\n",
    "plt.tight_layout()\n",
    "plt.show()"
   ]
  },
  {
   "cell_type": "code",
   "execution_count": 29,
   "id": "viz-2",
   "metadata": {},
   "outputs": [
    {
     "data": {
      "image/png": "[encoded data removed]",
      "text/plain": [
       "<Figure size 800x300 with 1 Axes>"
      ]
     },
     "metadata": {},
     "output_type": "display_data"
    }
   ],
   "source": [
    "# 흡연상태별 분포 (팀 통일 스타일)\n",
    "fig, ax = plt.subplots(figsize=(8, 3))\n",
    "smoke_dist.plot(kind='barh', ax=ax, color=TEAM_COLORS['primary'], edgecolor='black')\n",
    "ax.set_title(f'{decoder.get_variable_label(\"sma_03z2\")} 분포', fontsize=14)\n",
    "ax.set_xlabel('빈도', fontsize=12)\n",
    "ax.set_ylabel('흡연상태', fontsize=12)\n",
    "ax.grid(axis='x', linestyle='--', alpha=0.7)\n",
    "plt.tight_layout()\n",
    "plt.show()"
   ]
  },
  {
   "cell_type": "code",
   "execution_count": 30,
   "id": "viz-3",
   "metadata": {},
   "outputs": [
    {
     "data": {
      "image/png": "[encoded data removed]",
      "text/plain": [
       "<Figure size 1000x300 with 1 Axes>"
      ]
     },
     "metadata": {},
     "output_type": "display_data"
    }
   ],
   "source": [
    "# 교육수준 × 금연성공 교차 분석 (팀 통일 스타일)\n",
    "fig, ax = plt.subplots(figsize=(10, 3))\n",
    "\n",
    "# 교차표 생성 (비율)\n",
    "ct = pd.crosstab(\n",
    "    df_decoded['sob_01z1_label'], \n",
    "    df_decoded['churn'],\n",
    "    normalize='index'\n",
    ") * 100\n",
    "\n",
    "ct.plot(kind='bar', ax=ax, color=[TEAM_COLORS['danger'], TEAM_COLORS['success']], width=0.8)\n",
    "ax.set_title('교육수준별 금연 성공률', fontsize=14)\n",
    "ax.set_xlabel('교육수준', fontsize=12)\n",
    "ax.set_ylabel('비율 (%)', fontsize=12)\n",
    "ax.legend(['금연 실패', '금연 성공'], loc='upper left')\n",
    "ax.grid(axis='y', linestyle='--', alpha=0.7)\n",
    "plt.xticks(rotation=45, ha='right')\n",
    "plt.tight_layout()\n",
    "plt.show()"
   ]
  },
  {
   "cell_type": "markdown",
   "id": "summary",
   "metadata": {},
   "source": [
    "## ✅ 6. 테스트 결과 정리\n",
    "\n",
    "**확인 사항:**\n",
    "- [x] VariableDecoder 모듈 정상 작동\n",
    "- [x] 단일 값 디코딩 성공 (숫자 → 한글)\n",
    "- [x] 데이터프레임 컬럼 디코딩 성공\n",
    "- [x] Value counts (디코딩) 생성 성공\n",
    "- [x] 시각화에서 한글 라벨 정상 출력\n",
    "\n",
    "**다음 단계:**\n",
    "1. 교육수준 × 흡연율 상관관계 분석\n",
    "2. 경제활동 × 금연성공 상관관계 분석\n",
    "3. 통계적 유의성 검정"
   ]
  },
  {
   "cell_type": "code",
   "execution_count": 31,
   "id": "exploration",
   "metadata": {},
   "outputs": [
    {
     "name": "stdout",
     "output_type": "stream",
     "text": [
      "\n",
      "=== 사용 가능한 카테고리 ===\n",
      "1. 식생활\n",
      "2. 정신건강\n",
      "3. 가구정보\n",
      "4. 기본정보\n",
      "5. 주관적건강수준\n",
      "6. 비만체중조절\n",
      "7. 기타\n",
      "8. 가구정보v\n",
      "9. 음주\n",
      "10. 흡연\n",
      "11. 교육경제활동\n",
      "12. 신체활동\n",
      "13. 구강건강\n"
     ]
    }
   ],
   "source": [
    "# 추가 탐색: 모든 카테고리 확인\n",
    "print('\\n=== 사용 가능한 카테고리 ===')\n",
    "categories = decoder.get_categories()\n",
    "for i, cat in enumerate(categories, 1):\n",
    "    print(f\"{i}. {cat}\")"
   ]
  },
  {
   "cell_type": "code",
   "execution_count": 32,
   "id": "exploration-2",
   "metadata": {},
   "outputs": [
    {
     "name": "stdout",
     "output_type": "stream",
     "text": [
      "\n",
      "=== 교육경제 카테고리 변수 ===\n"
     ]
    }
   ],
   "source": [
    "# 특정 카테고리의 변수 목록\n",
    "print('\\n=== 교육경제 카테고리 변수 ===')\n",
    "edu_econ_vars = decoder.get_all_variables(category='교육경제')\n",
    "for var in edu_econ_vars:\n",
    "    label = decoder.get_variable_label(var)\n",
    "    print(f\"  {var}: {label}\")"
   ]
  },
  {
   "cell_type": "code",
   "execution_count": 33,
   "id": "save-decoded",
   "metadata": {},
   "outputs": [
    {
     "name": "stdout",
     "output_type": "stream",
     "text": [
      "\n",
      "✅ 모든 테스트 완료!\n"
     ]
    }
   ],
   "source": [
    "# 디코딩된 데이터 저장 (선택사항)\n",
    "# df_decoded.to_csv('../../../data/analy_data_decoded.csv', index=False, encoding='utf-8-sig')\n",
    "print('\\n✅ 모든 테스트 완료!')"
   ]
  }
 ],
 "metadata": {
  "kernelspec": {
   "display_name": "ml_env",
   "language": "python",
   "name": "python3"
  },
  "language_info": {
   "codemirror_mode": {
    "name": "ipython",
    "version": 3
   },
   "file_extension": ".py",
   "mimetype": "text/x-python",
   "name": "python",
   "nbconvert_exporter": "python",
   "pygments_lexer": "ipython3",
   "version": "3.12.11"
  }
 },
 "nbformat": 4,
 "nbformat_minor": 5
}
