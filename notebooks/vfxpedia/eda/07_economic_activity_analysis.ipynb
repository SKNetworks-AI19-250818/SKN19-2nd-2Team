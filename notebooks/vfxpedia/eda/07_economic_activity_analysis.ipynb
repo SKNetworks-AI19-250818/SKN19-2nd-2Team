﻿{
 "cells": [
  {
   "cell_type": "markdown",
   "id": "title",
   "metadata": {},
   "source": [
    "# 💼 경제활동에 따른 금연 성공 상관관계 분석\n",
    "\n",
    "**담당자:** 오흥재  \n",
    "**목표:** 경제활동 상태가 금연 성공(churn)에 미치는 영향 분석\n",
    "\n",
    "---\n",
    "\n",
    "## 📋 분석 계획\n",
    "\n",
    "### 1️⃣ **핵심 변수**\n",
    "- `soa_01z1`: 경제활동 여부 (예/아니오)\n",
    "- `soa_06z2`: 직업분류 (관리자, 전문가, 사무직...)\n",
    "- `soa_07z1`: 종사상지위 (고용주, 임금근로자, 무급가족종사자)\n",
    "- `churn`: 금연 성공 여부 (1=성공, 0=실패)\n",
    "\n",
    "### 2️⃣ **분석 단계**\n",
    "1. 경제활동 변수 기초 분석\n",
    "2. 경제활동 여부 × 금연 성공률\n",
    "3. 직업분류 × 금연 성공률\n",
    "4. 종사상지위 × 금연 성공률\n",
    "5. 통계적 검정 및 인사이트"
   ]
  },
  {
   "cell_type": "code",
   "execution_count": null,
   "id": "setup",
   "metadata": {},
   "outputs": [],
   "source": [
    "# 환경 설정\n",
    "import sys\n",
    "import os\n",
    "project_root = os.path.abspath('../../..')\n",
    "if project_root not in sys.path:\n",
    "    sys.path.insert(0, project_root)\n",
    "\n",
    "import pandas as pd\n",
    "import numpy as np\n",
    "import matplotlib.pyplot as plt\n",
    "import seaborn as sns\n",
    "from scipy import stats\n",
    "\n",
    "from utils.variable_decoder import VariableDecoder\n",
    "\n",
    "plt.rcParams['font.family'] = 'Malgun Gothic'\n",
    "plt.rcParams['axes.unicode_minus'] = False\n",
    "plt.rcParams['figure.figsize'] = (14, 6)\n",
    "sns.set_palette('husl')\n",
    "\n",
    "print('✅ 환경 설정 완료!')"
   ]
  },
  {
   "cell_type": "markdown",
   "id": "load",
   "metadata": {},
   "source": [
    "## 📂 Step 1: 데이터 로드 및 변수 디코딩"
   ]
  },
  {
   "cell_type": "code",
   "execution_count": null,
   "id": "load-data",
   "metadata": {},
   "outputs": [],
   "source": [
    "# 데이터 로드\n",
    "df = pd.read_csv('../../../data/analy_data.csv')\n",
    "decoder = VariableDecoder()\n",
    "\n",
    "# 경제활동 관련 변수 디코딩\n",
    "econ_vars = ['soa_01z1', 'soa_06z2', 'soa_07z1']\n",
    "df_work = decoder.decode_multiple_columns(df, econ_vars)\n",
    "\n",
    "print(f'전체 데이터: {df_work.shape}')\n",
    "print('\\n✅ 디코딩 완료!')\n",
    "df_work[['soa_01z1_decoded', 'soa_06z2_decoded', 'soa_07z1_decoded', 'churn']].head(10)"
   ]
  },
  {
   "cell_type": "markdown",
   "id": "eda",
   "metadata": {},
   "source": [
    "## 🔍 Step 2: 경제활동 변수 기초 분석"
   ]
  },
  {
   "cell_type": "code",
   "execution_count": null,
   "id": "eda-1",
   "metadata": {},
   "outputs": [],
   "source": [
    "# 경제활동 여부 분포\n",
    "print('=== 경제활동 여부 분포 ===')\n",
    "econ_status = decoder.create_value_counts_decoded(df_work, 'soa_01z1')\n",
    "print(econ_status)\n",
    "\n",
    "fig, ax = plt.subplots(figsize=(8, 6))\n",
    "econ_status.plot(kind='bar', ax=ax, color=['#4ECDC4', '#FF6B6B'])\n",
    "ax.set_title('경제활동 여부 분포', fontsize=16, fontweight='bold')\n",
    "ax.set_xlabel('경제활동 여부')\n",
    "ax.set_ylabel('빈도')\n",
    "plt.xticks(rotation=0)\n",
    "for i, v in enumerate(econ_status):\n",
    "    ax.text(i, v + 500, f'{v:,}\\n({v/econ_status.sum()*100:.1f}%)', ha='center', fontweight='bold')\n",
    "plt.tight_layout()\n",
    "plt.show()"
   ]
  },
  {
   "cell_type": "code",
   "execution_count": null,
   "id": "eda-2",
   "metadata": {},
   "outputs": [],
   "source": [
    "# 직업분류 분포 (경제활동자만)\n",
    "print('\\n=== 직업분류 분포 (경제활동자) ===')\n",
    "job_dist = decoder.create_value_counts_decoded(\n",
    "    df_work[df_work['soa_01z1'] == 1.0], \n",
    "    'soa_06z2'\n",
    ")\n",
    "print(job_dist.head(10))\n",
    "\n",
    "fig, ax = plt.subplots(figsize=(12, 8))\n",
    "job_dist.head(10).plot(kind='barh', ax=ax, color='steelblue')\n",
    "ax.set_title('직업분류 Top 10', fontsize=16, fontweight='bold')\n",
    "ax.set_xlabel('빈도')\n",
    "ax.set_ylabel('직업분류')\n",
    "for i, v in enumerate(job_dist.head(10)):\n",
    "    ax.text(v + 100, i, f'{v:,}', va='center')\n",
    "plt.tight_layout()\n",
    "plt.show()"
   ]
  },
  {
   "cell_type": "markdown",
   "id": "analysis",
   "metadata": {},
   "source": [
    "## 📊 Step 3: 경제활동 × 금연 성공률"
   ]
  },
  {
   "cell_type": "code",
   "execution_count": null,
   "id": "econ-churn",
   "metadata": {},
   "outputs": [],
   "source": [
    "# 경제활동 여부별 금연 성공률\n",
    "success_by_econ = df_work.groupby('soa_01z1_decoded')['churn'].agg(['sum', 'count', 'mean'])\n",
    "success_by_econ['success_rate(%)'] = success_by_econ['mean'] * 100\n",
    "\n",
    "print('=== 경제활동 여부별 금연 성공률 ===')\n",
    "print(success_by_econ[['count', 'sum', 'success_rate(%)']])\n",
    "\n",
    "# 시각화\n",
    "fig, axes = plt.subplots(1, 2, figsize=(14, 6))\n",
    "\n",
    "# 성공률 막대그래프\n",
    "success_by_econ['success_rate(%)'].plot(kind='bar', ax=axes[0], color=['#4ECDC4', '#FF6B6B'])\n",
    "axes[0].set_title('경제활동 여부별 금연 성공률', fontsize=14, fontweight='bold')\n",
    "axes[0].set_ylabel('성공률 (%)')\n",
    "axes[0].set_xlabel('경제활동 여부')\n",
    "axes[0].axhline(df_work['churn'].mean() * 100, color='red', linestyle='--', label='전체 평균')\n",
    "axes[0].legend()\n",
    "plt.setp(axes[0].xaxis.get_majorticklabels(), rotation=0)\n",
    "\n",
    "for i, v in enumerate(success_by_econ['success_rate(%)']):\n",
    "    axes[0].text(i, v + 1, f'{v:.1f}%', ha='center', fontweight='bold')\n",
    "\n",
    "# 스택 바 차트\n",
    "churn_cross = pd.crosstab(df_work['soa_01z1_decoded'], df_work['churn'], normalize='index') * 100\n",
    "churn_cross.plot(kind='bar', stacked=True, ax=axes[1], color=['#FF6B6B', '#4ECDC4'])\n",
    "axes[1].set_title('경제활동 여부별 금연 성공/실패 비율', fontsize=14, fontweight='bold')\n",
    "axes[1].set_ylabel('비율 (%)')\n",
    "axes[1].set_xlabel('경제활동 여부')\n",
    "axes[1].legend(['실패', '성공'], title='Churn')\n",
    "plt.setp(axes[1].xaxis.get_majorticklabels(), rotation=0)\n",
    "\n",
    "plt.tight_layout()\n",
    "plt.show()"
   ]
  },
  {
   "cell_type": "markdown",
   "id": "job-analysis",
   "metadata": {},
   "source": [
    "## 💼 Step 4: 직업분류 × 금연 성공률"
   ]
  },
  {
   "cell_type": "code",
   "execution_count": null,
   "id": "job-churn",
   "metadata": {},
   "outputs": [],
   "source": [
    "# 직업분류별 금연 성공률 (경제활동자만, 최소 100명 이상)\n",
    "job_success = df_work[df_work['soa_01z1'] == 1.0].groupby('soa_06z2_decoded')['churn'].agg(\n",
    "    ['sum', 'count', 'mean']\n",
    ")\n",
    "job_success = job_success[job_success['count'] >= 100]  # 최소 표본 크기\n",
    "job_success['success_rate(%)'] = job_success['mean'] * 100\n",
    "job_success = job_success.sort_values('success_rate(%)', ascending=False)\n",
    "\n",
    "print('=== 직업분류별 금연 성공률 (표본 100명 이상) ===')\n",
    "print(job_success[['count', 'success_rate(%)']])\n",
    "\n",
    "# 시각화\n",
    "fig, ax = plt.subplots(figsize=(12, 8))\n",
    "job_success['success_rate(%)'].plot(kind='barh', ax=ax, color='coral')\n",
    "ax.set_title('직업분류별 금연 성공률', fontsize=16, fontweight='bold')\n",
    "ax.set_xlabel('성공률 (%)')\n",
    "ax.set_ylabel('직업분류')\n",
    "ax.axvline(df_work['churn'].mean() * 100, color='red', linestyle='--', label='전체 평균')\n",
    "ax.legend()\n",
    "\n",
    "for i, v in enumerate(job_success['success_rate(%)']):\n",
    "    ax.text(v + 0.5, i, f'{v:.1f}%', va='center')\n",
    "\n",
    "plt.tight_layout()\n",
    "plt.show()"
   ]
  },
  {
   "cell_type": "markdown",
   "id": "employment",
   "metadata": {},
   "source": [
    "## 👔 Step 5: 종사상지위 × 금연 성공률"
   ]
  },
  {
   "cell_type": "code",
   "execution_count": null,
   "id": "emp-churn",
   "metadata": {},
   "outputs": [],
   "source": [
    "# 종사상지위별 금연 성공률\n",
    "emp_success = df_work[df_work['soa_01z1'] == 1.0].groupby('soa_07z1_decoded')['churn'].agg(\n",
    "    ['sum', 'count', 'mean']\n",
    ")\n",
    "emp_success['success_rate(%)'] = emp_success['mean'] * 100\n",
    "\n",
    "print('=== 종사상지위별 금연 성공률 ===')\n",
    "print(emp_success[['count', 'success_rate(%)']])\n",
    "\n",
    "# 시각화\n",
    "fig, ax = plt.subplots(figsize=(10, 6))\n",
    "emp_success['success_rate(%)'].plot(kind='bar', ax=ax, color='lightseagreen')\n",
    "ax.set_title('종사상지위별 금연 성공률', fontsize=16, fontweight='bold')\n",
    "ax.set_ylabel('성공률 (%)')\n",
    "ax.set_xlabel('종사상지위')\n",
    "ax.axhline(df_work['churn'].mean() * 100, color='red', linestyle='--', label='전체 평균')\n",
    "ax.legend()\n",
    "plt.xticks(rotation=45, ha='right')\n",
    "\n",
    "for i, v in enumerate(emp_success['success_rate(%)']):\n",
    "    ax.text(i, v + 1, f'{v:.1f}%', ha='center', fontweight='bold')\n",
    "\n",
    "plt.tight_layout()\n",
    "plt.show()"
   ]
  },
  {
   "cell_type": "markdown",
   "id": "stat",
   "metadata": {},
   "source": [
    "## 📈 Step 6: 통계적 검정"
   ]
  },
  {
   "cell_type": "code",
   "execution_count": null,
   "id": "chi-square",
   "metadata": {},
   "outputs": [],
   "source": [
    "# 1. 경제활동 여부 × 금연 성공\n",
    "print('=== 경제활동 여부 × 금연 성공 카이제곱 검정 ===')\n",
    "ct1 = pd.crosstab(df_work['soa_01z1_decoded'], df_work['churn'])\n",
    "chi2_1, p_1, dof_1, _ = stats.chi2_contingency(ct1)\n",
    "print(f'χ² = {chi2_1:.2f}, p-value = {p_1:.4e}')\n",
    "print(f'결론: {\"✅ 유의한 상관관계 있음\" if p_1 < 0.05 else \"❌ 유의하지 않음\"}')\n",
    "\n",
    "# 2. 직업분류 × 금연 성공\n",
    "print('\\n=== 직업분류 × 금연 성공 카이제곱 검정 ===')\n",
    "ct2 = pd.crosstab(df_work[df_work['soa_01z1'] == 1.0]['soa_06z2_decoded'], \n",
    "                   df_work[df_work['soa_01z1'] == 1.0]['churn'])\n",
    "chi2_2, p_2, dof_2, _ = stats.chi2_contingency(ct2)\n",
    "print(f'χ² = {chi2_2:.2f}, p-value = {p_2:.4e}')\n",
    "print(f'결론: {\"✅ 유의한 상관관계 있음\" if p_2 < 0.05 else \"❌ 유의하지 않음\"}')\n",
    "\n",
    "# 3. 종사상지위 × 금연 성공\n",
    "print('\\n=== 종사상지위 × 금연 성공 카이제곱 검정 ===')\n",
    "ct3 = pd.crosstab(df_work[df_work['soa_01z1'] == 1.0]['soa_07z1_decoded'], \n",
    "                   df_work[df_work['soa_01z1'] == 1.0]['churn'])\n",
    "chi2_3, p_3, dof_3, _ = stats.chi2_contingency(ct3)\n",
    "print(f'χ² = {chi2_3:.2f}, p-value = {p_3:.4e}')\n",
    "print(f'결론: {\"✅ 유의한 상관관계 있음\" if p_3 < 0.05 else \"❌ 유의하지 않음\"}')"
   ]
  },
  {
   "cell_type": "markdown",
   "id": "insights",
   "metadata": {},
   "source": [
    "## 💡 Step 7: 주요 발견사항 및 인사이트\n",
    "\n",
    "### 📌 분석 결과 요약\n",
    "\n",
    "**[분석 후 작성]**\n",
    "\n",
    "1. **경제활동 여부의 영향**\n",
    "   - 경제활동자 vs 비경제활동자 금연 성공률 차이\n",
    "   \n",
    "2. **직업별 특성**\n",
    "   - 금연 성공률이 높은/낮은 직업군\n",
    "   \n",
    "3. **종사상지위의 영향**\n",
    "   - 고용주, 임금근로자, 무급가족종사자 간 차이\n",
    "\n",
    "4. **모델링 시사점**\n",
    "   - Feature Engineering 아이디어\n",
    "   - 중요 변수 선택\n",
    "\n",
    "---\n",
    "\n",
    "### ✅ 다음 단계\n",
    "- [ ] 교육수준 분석 결과와 통합\n",
    "- [ ] 상호작용 효과 분석 (교육 × 경제활동)\n",
    "- [ ] Feature Engineering\n",
    "- [ ] 모델링 준비"
   ]
  }
 ],
 "metadata": {
  "kernelspec": {
   "display_name": "Python 3",
   "language": "python",
   "name": "python3"
  },
  "language_info": {
   "name": "python",
   "version": "3.12.0"
  }
 },
 "nbformat": 4,
 "nbformat_minor": 5
}


