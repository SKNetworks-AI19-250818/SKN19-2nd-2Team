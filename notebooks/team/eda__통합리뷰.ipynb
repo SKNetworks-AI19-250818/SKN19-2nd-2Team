{
 "cells": [
  {
   "cell_type": "code",
   "execution_count": 1,
   "id": "709e6f33",
   "metadata": {},
   "outputs": [
    {
     "name": "stdout",
     "output_type": "stream",
     "text": [
      "데이터 크기: (89822, 210)\n"
     ]
    }
   ],
   "source": [
    "import os\n",
    "import pandas as pd\n",
    "\n",
    "# 현재 노트북 파일 기준 프로젝트 루트 경로 계산\n",
    "BASE_DIR = os.path.dirname(os.path.dirname(os.path.abspath(\".\")))\n",
    "DATA_PATH = os.path.join(BASE_DIR, \"data\", \"analy_data.csv\")\n",
    "\n",
    "data = pd.read_csv(DATA_PATH)\n",
    "print(\"데이터 크기:\", data.shape)"
   ]
  }
 ],
 "metadata": {
  "kernelspec": {
   "display_name": "ml_env",
   "language": "python",
   "name": "python3"
  },
  "language_info": {
   "codemirror_mode": {
    "name": "ipython",
    "version": 3
   },
   "file_extension": ".py",
   "mimetype": "text/x-python",
   "name": "python",
   "nbconvert_exporter": "python",
   "pygments_lexer": "ipython3",
   "version": "3.12.11"
  }
 },
 "nbformat": 4,
 "nbformat_minor": 5
}
