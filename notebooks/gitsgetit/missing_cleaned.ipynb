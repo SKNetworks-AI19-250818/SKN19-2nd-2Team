# 결측치로 간주할 코드 값들
missing_values_1 = {7, 8, 9, 0}
missing_values_2 = {77, 99}


# 결측치 검사를 적용할 컬럼들
target_cols_1 = [
    'mta_01z1', 'mta_02z1', 'mtb_02z1', 'mtb_07a1', 'mtb_07b1', 'mtb_07c1', 'mtb_07d1',
    'mtb_07e1', 'mtb_07f1', 'mtb_07g1', 'mtb_07h1', 'mtb_07i1', 'mtd_01z1', 'mtd_02z1',
    'mtc_12a1', 'mtc_12b1', 'mtc_12c1', 'mtc_12d1', 'mtc_12e1', 'mtc_12f1', 'mtc_12g1',
    'mtc_12h1', 'mtc_12i1', 'mtc_12j1', 'mtc_13z1', 'mtc_14z1', 'mtc_16z1', 'mtj_05z2',
    'mtj_06z2', 'mtj_09z2', 'mtj_10z1', 'mtj_11z1', 'hma_01z3'
]

target_cols_2 = [
    'mtc_17z1', 'mtc_18z1', 'edit_mtc_03z1', 'mtc_04z1', 'mtc_05z1', 'mtc_06z1', 'mtc_08z1',
    'mtc_09z1', 'mtc_10z1', 'mtc_11z1'
]

# 위 컬럼 중 값이 missing_values에 해당하는 행 제거
df_clean = df[~df[target_cols_1].isin(missing_values_1).any(axis=1)]
df_clean = df[~df[target_cols_2].isin(missing_values_2).any(axis=1)]

# 결과 저장
df_clean.to_csv("cleaned_smoke_anal_data.csv", index=False)
