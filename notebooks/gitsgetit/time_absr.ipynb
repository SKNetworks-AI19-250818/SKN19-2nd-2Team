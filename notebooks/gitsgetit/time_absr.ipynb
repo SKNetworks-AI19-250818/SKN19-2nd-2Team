
# 시간-분 컬럼 쌍 정의
time_minute_pairs = [
    ('edit_mtc_03z1', 'mtc_04z1'),
    ('mtc_05z1', 'mtc_06z1'),
    ('mtc_08z1', 'mtc_09z1'),
    ('mtc_10z1', 'mtc_11z1')
]

# 각 쌍에 대해 분을 시간으로 변환해 더함
for time_col, minute_col in time_minute_pairs:
    # 분 컬럼이 존재할 경우만 처리
    if minute_col in df.columns and time_col in df.columns:
        df[time_col] = df[time_col].fillna(0) + (df[minute_col].fillna(0) / 60)

# '분' 컬럼은 삭제
df = df.drop(columns=[pair[1] for pair in time_minute_pairs if pair[1] in df.columns])


