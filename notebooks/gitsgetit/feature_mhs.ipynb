{
 "cells": [
  {
   "cell_type": "code",
   "execution_count": null,
   "id": "8f14a44c",
   "metadata": {},
   "outputs": [],
   "source": [
    "def feature_smoking_will(df_merge):\n",
    "    \"\"\"\n",
    "    흡연일수(smb_02z1), 흡연량(smb_03z1)을 기준으로 이진 변수 생성\n",
    "    \n",
    "    규칙:\n",
    "    - 흡연일수: 10일 이하 → 0, 10일 초과~30일 이하 → 1\n",
    "    - 흡연량: 10개비 이하 → 0, 10개비 초과 → 1\n",
    "    \"\"\"\n",
    "\n",
    "    df_merge['smoking_days_bin'] = df_merge['smb_02z1'].apply(lambda x: 0 if x <= 10 else 1)\n",
    "    df_merge['smoking_amt_bin'] = df_merge['smb_03z1'].apply(lambda x: 0 if x <= 10 else 1)\n",
    "    \n",
    "    return df_merge"
   ]
  }
 ],
 "metadata": {
  "kernelspec": {
   "display_name": "ml_env",
   "language": "python",
   "name": "python3"
  },
  "language_info": {
   "name": "python",
   "version": "3.12.11"
  }
 },
 "nbformat": 4,
 "nbformat_minor": 5
}
