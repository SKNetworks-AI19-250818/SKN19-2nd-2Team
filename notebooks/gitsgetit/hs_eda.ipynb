# 시간-분 컬럼 쌍 정의
time_minute_pairs = [
    ('edit_mtc_03z1', 'mtc_04z1'),
    ('mtc_05z1', 'mtc_06z1'),
    ('mtc_08z1', 'mtc_09z1'),
    ('mtc_10z1', 'mtc_11z1')
]

# 각 쌍에 대해 분을 시간으로 변환해 더함
for time_col, minute_col in time_minute_pairs:
    # 분 컬럼이 존재할 경우만 처리
    if minute_col in df.columns and time_col in df.columns:
        df[time_col] = df[time_col].fillna(0) + (df[minute_col].fillna(0) / 60)

# '분' 컬럼은 삭제
df = df.drop(columns=[pair[1] for pair in time_minute_pairs if pair[1] in df.columns])

# 최종 남은 컬럼 (Mutual Information >= 0.01)
selected_cols = [
    'mtj_11z1', 'mtj_05z2', 'mta_02z1', 'edit_mtc_03z1',
    'mta_01z1', 'mtc_12c1', 'mtj_10z1', 'mtc_08z1', 'mtc_12h1'
]

# 타깃 컬럼 (금연 성공 여부)
target_col = 'churn'  # 혹은 실제 데이터에서 금연 성공 여부 컬럼명

# 최종 데이터프레임 생성
final_df = df[selected_cols + [target_col]].copy()

# 새로운 CSV 파일로 저장
final_df.to_csv('final_churn_analysis.csv', index=False, encoding='utf-8-sig')

final_df
