{
 "cells": [
  {
   "cell_type": "code",
   "execution_count": null,
   "id": "a6b8db0a",
   "metadata": {},
   "outputs": [],
   "source": [
    "# 시간-분 컬럼 쌍 정의\n",
    "time_minute_pairs = [\n",
    "    ('edit_mtc_03z1', 'mtc_04z1'),\n",
    "    ('mtc_05z1', 'mtc_06z1'),\n",
    "    ('mtc_08z1', 'mtc_09z1'),\n",
    "    ('mtc_10z1', 'mtc_11z1')\n",
    "]\n",
    "\n",
    "# 각 쌍에 대해 분을 시간으로 변환해 더함\n",
    "for time_col, minute_col in time_minute_pairs:\n",
    "    # 분 컬럼이 존재할 경우만 처리\n",
    "    if minute_col in df.columns and time_col in df.columns:\n",
    "        df[time_col] = df[time_col].fillna(0) + (df[minute_col].fillna(0) / 60)\n",
    "\n",
    "# '분' 컬럼은 삭제\n",
    "df = df.drop(columns=[pair[1] for pair in time_minute_pairs if pair[1] in df.columns])\n",
    "\n",
    "# 최종 남은 컬럼 (Mutual Information >= 0.01)\n",
    "selected_cols = [\n",
    "    'mtj_11z1', 'mtj_05z2', 'mta_02z1', 'edit_mtc_03z1',\n",
    "    'mta_01z1', 'mtc_12c1', 'mtj_10z1', 'mtc_08z1', 'mtc_12h1'\n",
    "]\n",
    "\n",
    "# 타깃 컬럼 (금연 성공 여부)\n",
    "target_col = 'churn'  # 혹은 실제 데이터에서 금연 성공 여부 컬럼명\n",
    "\n",
    "# 최종 데이터프레임 생성\n",
    "final_df = df[selected_cols + [target_col]].copy()\n",
    "\n",
    "# 새로운 CSV 파일로 저장\n",
    "final_df.to_csv('final_churn_analysis.csv', index=False, encoding='utf-8-sig')\n",
    "\n",
    "final_df\n"
   ]
  }
 ],
 "metadata": {
  "language_info": {
   "name": "python"
  }
 },
 "nbformat": 4,
 "nbformat_minor": 5
}
