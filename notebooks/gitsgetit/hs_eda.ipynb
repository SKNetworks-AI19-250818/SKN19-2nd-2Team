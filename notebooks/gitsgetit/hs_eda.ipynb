{
 "cells": [
  {
   "cell_type": "code",
   "execution_count": null,
   "id": "a6b8db0a",
   "metadata": {},
   "outputs": [],
   "source": [
    "# 최종 남은 컬럼 (Mutual Information >= 0.01)\n",
    "selected_cols = [\n",
    "    'mtj_11z1', 'mtj_05z2', 'mta_02z1', 'edit_mtc_03z1',\n",
    "    'mta_01z1', 'mtc_12c1', 'mtj_10z1', 'mtc_08z1', 'mtc_12h1'\n",
    "]\n",
    "\n",
    "# 타깃 컬럼 (금연 성공 여부)\n",
    "target_col = 'churn'  # 혹은 실제 데이터에서 금연 성공 여부 컬럼명\n",
    "\n",
    "# 최종 데이터프레임 생성\n",
    "final_df = df[selected_cols + [target_col]].copy()\n",
    "\n",
    "# 새로운 CSV 파일로 저장\n",
    "final_df.to_csv('final_churn_analysis.csv', index=False, encoding='utf-8-sig')\n",
    "\n",
    "final_df\n"
   ]
  }
 ],
 "metadata": {
  "language_info": {
   "name": "python"
  }
 },
 "nbformat": 4,
 "nbformat_minor": 5
}
