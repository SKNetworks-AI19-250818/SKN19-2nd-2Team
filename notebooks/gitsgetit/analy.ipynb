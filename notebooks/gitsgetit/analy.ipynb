{
 "cells": [
  {
   "cell_type": "markdown",
   "id": "1e0aeddd",
   "metadata": {},
   "source": [
    "흡연 컬럼 전체 제거\n",
    "✅ RandomForestClassifier 평가 결과\n",
    "Accuracy : 0.6905\n",
    "Precision: 0.6894\n",
    "Recall   : 0.6905\n",
    "F1-Score : 0.6895"
   ]
  },
  {
   "cell_type": "markdown",
   "id": "4e61d50d",
   "metadata": {},
   "source": [
    "간접 흡연만 추가\n",
    "✅ RandomForestClassifier 평가 결과\n",
    "Accuracy : 0.6897\n",
    "Precision: 0.6886\n",
    "Recall   : 0.6897\n",
    "F1-Score : 0.6886\n",
    "-> 간접흡연을 추가 했더니 성능이 떨어짐 "
   ]
  },
  {
   "cell_type": "code",
   "execution_count": null,
   "id": "06cfa1c2",
   "metadata": {
    "vscode": {
     "languageId": "plaintext"
    }
   },
   "outputs": [],
   "source": [
    "가정내 흡연자 존재 제거, 간접 흡연 추가\n",
    "✅ RandomForestClassifier 평가 결과\n",
    "Accuracy : 0.6893\n",
    "Precision: 0.6882\n",
    "Recall   : 0.6893\n",
    "F1-Score : 0.6882"
   ]
  },
  {
   "cell_type": "markdown",
   "id": "b8f07d11",
   "metadata": {},
   "source": [
    "의지에 관한 컬럼만 추가\n",
    "✅ RandomForestClassifier 평가 결과\n",
    "Accuracy : 0.9684\n",
    "Precision: 0.9699\n",
    "Recall   : 0.9684\n",
    "F1-Score : 0.9683"
   ]
  },
  {
   "cell_type": "code",
   "execution_count": null,
   "id": "45ed3fb4",
   "metadata": {
    "vscode": {
     "languageId": "plaintext"
    }
   },
   "outputs": [],
   "source": [
    "의지 관련 컬럼\n",
    "가끔 흡연자 흡연일수: 'smb_02z1' -> 0-9일은 끊으려는 의지가 보임 -> 0, 1로\n",
    "가끔 흡연자 흡연량: 'smb_03z1' -> 10개비까지는 끊으려는 의지가 있음 -> 0, 1로\n",
    "✅ RandomForestClassifier 평가 결과\n",
    "Accuracy : 0.9684\n",
    "Precision: 0.9699\n",
    "Recall   : 0.9684\n",
    "F1-Score : 0.9683"
   ]
  },
  {
   "cell_type": "code",
   "execution_count": null,
   "id": "a7b2e6f5",
   "metadata": {
    "vscode": {
     "languageId": "plaintext"
    }
   },
   "outputs": [],
   "source": [
    "의지 관련 컬럼 가끔 흡연자 흡연일수, 흡연량 0, 1로만 분류한 컬럼 추가\n",
    "✅ RandomForestClassifier 평가 결과\n",
    "Accuracy : 0.7055\n",
    "Precision: 0.7046\n",
    "Recall   : 0.7055\n",
    "F1-Score : 0.7037"
   ]
  }
 ],
 "metadata": {
  "language_info": {
   "name": "python"
  }
 },
 "nbformat": 4,
 "nbformat_minor": 5
}
