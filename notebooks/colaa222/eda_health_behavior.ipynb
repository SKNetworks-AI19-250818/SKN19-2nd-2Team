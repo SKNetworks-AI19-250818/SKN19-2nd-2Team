import pandas as pd

# notebooks/ → ../../ 로 두 단계 올라가서 data/ 폴더 접근
data = pd.read_csv("../../data/analy_data.csv")

print("데이터 크기:", data.shape)
data.head()

import matplotlib.pyplot as plt
import matplotlib as mpl
import platform

# 한글 폰트 + 마이너스 깨짐 방지
plt.rcParams['axes.unicode_minus'] = False
if platform.system() == 'Windows':
    plt.rcParams['font.family'] = 'Malgun Gothic'
elif platform.system() == 'Darwin':  # macOS
    plt.rcParams['font.family'] = 'AppleGothic'
else:
    # 리눅스(콜랩 등)일 경우 나눔고딕 시도
    mpl.font_manager.fontManager.addfont('/usr/share/fonts/truetype/nanum/NanumGothic.ttf')
    plt.rcParams['font.family'] = 'NanumGothic'


import pandas as pd
from pandas.api.types import CategoricalDtype

# 1) 컬럼별 코드북
CODEBOOK: dict[str, dict[int, str]] = {
    # --- 식생활/표시 관련 ---
    "nua_01z2": {1:"주5~7회", 2:"주3~4회", 3:"주1~2회", 4:"거의안함(주0회)"},
    "nuc_02z1": {1:"예", 2:"아니요"},       # 영양표시 인지여부
    "nuc_01z2": {1:"예", 2:"아니요"},       # 영양표시 활용
    "nuc_03z1": {1:"예", 2:"아니요"},       # 영양관심여부
    "nuc_03z7": {1:"예", 2:"아니요"},       # (스샷의 '영양표시영향여부' 계열이면 동일 처리)

    # --- 신체계측(단위 컬럼은 변환 불필요) ---
    # "oba_02z1": 신장_cm (숫자)
    # "oba_03z1": 체중_kg (숫자)

    # --- 체중조절 의도/방법 ---
    "obb_01t1": {1:"몸무게를 줄이려고 노력", 2:"유지하려고 노력", 3:"늘리려고 노력", 4:"조절하려 하지 않음"},
    "obb_01z1": {1:"예", 2:"아니요"},  # 운동
    "obb_02b1": {1:"예", 2:"아니요"},  # 단식
    "obb_02c1": {1:"예", 2:"아니요"},  # 식사조절
    "obb_02d1": {1:"예", 2:"아니요"},  # 결식
    "obb_02e1": {1:"예", 2:"아니요"},  # 건강보조제
    "obb_02f1": {1:"예", 2:"아니요"},  # 한약
    "obb_02g1": {1:"예", 2:"아니요"},  # 원푸드 다이어트
    "obb_02h1": {1:"예", 2:"아니요"},  # 기타
    # 필요한 obb_* 는 같은 방식으로 계속 추가

    # --- 구강 건강---
    "ora_01z1": {1:"매우좋음", 2:"좋음", 3:"보통", 4:"나쁨", 5:"매우나쁨"},#----------------------------구강건강 자기평가
    "orb_01z1": {1:"매우불편", 2:"불편", 3:"그저그렇다", 4:"별로불편하지않다", 5:"전혀불편하지않다"},#       저작불편
    "ord_01d2": {1:"예", 2:"아니요", 3:"어제 점심식사 하지 않음"},#--------------------------------------점심 후 양치여부
    "ord_05z1": {1:"시간이 없어서", 2:"장소가 없어서", 3:"주변에 하는 사람 없음", 4:"필요성을 못 느낌"},#    점심 후 양치불가 이유
    "ord_01f3": {1:"예", 2:"아니요", 3:"어제 저녁식사 또는 잠자지 않음"},#-------------------------------저녁 양치여부
    "ore_02z2": {1:"예", 2:"아니요", 3:"치과진료 필요 없었음"},#----------------------------------------치과진료 미수진 경험
    "ore_03z2": {1:"시간없음", 2:"증상경미", 3:"경제적이유", 4:"교통/거리", 5:"대기기간김", 6:"몸이불편/예약어려움", 7:"치료두려움", 8:"기타"},
    "ore_07z1": {1:"예", 2:"아니요"},                                                                # 스케일링 경험
}

# 2) BMI 범주 라벨 — 신장/체중에서 BMI 계산해서 사람이 읽는 라벨 부여 ** 시각화 여러움 범주로 나눠야함
# def bmi_category(h_cm: pd.Series, w_kg: pd.Series) -> pd.Series:
#     h_m = h_cm / 100
#     bmi = w_kg / (h_m**2)
#     # BMI 
#     cats = pd.cut(
#         bmi,
#         bins=[-float("inf"), 18.5, 24.9, 29.9, float("inf")],
#         labels=["저체중(<18.5)", "정상(18.5–24.9)", "과체중(25–29.9)", "비만(≥30)"],
#         right=True,
#     )
#     return cats.astype("category")

# 3) 숫자코드를 라벨로 교체하고 Categorical로 설정
def apply_codebook(data: pd.DataFrame, codebook: dict) -> pd.DataFrame:
    out = data.copy()
    for col, mapping in codebook.items():
        if col not in out.columns:
            continue
        # 순서가 있는 항목은 mapping 키 순서로 정렬(예: 1~5)
        ordered_labels = [mapping[k] for k in sorted(mapping.keys())]
        ctype = CategoricalDtype(categories=ordered_labels, ordered=True)
        out[col] = out[col].map(mapping).astype(ctype)
    return out

# 4) 사용 예시
# data = pd.read_csv("../../data/analy_data.csv")
# 사람이 읽는 라벨 적용
df_labeled = apply_codebook(data, CODEBOOK)
# BMI 범주 생성(컬럼명이 다르면 맞춰 변경)
# df_labeled["oba_bmi_cat"] = bmi_category(df["oba_02z1"], df["oba_03z1"])

# 이제 시각화 시 그대로 예: df_labeled["ord_05z1"].value_counts().plot.bar()

def bar_countplot(data, col, title=None, rotate=0):
    s = data[col].dropna()
    # CategoricalDtype(ordered=True)면 그 순서를 그대로 사용
    if pd.api.types.is_categorical_dtype(s):
        counts = s.value_counts(sort=False)  # 카테고리 순서대로
    else:
        counts = s.value_counts()

    total = counts.sum()
    fig, ax = plt.subplots(figsize=(6,4))
    bars = ax.bar(counts.index.astype(str), counts.values)
    ax.set_title(title or col)
    ax.set_ylabel("count")
    ax.set_xlabel("")

    # 퍼센트 주석
    for b, v in zip(bars, counts.values):
        pct = 100*v/total
        ax.text(b.get_x()+b.get_width()/2, b.get_height(),
                f"{v} ({pct:.1f}%)", ha="center", va="bottom", fontsize=10)
    plt.xticks(rotation=rotate)
    plt.tight_layout()
    plt.show()

# 시각화
bar_countplot(df_labeled, "nua_01z2", title="아침식사 빈도")
bar_countplot(df_labeled, "ord_05z1", title="점심 후 양치 불가 이유")
bar_countplot(df_labeled, "ore_03z2", title="치과미수진이유")
bar_countplot(df_labeled, "ora_01z1", title="구강건강자기평가")
bar_countplot(df_labeled, "orb_01z1", title="저작불편여부")
bar_countplot(df_labeled, "ore_02z2", title="치과진료미수진경험")
bar_countplot(df_labeled, "ore_03z2", title="치과미수진이유")
# bar_countplot(df_labeled, "oba_02z1", title="신장_cm") 의미없는 시각화
# bar_countplot(df_labeled, "oba_03z1", title="체중_kg")
# bar_countplot(df_labeled, "oba_bmi", title="체질량지수_BMI")

import pandas as pd

# BMI 범주 함수 
def bmi_category(h_cm: pd.Series, w_kg: pd.Series) -> pd.Series:
    h_m = h_cm / 100
    bmi = w_kg / (h_m**2)
    cats = pd.cut(
        bmi,
        bins=[-float("inf"), 18.5, 24.9, 29.9, float("inf")],
        labels=["저체중(<18.5)", "정상(18.5-24.9)", "과체중(25-29.9)", "비만(≥30)"],
        right=True
    )
    return cats.astype("category")

# BMI 계산 후 새 컬럼으로 저장
data["oba_bmi_cat"] = bmi_category(data["oba_02z1"], data["oba_03z1"])

# 정상적으로 생성됐는지 확인
print(data["oba_bmi_cat"].value_counts())

import matplotlib.pyplot as plt

vc = data["oba_bmi_cat"].value_counts(sort=False)
ax = vc.plot(kind="bar", figsize=(6,4))
ax.set_title("BMI 구간 분포")
ax.set_ylabel("명수")
for p, v in zip(ax.patches, vc.values):
    ax.text(p.get_x()+p.get_width()/2, p.get_height(), f"{v} ({v/vc.sum():.1%})",
            ha="center", va="bottom", fontsize=10)
plt.tight_layout()
plt.show()

import numpy as np
import pandas as pd

from sklearn.model_selection import train_test_split
from sklearn.compose import ColumnTransformer
from sklearn.pipeline import Pipeline
from sklearn.preprocessing import OneHotEncoder, StandardScaler
from sklearn.impute import SimpleImputer
from sklearn.linear_model import LogisticRegression
from sklearn.metrics import classification_report, roc_auc_score
import seaborn as sns


def run_my_analysis_no_bmi(
    data: pd.DataFrame,
    target: str = "churn",
    random_state: int = 42,
):
    
    # --- 사용할 컬럼 (BMI 제외) ---
    my_cols = [
        # --- 식생활 ---
        "nua_01z2",  # 아침식사빈도
        "nuc_02z1",  # 영양표시 인지여부
        "nuc_01z2",  # 영양표시 활용
        "nuc_03z1",  # 영양관심여부

        # --- 비만 및 체중조절 ---
        "oba_02z1",  # 신장(cm) -> 수치형
        "oba_03z1",  # 체중(kg) -> 수치형
        "obb_01z1",  # 운동 여부
        "obb_02a1", "obb_02b1", "obb_02c1", "obb_02d1",
        "obb_02e1", "obb_02f1", "obb_02g1", "obb_02h1", "obb_02i1",  # 체중조절방법(복수항목)

        # --- 구강건강 ---
        "ora_01z1",  # 구강건강자기평가
        "orb_01z1",  # 저작불편여부
        "ord_01d2",  # 점심후양치여부
        "ord_05z1",  # 점심후양치불가이유
        "ord_01f3",  # 저녁양치여부
        "ore_02z2",  # 치과진료미수진경험
        "ore_03z2",  # 치과미수진이유
        "ore_07z1",  # 스케일링경험
    ]

    # --- X, y 분리 ---
    X = data[my_cols].copy()
    y = data[target].copy()

    # --- 수치형/범주형을 '컬럼명'으로 명시 (자동판별 X) ---
    num_cols = ["oba_02z1", "oba_03z1"]               # 신장, 체중 → 수치형
    cat_cols = [c for c in my_cols if c not in num_cols]  # 나머지 전부 범주형

    # --- 인코더 버전 호환 처리 ---
    try:
        ohe = OneHotEncoder(handle_unknown="ignore", sparse_output=False)
    except TypeError:  # scikit-learn < 1.2
        ohe = OneHotEncoder(handle_unknown="ignore", sparse=False)

    # --- 전처리 파이프라인 ---
    numeric_pipe = Pipeline([
        ("imputer", SimpleImputer(strategy="median")),
        ("scaler", StandardScaler()),
    ])

    categorical_pipe = Pipeline([
        ("imputer", SimpleImputer(strategy="most_frequent")),
        ("ohe", ohe),
    ])

    preprocess = ColumnTransformer([
        ("num", numeric_pipe, num_cols),
        ("cat", categorical_pipe, cat_cols),
    ])

    # --- 모델 파이프라인 ---
    model = Pipeline([
        ("pre", preprocess),
        ("clf", LogisticRegression(max_iter=2000, random_state=random_state)),
    ])

    # --- 학습/검증 분할 ---
    X_train, X_test, y_train, y_test = train_test_split(
        X, y, test_size=0.2, stratify=y, random_state=random_state
    )

    # --- 학습 ---
    model.fit(X_train, y_train)

    # --- 예측/평가 ---
    y_pred = model.predict(X_test)
    # 이진 분류 가정: positive 확률
    if hasattr(model.named_steps["clf"], "predict_proba"):
        y_prob = model.predict_proba(X_test)[:, 1]
    else:
        # 확률을 지원하지 않는 경우 결정함수 점수 사용 (AUC 계산 가능)
        y_prob = model.decision_function(X_test)

    cls_report = classification_report(y_test, y_pred, digits=3)
    try:
        auc = roc_auc_score(y_test, y_prob)
    except Exception:
        # 다중분류거나 레이블 불균형 형식 문제가 있을 때 방어
        auc = np.nan

    print("\n [평가지표]")
    print(cls_report)
    print(f"ROC-AUC: {auc:.3f}" if not np.isnan(auc) else "ROC-AUC: n/a")

    # --- 피처 이름 안전 추출 ---
    pre = model.named_steps["pre"]

    # 수치 피처 이름 (그대로)
    num_features = np.array(num_cols, dtype=object)

    # 범주 피처 이름 (cat_cols가 비더라도 안전)
    cat_features = np.array([], dtype=object)
    if len(cat_cols) > 0:
        ohe_fitted = pre.named_transformers_["cat"].named_steps["ohe"]
        cat_features = ohe_fitted.get_feature_names_out(cat_cols)

    all_features = np.concatenate([num_features, cat_features], dtype=object)

    # --- 계수 추출 (로지스틱 회귀 전제) ---
    coefs = model.named_steps["clf"].coef_[0]
    # 계수 개수와 피처 개수 일치 방어
    if len(coefs) != len(all_features):
        # 드물지만, 선택/드랍 등으로 길이가 어긋나면 길이 맞춰 최소치로 자름
        min_len = min(len(coefs), len(all_features))
        coefs = coefs[:min_len]
        all_features = all_features[:min_len]

    feature_importance = pd.DataFrame({
        "Feature": all_features,
        "Coef": coefs,
        "AbsCoef": np.abs(coefs)
    }).sort_values("AbsCoef", ascending=False).reset_index(drop=True)

    print("\n [특성 중요도]")
    display_cols = ["Feature", "Coef", "AbsCoef"]
    print(feature_importance.loc[:14, display_cols])

    metrics = {
        "roc_auc": float(auc) if not np.isnan(auc) else None,
        "report": cls_report,
    }
    return model, feature_importance, metrics


# === 사용 예시 ===
model, feat_imp, metrics = run_my_analysis_no_bmi(data, target="churn", random_state=42)

import matplotlib.pyplot as plt
import seaborn as sns

# 상위 15개 피처 시각화
top_features = feat_imp.head(15)

plt.figure(figsize=(9, 6))
sns.barplot(
    data=top_features,
    x="AbsCoef",   # 중요도 크기 (절댓값)
    y="Feature",
    palette="viridis"
)

plt.title("특성 중요도 시각화", fontsize=13)
plt.xlabel("중요도", fontsize=11)
plt.ylabel("특성", fontsize=11)
plt.tight_layout()
plt.show()
