{
 "cells": [
  {
   "cell_type": "code",
   "execution_count": null,
   "id": "714e96c6",
   "metadata": {},
   "outputs": [],
   "source": [
    "# ==================================================\n",
    "# 내용: 영양표시 관련 피처 생성\n",
    "# 함수명: feature_nutrition_label\n",
    "# input : df_merge (DataFrame)\n",
    "# output: df_merge (DataFrame)\n",
    "# ==================================================\n",
    "def feature_nutrition_label(df_merge):\n",
    "    df = df_merge.copy()\n",
    "\n",
    "    # 1=예, 2=아니요 → 1, 0으로 변환\n",
    "    map_yn = {1: 1, 2: 0}\n",
    "\n",
    "    df[\"nutrition_awareness_bin\"] = df[\"nuc_02z1\"].map(map_yn)     \n",
    "    df[\"nutrition_interest_bin\"]  = df[\"nuc_03z1\"].map(map_yn)     \n",
    "    df[\"nutrition_use_bin\"]       = df[\"nuc_01z2\"].map(map_yn)     \n",
    "\n",
    "    return df\n"
   ]
  }
 ],
 "metadata": {
  "language_info": {
   "name": "python"
  }
 },
 "nbformat": 4,
 "nbformat_minor": 5
}
