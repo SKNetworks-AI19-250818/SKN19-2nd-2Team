{
 "cells": [
  {
   "cell_type": "markdown",
   "id": "94b0529e",
   "metadata": {},
   "source": [
    "피처통합데이터"
   ]
  },
  {
   "cell_type": "code",
   "execution_count": 1,
   "id": "9e04cff4",
   "metadata": {},
   "outputs": [
    {
     "ename": "ModuleNotFoundError",
     "evalue": "No module named 'preprocess'",
     "output_type": "error",
     "traceback": [
      "\u001b[31m---------------------------------------------------------------------------\u001b[39m",
      "\u001b[31mModuleNotFoundError\u001b[39m                       Traceback (most recent call last)",
      "\u001b[36mCell\u001b[39m\u001b[36m \u001b[39m\u001b[32mIn[1]\u001b[39m\u001b[32m, line 1\u001b[39m\n\u001b[32m----> \u001b[39m\u001b[32m1\u001b[39m \u001b[38;5;28;01mfrom\u001b[39;00m\u001b[38;5;250m \u001b[39m\u001b[34;01mpreprocess\u001b[39;00m\u001b[38;5;250m \u001b[39m\u001b[38;5;28;01mimport\u001b[39;00m preprocessing_data, featuring_data, drop_feature, make_target\n\u001b[32m      2\u001b[39m \u001b[38;5;28;01mfrom\u001b[39;00m\u001b[38;5;250m \u001b[39m\u001b[34;01mmodules\u001b[39;00m\u001b[34;01m.\u001b[39;00m\u001b[34;01mfeatures_ksh\u001b[39;00m\u001b[38;5;250m \u001b[39m\u001b[38;5;28;01mimport\u001b[39;00m feature_age_group, feature_is_single, feature_house_income, feature_dementia_case, feature_smoke_avg_per_day\n\u001b[32m      3\u001b[39m \u001b[38;5;28;01mfrom\u001b[39;00m\u001b[38;5;250m \u001b[39m\u001b[34;01mmodules\u001b[39;00m\u001b[34;01m.\u001b[39;00m\u001b[34;01mfeatures_mhs\u001b[39;00m\u001b[38;5;250m \u001b[39m\u001b[38;5;28;01mimport\u001b[39;00m feature_time_col\n",
      "\u001b[31mModuleNotFoundError\u001b[39m: No module named 'preprocess'"
     ]
    }
   ],
   "source": [
    "from preprocess import preprocessing_data, featuring_data, drop_feature, make_target\n",
    "from modules.features_ksh import feature_age_group, feature_is_single, feature_house_income, feature_dementia_case, feature_smoke_avg_per_day\n",
    "from modules.features_mhs import feature_time_col\n",
    "from modules.features_ohj import feature_education_group, feature_is_economically_active, feature_occupation_type, feature_is_employee, feature_marital_stability\n",
    "from modules.features_pdy import feature_weight_control_method, feature_activity_score_and_weight\n",
    "from modules.features_sangmin import apply_my_features\n",
    "\n",
    "from pathlib import Path\n",
    "ROOT_DIR = Path(\"\").resolve().parent.parent\n",
    "DATA_DIR = ROOT_DIR / \"data\"\n",
    "RAW_PATH = DATA_DIR / \"raw_data.csv\"\n",
    "DATA_PATH = DATA_DIR / \"analy_data_v2.csv\""
   ]
  },
  {
   "cell_type": "markdown",
   "id": "80a89abf",
   "metadata": {},
   "source": [
    "- 타겟 재생성 (rawdata > analy_data_v2)"
   ]
  },
  {
   "cell_type": "code",
   "execution_count": 17,
   "id": "f9d0d4eb",
   "metadata": {},
   "outputs": [
    {
     "data": {
      "text/plain": [
       "(89822, 210)"
      ]
     },
     "execution_count": 17,
     "metadata": {},
     "output_type": "execute_result"
    }
   ],
   "source": [
    "df = make_target(RAW_PATH)\n",
    "df.shape"
   ]
  },
  {
   "cell_type": "code",
   "execution_count": null,
   "id": "8b4c3384",
   "metadata": {},
   "outputs": [],
   "source": [
    "df.churn.value_counts()"
   ]
  },
  {
   "cell_type": "markdown",
   "id": "bafe1576",
   "metadata": {},
   "source": [
    "- 공통 전처리"
   ]
  },
  {
   "cell_type": "code",
   "execution_count": 2,
   "id": "330b0ed6",
   "metadata": {},
   "outputs": [
    {
     "name": "stdout",
     "output_type": "stream",
     "text": [
      "(전처리)데이터 크기: (89822, 75) (2개 제외)\n"
     ]
    },
    {
     "data": {
      "text/plain": [
       "(89822, 75)"
      ]
     },
     "execution_count": 2,
     "metadata": {},
     "output_type": "execute_result"
    }
   ],
   "source": [
    "df_merge = preprocessing_data(DATA_PATH)\n",
    "df_merge.shape"
   ]
  },
  {
   "cell_type": "markdown",
   "id": "6ac3fc3e",
   "metadata": {},
   "source": [
    "- 피처생성 & 삭제"
   ]
  },
  {
   "cell_type": "code",
   "execution_count": 3,
   "id": "aff4d9fc",
   "metadata": {},
   "outputs": [
    {
     "data": {
      "text/plain": [
       "(89822, 105)"
      ]
     },
     "execution_count": 3,
     "metadata": {},
     "output_type": "execute_result"
    }
   ],
   "source": [
    "df_merge = featuring_data(df_merge)\n",
    "df_merge.shape"
   ]
  },
  {
   "cell_type": "code",
   "execution_count": 4,
   "id": "7423028e",
   "metadata": {},
   "outputs": [
    {
     "data": {
      "text/plain": [
       "(89822, 83)"
      ]
     },
     "execution_count": 4,
     "metadata": {},
     "output_type": "execute_result"
    }
   ],
   "source": [
    "df_merge = drop_feature(df_merge)\n",
    "df_merge.shape"
   ]
  },
  {
   "cell_type": "markdown",
   "id": "a332ad5b",
   "metadata": {},
   "source": [
    "- 피처 전처리 완료 데이터셋 저장"
   ]
  },
  {
   "cell_type": "code",
   "execution_count": 5,
   "id": "7b9b50dc",
   "metadata": {},
   "outputs": [],
   "source": [
    "PREP_PATH = DATA_DIR / \"prep_data_v2.csv\" # analy_data와 파일명 버전 맞춤 \n",
    "df_merge.to_csv(PREP_PATH, index=False, encoding='utf-8-sig')"
   ]
  },
  {
   "cell_type": "markdown",
   "id": "6617ffb5",
   "metadata": {},
   "source": [
    "---"
   ]
  },
  {
   "cell_type": "markdown",
   "id": "3a2e71a1",
   "metadata": {},
   "source": [
    "- 확인 O"
   ]
  },
  {
   "cell_type": "code",
   "execution_count": null,
   "id": "fb3da64c",
   "metadata": {},
   "outputs": [
    {
     "data": {
      "text/plain": [
       "(89822, 89)"
      ]
     },
     "execution_count": 19,
     "metadata": {},
     "output_type": "execute_result"
    }
   ],
   "source": [
    "df_merge = preprocessing_data(DATA_PATH)\n",
    "\n",
    "# 개별 피처 코드 동작 확인\n",
    "df_merge = feature_age_group(df_merge)\n",
    "df_merge = feature_is_single(df_merge)\n",
    "df_merge = feature_house_income(df_merge)\n",
    "df_merge = feature_dementia_case(df_merge)\n",
    "df_merge = feature_smoke_avg_per_day(df_merge)\n",
    "df_merge = feature_time_col(df_merge)\n",
    "df_merge = feature_education_group(df_merge)\n",
    "df_merge = feature_is_economically_active(df_merge)\n",
    "df_merge = feature_occupation_type(df_merge)\n",
    "df_merge = feature_is_employee(df_merge)\n",
    "df_merge = feature_weight_control_method(df_merge)\n",
    "df_merge = feature_activity_score_and_weight(df_merge)\n",
    "df_merge = apply_my_features(df_merge) \n",
    "df_merge = feature_marital_stability(df_merge)\n",
    "df_merge.shape"
   ]
  },
  {
   "cell_type": "markdown",
   "id": "aca158e1",
   "metadata": {},
   "source": [
    "- 확인 X"
   ]
  }
 ],
 "metadata": {
  "kernelspec": {
   "display_name": "ml_env",
   "language": "python",
   "name": "python3"
  },
  "language_info": {
   "codemirror_mode": {
    "name": "ipython",
    "version": 3
   },
   "file_extension": ".py",
   "mimetype": "text/x-python",
   "name": "python",
   "nbconvert_exporter": "python",
   "pygments_lexer": "ipython3",
   "version": "3.12.11"
  }
 },
 "nbformat": 4,
 "nbformat_minor": 5
}
