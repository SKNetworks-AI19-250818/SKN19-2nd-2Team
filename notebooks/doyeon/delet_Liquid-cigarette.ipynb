{
 "cells": [
  {
   "cell_type": "code",
   "execution_count": 1,
   "id": "c90f6a04",
   "metadata": {},
   "outputs": [],
   "source": [
    "import numpy as np\n",
    "import pandas as pd"
   ]
  },
  {
   "cell_type": "code",
   "execution_count": 22,
   "id": "b70fbbcd",
   "metadata": {},
   "outputs": [],
   "source": [
    "raw_df = pd.read_csv('../../data/raw_data.csv')"
   ]
  },
  {
   "cell_type": "code",
   "execution_count": null,
   "id": "cc55ef9b",
   "metadata": {},
   "outputs": [
    {
     "data": {
      "text/html": [
       "<div>\n",
       "<style scoped>\n",
       "    .dataframe tbody tr th:only-of-type {\n",
       "        vertical-align: middle;\n",
       "    }\n",
       "\n",
       "    .dataframe tbody tr th {\n",
       "        vertical-align: top;\n",
       "    }\n",
       "\n",
       "    .dataframe thead th {\n",
       "        text-align: right;\n",
       "    }\n",
       "</style>\n",
       "<table border=\"1\" class=\"dataframe\">\n",
       "  <thead>\n",
       "    <tr style=\"text-align: right;\">\n",
       "      <th></th>\n",
       "      <th>EXAMIN_YEAR</th>\n",
       "      <th>exmprs_no</th>\n",
       "      <th>age</th>\n",
       "      <th>sex</th>\n",
       "      <th>CTPRVN_CODE</th>\n",
       "      <th>PBHLTH_CODE</th>\n",
       "      <th>SPOT_NO</th>\n",
       "      <th>HSHLD_CODE</th>\n",
       "      <th>MBHLD_CODE</th>\n",
       "      <th>DONG_TY_CODE</th>\n",
       "      <th>...</th>\n",
       "      <th>cpr_02z1</th>\n",
       "      <th>cpr_03a2</th>\n",
       "      <th>cpr_03b2</th>\n",
       "      <th>cpr_04z1</th>\n",
       "      <th>sob_01z1</th>\n",
       "      <th>sob_02z1</th>\n",
       "      <th>soa_01z1</th>\n",
       "      <th>soa_06z2</th>\n",
       "      <th>soa_07z1</th>\n",
       "      <th>sod_02z3</th>\n",
       "    </tr>\n",
       "  </thead>\n",
       "  <tbody>\n",
       "  </tbody>\n",
       "</table>\n",
       "<p>0 rows × 209 columns</p>\n",
       "</div>"
      ],
      "text/plain": [
       "Empty DataFrame\n",
       "Columns: [EXAMIN_YEAR, exmprs_no, age, sex, CTPRVN_CODE, PBHLTH_CODE, SPOT_NO, HSHLD_CODE, MBHLD_CODE, DONG_TY_CODE, HOUSE_TY_CODE, signgu_code, kstrata, wt_h, wt_p, mbhld_co, reside_adult_co, fma_19z3, fma_04z1, fma_12z1, fma_13z1, fma_14z1, fma_24z2, nue_01z1, fma_27z1, fma_26z1, qoa_01z1, smf_01z1, sma_01z1, sma_03z2, smb_01z1, smb_02z1, smb_03z1, smb_04z1, smb_05z1, smb_06z1, smb_09z1, sma_36z1, sma_37z1, smb_11z1, smb_12z1, smb_13z1, sma_08z1, sma_11z2, sma_12z2, smd_02z3, smd_01z3, smc_08z2, smc_09z2, smc_10z2, dra_01z1, drb_01z3, drb_03z1, drb_16z1, drb_04z1, drb_05z1, drg_01z3, dre_03z1, dre_04z1, sfa_02z3, sfb_05z2, sfa_12z2, sfb_07z1, sfa_06z2, sfb_03z2, sfa_08z2, pha_04z1, pha_05z1, pha_06z1, pha_07z1, pha_08z1, pha_09z1, phb_01z1, phb_02z1, phb_03z1, pha_11z1, nua_01z2, nuc_02z1, nuc_01z2, nuc_03z1, oba_02z1, oba_03z1, oba_bmi, oba_01z1, obb_01z1, obb_02a1, obb_02b1, obb_02c1, obb_02k1, obb_02d1, obb_02e1, obb_02f1, obb_02g1, obb_02h1, obb_02i1, cva_11z2, cva_12z1, cva_14z2, cva_16z2, cva_17z1, ...]\n",
       "Index: []\n",
       "\n",
       "[0 rows x 209 columns]"
      ]
     },
     "execution_count": 28,
     "metadata": {},
     "output_type": "execute_result"
    }
   ],
   "source": [
    "raw_df[((raw_df['sma_03z2'] > 3.0) & (raw_df['sma_12z2'] > 2.0) & (raw_df['sma_37z1'] > 3.0) & (raw_df['sma_01z1']==1))]\n",
    "# 일반, 그외, 전자담배를 모두 피워본 적 없고 액상형을 피워본 사람 -> 존재 x\n",
    "# 즉, 액상형만 피워왔던 row는 raw_data에서도 표본없음"
   ]
  },
  {
   "cell_type": "code",
   "execution_count": 42,
   "id": "3e9be369",
   "metadata": {},
   "outputs": [],
   "source": [
    "df = pd.read_csv('../../data/analy_data.csv')"
   ]
  },
  {
   "cell_type": "code",
   "execution_count": 43,
   "id": "9cc09442",
   "metadata": {},
   "outputs": [],
   "source": [
    "df[[\"sma_08z1\"]].value_counts()#, \"sma_11z2\"]]\n",
    "\n",
    "# 9 모름 -> 2 아니오로 처리\n",
    "df.loc[df[\"sma_08z1\"] == 9, 'sma_08z1'] = 2.0"
   ]
  },
  {
   "cell_type": "code",
   "execution_count": 45,
   "id": "7d2bbbba",
   "metadata": {},
   "outputs": [
    {
     "data": {
      "text/plain": [
       "sma_08z1  churn\n",
       "2.0       1        46103\n",
       "          0        33278\n",
       "1.0       0         7293\n",
       "          1         3148\n",
       "Name: count, dtype: int64"
      ]
     },
     "execution_count": 45,
     "metadata": {},
     "output_type": "execute_result"
    }
   ],
   "source": [
    "df[['sma_08z1', 'churn']].value_counts()"
   ]
  },
  {
   "cell_type": "code",
   "execution_count": null,
   "id": "9dd8c2dd",
   "metadata": {},
   "outputs": [
    {
     "data": {
      "text/plain": [
       "sma_08z1  sma_11z2  churn\n",
       "2.0       88.0      1        46100\n",
       "1.0       0.0       1         1762\n",
       "          30.0      1          615\n",
       "          31.0      1          461\n",
       "          10.0      1           48\n",
       "          15.0      1           48\n",
       "          20.0      1           45\n",
       "          1.0       1           44\n",
       "          5.0       1           28\n",
       "          3.0       1           20\n",
       "          2.0       1           20\n",
       "          7.0       1           19\n",
       "          25.0      1           15\n",
       "          4.0       1            7\n",
       "          14.0      1            6\n",
       "2.0       99.0      1            3\n",
       "1.0       6.0       1            2\n",
       "          12.0      1            2\n",
       "          28.0      1            2\n",
       "          22.0      1            1\n",
       "          8.0       1            1\n",
       "          29.0      1            1\n",
       "          27.0      1            1\n",
       "Name: count, dtype: int64"
      ]
     },
     "execution_count": 31,
     "metadata": {},
     "output_type": "execute_result"
    }
   ],
   "source": [
    "df[df['churn']==1][['sma_08z1', 'sma_11z2', 'churn']].value_counts()\n",
    "# 금연 성공자라고 지정한 row 중 한 달 이내 액상형을 며칠 피웠는지 값에 대한 개수 출력\n",
    "\n",
    "# 액상형을 피워봤고(1), 금연자(1)인 row만 문제됨. 모든 담배의 금연에 성공했을지 미지수이므로.\n",
    "# (1) 액상형을 피워봤으면 모두 churn을 0으로 변경 -> 액상형을 피워봤으면 무조건 금연실패로 간주하는 것과 같음. -> X\n",
    "# (2) 애매한 해당 row만 제거 -> churn 정확도는 확실해짐 -> Liquid_method1() 함수화\n",
    "# (3) 액상형 피워봤고, 최근 한 달 동안 피운 일수가 0을 초과하면 churn을 0으로 변경 -> Liquid_method2() 함수화\n",
    "#     단, 금연 기준 '30일'이 다른 피쳐에도 적용될 수 있는가에 대한 문제. 설문에서 흡연자에게 '최근 한 달 동안'을 물으므로 명분 있음"
   ]
  },
  {
   "cell_type": "code",
   "execution_count": null,
   "id": "8e5bcff2",
   "metadata": {},
   "outputs": [],
   "source": [
    "# 액상형을 피워봤는데 churn이 1이라 애매한 row 모두 제거. 3,148건 제거됨\n",
    "def Liquid_method1(df_merge):\n",
    "    # 9 모름 -> 2 아니오로 처리\n",
    "    df_merge.loc[df_merge[\"sma_08z1\"] == 9, 'sma_08z1'] = 2.0\n",
    "    df_merge = df_merge[~((df_merge['sma_08z1']==1) & (df_merge['churn']==1))]\n",
    "    return df_merge\n",
    "\n",
    "\n",
    "# 액상형 피워봤고, 최근 한 달 동안 피운 일수가 0을 초과하는데 churn이 1이면 0으로 변경\n",
    "def Liquid_method2(df_merge):\n",
    "    # 9 모름 -> 2 아니오로 처리\n",
    "    df_merge.loc[df_merge[\"sma_08z1\"] == 9, 'sma_08z1'] = 2.0\n",
    "    df_merge.loc[(df_merge['sma_08z1'] == 1) & (df_merge['sma_11z2'] != 0) & (df_merge['churn'] == 1), 'churn'] = 0\n",
    "    return df_merge"
   ]
  },
  {
   "cell_type": "code",
   "execution_count": 33,
   "id": "5042c144",
   "metadata": {},
   "outputs": [],
   "source": [
    "df_test1 = Liquid_method1(df)\n",
    "df_test2 = Liquid_method2(df)"
   ]
  },
  {
   "cell_type": "code",
   "execution_count": null,
   "id": "68ebdff8",
   "metadata": {},
   "outputs": [
    {
     "data": {
      "text/plain": [
       "sma_08z1  churn\n",
       "2.0       1        46103\n",
       "          0        33278\n",
       "1.0       0         7293\n",
       "Name: count, dtype: int64"
      ]
     },
     "execution_count": 38,
     "metadata": {},
     "output_type": "execute_result"
    }
   ],
   "source": [
    "df_test1[['sma_08z1', 'churn']].value_counts() # (1, 1)인 row 모조리 제거했을 때"
   ]
  },
  {
   "cell_type": "code",
   "execution_count": null,
   "id": "c9284884",
   "metadata": {},
   "outputs": [
    {
     "data": {
      "text/plain": [
       "sma_08z1  sma_11z2  churn\n",
       "2.0       88.0      1        46100\n",
       "                    0        33276\n",
       "1.0       0.0       0         3718\n",
       "          30.0      0         1813\n",
       "          0.0       1         1762\n",
       "          31.0      0          984\n",
       "          10.0      0          321\n",
       "          1.0       0          319\n",
       "          20.0      0          265\n",
       "          15.0      0          250\n",
       "          2.0       0          224\n",
       "          5.0       0          203\n",
       "          3.0       0          175\n",
       "          7.0       0          161\n",
       "          25.0      0           71\n",
       "          4.0       0           62\n",
       "          14.0      0           33\n",
       "          8.0       0           16\n",
       "          12.0      0           12\n",
       "          6.0       0           11\n",
       "          28.0      0            8\n",
       "          99.0      0            8\n",
       "          18.0      0            4\n",
       "          21.0      0            3\n",
       "2.0       99.0      1            3\n",
       "1.0       22.0      0            2\n",
       "          9.0       0            2\n",
       "          26.0      0            2\n",
       "          13.0      0            2\n",
       "          16.0      0            2\n",
       "2.0       99.0      0            2\n",
       "1.0       29.0      0            2\n",
       "          17.0      0            1\n",
       "          11.0      0            1\n",
       "          27.0      0            1\n",
       "          24.0      0            1\n",
       "          23.0      0            1\n",
       "          77.0      0            1\n",
       "Name: count, dtype: int64"
      ]
     },
     "execution_count": 40,
     "metadata": {},
     "output_type": "execute_result"
    }
   ],
   "source": [
    "df_test2[['sma_08z1', 'sma_11z2', 'churn']].value_counts() # 조건에 부합하는 churn만 0으로 바꿨을 때"
   ]
  },
  {
   "cell_type": "code",
   "execution_count": null,
   "id": "2755af34",
   "metadata": {},
   "outputs": [
    {
     "name": "stdout",
     "output_type": "stream",
     "text": [
      "churn\n",
      "1    46103\n",
      "0    40571\n",
      "Name: count, dtype: int64 churn\n",
      "1    47865\n",
      "0    41957\n",
      "Name: count, dtype: int64\n"
     ]
    }
   ],
   "source": [
    "print(df_test1['churn'].value_counts(), df_test2['churn'].value_counts()) # 각 df의 churn 데이터 개수"
   ]
  }
 ],
 "metadata": {
  "kernelspec": {
   "display_name": "ml_env",
   "language": "python",
   "name": "python3"
  },
  "language_info": {
   "codemirror_mode": {
    "name": "ipython",
    "version": 3
   },
   "file_extension": ".py",
   "mimetype": "text/x-python",
   "name": "python",
   "nbconvert_exporter": "python",
   "pygments_lexer": "ipython3",
   "version": "3.12.11"
  }
 },
 "nbformat": 4,
 "nbformat_minor": 5
}
