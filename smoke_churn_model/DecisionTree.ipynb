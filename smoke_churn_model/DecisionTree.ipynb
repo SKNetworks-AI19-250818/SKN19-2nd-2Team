{
 "cells": [
  {
   "cell_type": "code",
   "execution_count": null,
   "id": "1474dc69",
   "metadata": {},
   "outputs": [],
   "source": [
    "# 최종 학습/검증 실행 코드"
   ]
  }
 ],
 "metadata": {
  "language_info": {
   "name": "python"
  }
 },
 "nbformat": 4,
 "nbformat_minor": 5
}
