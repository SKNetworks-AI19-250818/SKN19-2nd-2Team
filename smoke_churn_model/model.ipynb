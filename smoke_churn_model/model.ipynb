{
 "cells": [
  {
   "cell_type": "code",
   "execution_count": null,
   "id": "1474dc69",
   "metadata": {},
   "outputs": [],
   "source": [
    "# 데이터 생성 및 최종 모델 학습 / 검증 / 예측 full code (main)"
   ]
  },
  {
   "cell_type": "code",
   "execution_count": 1,
   "id": "bfdd3ab8",
   "metadata": {},
   "outputs": [
    {
     "name": "stdout",
     "output_type": "stream",
     "text": [
      "프로젝트 루트 경로: C:\\SKN_19\\프로젝트\\SKN19-2nd-2Team\n",
      "원천 데이터: C:\\SKN_19\\프로젝트\\SKN19-2nd-2Team\\data\\raw_data.csv\n",
      "라벨 포함 분석 데이터: C:\\SKN_19\\프로젝트\\SKN19-2nd-2Team\\data\\analy_data_v2.csv\n",
      "라벨 포함 전처리 데이터: C:\\SKN_19\\프로젝트\\SKN19-2nd-2Team\\data\\prep_data_v2.csv\n",
      "컬럼 관리 json 파일: C:\\SKN_19\\프로젝트\\SKN19-2nd-2Team\\smoke_churn_model\\resource\\columns.json\n",
      "모델 경로: C:\\SKN_19\\프로젝트\\SKN19-2nd-2Team\\smoke_churn_model\\resource\n",
      "(전처리)데이터 크기: (89822, 75) (2개 제외)\n"
     ]
    }
   ],
   "source": [
    "import os\n",
    "import sys\n",
    "import json\n",
    "import pandas as pd\n",
    "import numpy as np\n",
    "\n",
    "# 커스텀 모듈 경로\n",
    "from modules.config import ROOT_DIR, DATA_DIR, MODEL_DIR\n",
    "from modules.preprocess import preprocessing_data, featuring_data, drop_feature, make_target\n",
    "\n",
    "# 경로 설정\n",
    "RAW_FILE = DATA_DIR / \"raw_data.csv\"\n",
    "ANAL_FILE =  DATA_DIR / \"analy_data_v2.csv\"\n",
    "PREP_FILE = DATA_DIR / \"prep_data_v2.csv\" \n",
    "JSON_FILE = ROOT_DIR / \"smoke_churn_model\" / \"resource\" / \"columns.json\"\n",
    "\n",
    "print(f\"프로젝트 루트 경로: {ROOT_DIR}\")\n",
    "print(f\"원천 데이터: {RAW_FILE}\")\n",
    "print(f\"라벨 포함 분석 데이터: {ANAL_FILE}\")\n",
    "print(f\"라벨 포함 전처리 데이터: {PREP_FILE}\")\n",
    "print(f\"컬럼 관리 json 파일: {JSON_FILE}\")\n",
    "print(f\"모델 경로: {MODEL_DIR}\\n\")\n",
    "\n",
    "# 데이터 전처리 파이프라인\n",
    "# 1. 타겟 생성\n",
    "# df = make_target(RAW_FILE)\n",
    "# 2. 전처리\n",
    "prep_df = preprocessing_data(ANAL_FILE)\n",
    "# 3. 피처생성\n",
    "prep_df = featuring_data(prep_df)\n",
    "# 4. 피처드롭\n",
    "prep_df = drop_feature(prep_df)\n",
    "# 5. 전처리 데이터 저장\n",
    "# prep_df.to_csv(PREP_FILE, index=False, encoding='utf-8-sig') # analy_data와 파일명 버전 맞추기\n",
    "\n",
    "# 최종모델불러오기\n",
    "# 예측\n",
    "# 평가\n",
    "# 모델결과\n",
    "# 최종피처분석결과"
   ]
  },
  {
   "cell_type": "code",
   "execution_count": null,
   "id": "772a709c",
   "metadata": {},
   "outputs": [],
   "source": []
  }
 ],
 "metadata": {
  "kernelspec": {
   "display_name": "ml_env",
   "language": "python",
   "name": "python3"
  },
  "language_info": {
   "codemirror_mode": {
    "name": "ipython",
    "version": 3
   },
   "file_extension": ".py",
   "mimetype": "text/x-python",
   "name": "python",
   "nbconvert_exporter": "python",
   "pygments_lexer": "ipython3",
   "version": "3.12.11"
  }
 },
 "nbformat": 4,
 "nbformat_minor": 5
}
